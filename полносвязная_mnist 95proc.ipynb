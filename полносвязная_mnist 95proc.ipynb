{
  "cells": [
    {
      "cell_type": "markdown",
      "metadata": {
        "id": "KheM9bdvRJC2"
      },
      "source": [
        "## Импорты"
      ]
    },
    {
      "cell_type": "code",
      "execution_count": null,
      "metadata": {
        "id": "DWr6cvb9pS3J"
      },
      "outputs": [],
      "source": [
        "import torch\n",
        "from torch import nn\n",
        "from torch import optim\n",
        "\n",
        "from IPython.display import clear_output\n",
        "import random\n",
        "import numpy as np\n",
        "import matplotlib.pyplot as plt\n",
        "\n",
        "plt.style.use('ggplot')"
      ]
    },
    {
      "cell_type": "markdown",
      "metadata": {
        "id": "8oA_nuENcFnQ"
      },
      "source": [
        "## Вспомогательный код"
      ]
    },
    {
      "cell_type": "markdown",
      "metadata": {
        "id": "4jAwy4XBc2YS"
      },
      "source": [
        "Просто запустить"
      ]
    },
    {
      "cell_type": "code",
      "execution_count": null,
      "metadata": {
        "id": "dFjoXlmJYyJJ"
      },
      "outputs": [],
      "source": [
        "#@title \n",
        "def show_mnist(images, labels, predicted_labels=None):\n",
        "    plt.figure(figsize=(10,10))\n",
        "    for i in range(16):\n",
        "        plt.subplot(4,4, i+1)\n",
        "        plt.xticks([])\n",
        "        plt.yticks([])\n",
        "        plt.grid(False)\n",
        "        plt.imshow(images[i], cmap=plt.cm.gray)\n",
        "        if predicted_labels is not None:\n",
        "            title_obj = plt.title(f\"Real: {labels[i]}. Pred: {predicted_labels[i]}\")\n",
        "            if labels[i] != predicted_labels[i]:\n",
        "                plt.setp(title_obj, color='r')\n",
        "        else:\n",
        "            plt.title(f\"Real label: {labels[i]}\")\n",
        "\n",
        "def show_progress(train_loss, test_loss, train_acc, test_acc):\n",
        "        clear_output()\n",
        "        plt.figure(figsize=(13,6))\n",
        "        plt.subplot(121)\n",
        "        plt.plot(train_loss, label='Тренировка')\n",
        "        plt.plot(test_loss, label='Валидация')\n",
        "        plt.title('Функция потерь')\n",
        "        plt.xlabel('Эпоха')\n",
        "        plt.legend()\n",
        "\n",
        "        plt.subplot(122)\n",
        "        plt.plot(train_acc, label='Тренировка')\n",
        "        plt.plot(test_acc, label='Валидация')\n",
        "        plt.title('Точность')\n",
        "        plt.xlabel('Эпоха')\n",
        "        plt.legend()\n",
        "        plt.show()"
      ]
    },
    {
      "cell_type": "markdown",
      "metadata": {
        "id": "nL_nICZ4cMOx"
      },
      "source": [
        "## Загрузка данных"
      ]
    },
    {
      "cell_type": "code",
      "execution_count": null,
      "metadata": {
        "id": "MqGQWTDIpS3R"
      },
      "outputs": [],
      "source": [
        "import torchvision.datasets\n",
        "MNIST_train = torchvision.datasets.MNIST('./', download=True, train=True)\n",
        "MNIST_test = torchvision.datasets.MNIST('./', download=True, train=False)\n",
        "\n",
        "X_train = MNIST_train.data / 255 # нормируем от 0 до 1\n",
        "y_train = MNIST_train.targets\n",
        "\n",
        "X_test = MNIST_test.data / 255\n",
        "y_test = MNIST_test.targets"
      ]
    },
    {
      "cell_type": "code",
      "execution_count": null,
      "metadata": {
        "colab": {
          "base_uri": "https://localhost:8080/"
        },
        "id": "hMhsAedlrQF5",
        "outputId": "d3e743bb-9b39-4b86-9fbf-a1658a0a9bde"
      },
      "outputs": [
        {
          "output_type": "execute_result",
          "data": {
            "text/plain": [
              "(torch.float32, torch.int64)"
            ]
          },
          "metadata": {},
          "execution_count": 47
        }
      ],
      "source": [
        "X_train.dtype, y_train.dtype"
      ]
    },
    {
      "cell_type": "markdown",
      "source": [
        "#Нужно привести дату к формату работу со сверткой :"
      ],
      "metadata": {
        "id": "Ge3PyDBflUpO"
      }
    },
    {
      "cell_type": "code",
      "execution_count": null,
      "metadata": {
        "colab": {
          "base_uri": "https://localhost:8080/"
        },
        "id": "_gfupg4kpS3X",
        "outputId": "315dda7d-4694-435b-d89f-e278df7dd852"
      },
      "outputs": [
        {
          "output_type": "execute_result",
          "data": {
            "text/plain": [
              "(torch.Size([60000, 28, 28]), torch.Size([10000, 28, 28]))"
            ]
          },
          "metadata": {},
          "execution_count": 48
        }
      ],
      "source": [
        "X_train.shape, X_test.shape"
      ]
    },
    {
      "cell_type": "code",
      "source": [
        "X_train_conv = X_train.unsqueeze(1).float()"
      ],
      "metadata": {
        "id": "qaUGNHcploff"
      },
      "execution_count": null,
      "outputs": []
    },
    {
      "cell_type": "markdown",
      "source": [
        "[батч размерность ( сколько элементов) , кол-во каналов , высота картинки , ширина картинки]"
      ],
      "metadata": {
        "id": "0UwlWzTUmGaS"
      }
    },
    {
      "cell_type": "code",
      "source": [
        "X_train_conv.shape"
      ],
      "metadata": {
        "colab": {
          "base_uri": "https://localhost:8080/"
        },
        "id": "x7N-uHkwl0tn",
        "outputId": "4013a6ac-3381-480f-887b-9e74296b28a6"
      },
      "execution_count": null,
      "outputs": [
        {
          "output_type": "execute_result",
          "data": {
            "text/plain": [
              "torch.Size([60000, 1, 28, 28])"
            ]
          },
          "metadata": {},
          "execution_count": 50
        }
      ]
    },
    {
      "cell_type": "code",
      "execution_count": null,
      "metadata": {
        "colab": {
          "base_uri": "https://localhost:8080/"
        },
        "id": "zEC1RXBEz_SW",
        "outputId": "d966ae41-d59f-4411-d3ba-a6da92fd75ed"
      },
      "outputs": [
        {
          "output_type": "execute_result",
          "data": {
            "text/plain": [
              "(torch.Size([60000]), torch.Size([10000]))"
            ]
          },
          "metadata": {},
          "execution_count": 39
        }
      ],
      "source": [
        "y_train.shape, y_test.shape"
      ]
    },
    {
      "cell_type": "code",
      "execution_count": null,
      "metadata": {
        "colab": {
          "base_uri": "https://localhost:8080/",
          "height": 595
        },
        "id": "Z1tFXMwJpS3e",
        "outputId": "48e39807-5ced-4e1d-accd-c61ba958197a"
      },
      "outputs": [
        {
          "output_type": "display_data",
          "data": {
            "text/plain": [
              "<Figure size 720x720 with 16 Axes>"
            ],
            "image/png": "[encoded data removed]"
          },
          "metadata": {}
        }
      ],
      "source": [
        "show_mnist(X_train, y_train)"
      ]
    },
    {
      "cell_type": "code",
      "source": [
        "X_train_conv.shape"
      ],
      "metadata": {
        "colab": {
          "base_uri": "https://localhost:8080/"
        },
        "id": "q_3xhe89p_Ik",
        "outputId": "0f533120-d75e-45f2-acd8-35ad94c1f2c9"
      },
      "execution_count": null,
      "outputs": [
        {
          "output_type": "execute_result",
          "data": {
            "text/plain": [
              "torch.Size([60000, 1, 28, 28])"
            ]
          },
          "metadata": {},
          "execution_count": 51
        }
      ]
    },
    {
      "cell_type": "markdown",
      "metadata": {
        "id": "MR0Mbrzvh_FH"
      },
      "source": [
        "## Архитектура нейросети"
      ]
    },
    {
      "cell_type": "code",
      "execution_count": null,
      "metadata": {
        "id": "k7l65slppS3l"
      },
      "outputs": [],
      "source": [
        "class MNISTNet(nn.Module):\n",
        "    def __init__(self, n_hidden_neurons):\n",
        "        super().__init__()\n",
        "\n",
        "        self.fc1 = nn.Linear(28 * 28, n_hidden_neurons)\n",
        "        self.act1 = nn.Sigmoid()\n",
        "        self.fc2 = nn.Linear(n_hidden_neurons, n_hidden_neurons)\n",
        "        self.act2 = nn.Sigmoid()\n",
        "        # self.fc3 = nn.Linear(n_hidden_neurons, n_hidden_neurons)\n",
        "        # self.act3 = nn.Sigmoid()\n",
        "        self.fc4 = nn.Linear(n_hidden_neurons, 10)\n",
        "        self.sm = nn.Softmax(dim=1) # правильный ли выход?\n",
        "    \n",
        "    def forward(self, x):\n",
        "        x = self.fc1(x)\n",
        "        x = self.act1(x)\n",
        "        # и тут не забыть добавить\n",
        "        x = self.fc2(x)\n",
        "        x = self.act2(x)\n",
        "        # x = self.fc3(x)\n",
        "        # x = self.act3(x)\n",
        "        x = self.fc4(x)\n",
        "        x = x.squeeze(1) # ! эту строчку убирать не надо\n",
        "        return x\n",
        "    \n",
        "    def inference(self,x):\n",
        "      x = self.forward(x)\n",
        "      x = self.sm(x)\n",
        "      return x\n",
        "\n",
        "n_hidden_neurons = 101 # достаточно ли такого числа нейронов?\n",
        "mnist_net = MNISTNet(n_hidden_neurons)"
      ]
    },
    {
      "cell_type": "markdown",
      "metadata": {
        "id": "mtbUOW98e6Xr"
      },
      "source": [
        "###Проверим, доступна ли CUDA"
      ]
    },
    {
      "cell_type": "code",
      "execution_count": null,
      "metadata": {
        "colab": {
          "base_uri": "https://localhost:8080/"
        },
        "id": "FJp7t3dR0pC5",
        "outputId": "ba998741-3912-42f2-decd-5a10a909765e"
      },
      "outputs": [
        {
          "output_type": "execute_result",
          "data": {
            "text/plain": [
              "True"
            ]
          },
          "metadata": {},
          "execution_count": 11
        }
      ],
      "source": [
        "torch.cuda.is_available()"
      ]
    },
    {
      "cell_type": "code",
      "execution_count": null,
      "metadata": {
        "colab": {
          "base_uri": "https://localhost:8080/"
        },
        "id": "ShQDv_w-0rz8",
        "outputId": "81261c62-9649-4df2-efa2-16cf6fae9652"
      },
      "outputs": [
        {
          "output_type": "stream",
          "name": "stdout",
          "text": [
            "Tue Jun 14 22:11:57 2022       \n",
            "+-----------------------------------------------------------------------------+\n",
            "| NVIDIA-SMI 460.32.03    Driver Version: 460.32.03    CUDA Version: 11.2     |\n",
            "|-------------------------------+----------------------+----------------------+\n",
            "| GPU  Name        Persistence-M| Bus-Id        Disp.A | Volatile Uncorr. ECC |\n",
            "| Fan  Temp  Perf  Pwr:Usage/Cap|         Memory-Usage | GPU-Util  Compute M. |\n",
            "|                               |                      |               MIG M. |\n",
            "|===============================+======================+======================|\n",
            "|   0  Tesla T4            Off  | 00000000:00:04.0 Off |                    0 |\n",
            "| N/A   42C    P8    10W /  70W |      3MiB / 15109MiB |      0%      Default |\n",
            "|                               |                      |                  N/A |\n",
            "+-------------------------------+----------------------+----------------------+\n",
            "                                                                               \n",
            "+-----------------------------------------------------------------------------+\n",
            "| Processes:                                                                  |\n",
            "|  GPU   GI   CI        PID   Type   Process name                  GPU Memory |\n",
            "|        ID   ID                                                   Usage      |\n",
            "|=============================================================================|\n",
            "|  No running processes found                                                 |\n",
            "+-----------------------------------------------------------------------------+\n"
          ]
        }
      ],
      "source": [
        "!nvidia-smi"
      ]
    },
    {
      "cell_type": "code",
      "execution_count": null,
      "metadata": {
        "id": "8xTaHL6Kh3fY"
      },
      "outputs": [],
      "source": [
        "device = torch.device('cuda:0' if torch.cuda.is_available() else 'cpu')\n",
        "mnist_net = mnist_net.to(device)\n",
        "\n",
        "X_test = X_test.to(device)\n",
        "y_test = y_test.to(device)"
      ]
    },
    {
      "cell_type": "markdown",
      "metadata": {
        "id": "NKwoHfM7hzuw"
      },
      "source": [
        "###Параметры нейросети"
      ]
    },
    {
      "cell_type": "code",
      "execution_count": null,
      "metadata": {
        "id": "iUHy-780po9d",
        "colab": {
          "base_uri": "https://localhost:8080/"
        },
        "outputId": "548197d3-fe0a-4169-dbb3-ac465e33976f"
      },
      "outputs": [
        {
          "output_type": "execute_result",
          "data": {
            "text/plain": [
              "[Parameter containing:\n",
              " tensor([[ 0.0141,  0.0073,  0.0113,  ..., -0.0128,  0.0338,  0.0266],\n",
              "         [-0.0137,  0.0339,  0.0329,  ...,  0.0333, -0.0115,  0.0158],\n",
              "         [-0.0068, -0.0147, -0.0203,  ..., -0.0107,  0.0078, -0.0192],\n",
              "         ...,\n",
              "         [ 0.0228, -0.0223,  0.0227,  ..., -0.0111,  0.0094,  0.0245],\n",
              "         [ 0.0173,  0.0342,  0.0305,  ..., -0.0316,  0.0077,  0.0083],\n",
              "         [ 0.0319, -0.0083, -0.0105,  ..., -0.0105, -0.0335, -0.0129]],\n",
              "        device='cuda:0', requires_grad=True), Parameter containing:\n",
              " tensor([-0.0018, -0.0257,  0.0083,  0.0219,  0.0007,  0.0073,  0.0061,  0.0092,\n",
              "         -0.0070, -0.0159,  0.0101,  0.0307, -0.0083, -0.0282, -0.0182,  0.0325,\n",
              "         -0.0156, -0.0060,  0.0340,  0.0003,  0.0175,  0.0252,  0.0095, -0.0347,\n",
              "         -0.0091, -0.0301,  0.0111, -0.0042,  0.0180,  0.0001,  0.0117,  0.0036,\n",
              "         -0.0055,  0.0242, -0.0331,  0.0129,  0.0142,  0.0268,  0.0122, -0.0265,\n",
              "         -0.0125,  0.0139,  0.0015,  0.0222,  0.0287,  0.0003,  0.0107, -0.0184,\n",
              "          0.0073,  0.0231, -0.0153,  0.0312,  0.0238,  0.0085,  0.0102,  0.0254,\n",
              "          0.0246, -0.0195,  0.0033,  0.0099,  0.0269, -0.0228, -0.0148, -0.0008,\n",
              "          0.0079,  0.0052, -0.0110,  0.0062,  0.0042, -0.0300,  0.0160, -0.0175,\n",
              "          0.0302,  0.0219, -0.0036, -0.0233,  0.0354, -0.0210, -0.0041,  0.0042,\n",
              "         -0.0298,  0.0354, -0.0102, -0.0212, -0.0062,  0.0057, -0.0181, -0.0191,\n",
              "          0.0315,  0.0274,  0.0306, -0.0208, -0.0086, -0.0055,  0.0029,  0.0114,\n",
              "         -0.0160, -0.0292, -0.0304, -0.0072,  0.0016], device='cuda:0',\n",
              "        requires_grad=True), Parameter containing:\n",
              " tensor([[ 0.0697, -0.0233, -0.0318,  ..., -0.0863,  0.0358, -0.0857],\n",
              "         [-0.0011, -0.0010, -0.0023,  ..., -0.0874,  0.0077, -0.0854],\n",
              "         [ 0.0499,  0.0539,  0.0477,  ...,  0.0545,  0.0306,  0.0757],\n",
              "         ...,\n",
              "         [ 0.0158, -0.0863,  0.0898,  ..., -0.0447, -0.0737,  0.0488],\n",
              "         [ 0.0107,  0.0139, -0.0509,  ...,  0.0739,  0.0699,  0.0423],\n",
              "         [ 0.0371, -0.0672, -0.0965,  ...,  0.0379,  0.0764,  0.0443]],\n",
              "        device='cuda:0', requires_grad=True), Parameter containing:\n",
              " tensor([-0.0198, -0.0180, -0.0835,  0.0376, -0.0287, -0.0914, -0.0041, -0.0429,\n",
              "          0.0626, -0.0402,  0.0245, -0.0862, -0.0396,  0.0207,  0.0355,  0.0114,\n",
              "         -0.0953, -0.0537, -0.0720,  0.0143,  0.0431, -0.0627,  0.0106, -0.0515,\n",
              "          0.0912,  0.0681, -0.0699,  0.0612, -0.0910,  0.0648, -0.0041,  0.0143,\n",
              "         -0.0828, -0.0433,  0.0026,  0.0619, -0.0820, -0.0123,  0.0366,  0.0428,\n",
              "         -0.0200,  0.0474,  0.0330, -0.0122, -0.0839,  0.0250,  0.0153,  0.0527,\n",
              "          0.0582, -0.0528, -0.0203, -0.0441, -0.0102,  0.0720,  0.0436, -0.0645,\n",
              "          0.0101, -0.0745, -0.0038,  0.0703, -0.0539, -0.0502,  0.0617, -0.0814,\n",
              "          0.0452, -0.0210, -0.0643,  0.0976,  0.0659,  0.0721, -0.0673,  0.0002,\n",
              "         -0.0169,  0.0511, -0.0273, -0.0605, -0.0370,  0.0510, -0.0808,  0.0366,\n",
              "          0.0157, -0.0699,  0.0660, -0.0782,  0.0575, -0.0195,  0.0889, -0.0216,\n",
              "         -0.0368, -0.0683, -0.0486, -0.0176,  0.0729,  0.0507, -0.0451, -0.0545,\n",
              "         -0.0828,  0.0984, -0.0941, -0.0854,  0.0654], device='cuda:0',\n",
              "        requires_grad=True), Parameter containing:\n",
              " tensor([[-0.0044, -0.0908, -0.0443,  ..., -0.0153, -0.0904,  0.0775],\n",
              "         [ 0.0953,  0.0751,  0.0818,  ..., -0.0492,  0.0480, -0.0852],\n",
              "         [ 0.0655,  0.0482, -0.0862,  ...,  0.0606, -0.0364, -0.0093],\n",
              "         ...,\n",
              "         [ 0.0641,  0.0443, -0.0156,  ...,  0.0640,  0.0199, -0.0734],\n",
              "         [-0.0302, -0.0380,  0.0898,  ..., -0.0672,  0.0988,  0.0653],\n",
              "         [-0.0739, -0.0534, -0.0207,  ...,  0.0546,  0.0101, -0.0833]],\n",
              "        device='cuda:0', requires_grad=True), Parameter containing:\n",
              " tensor([-0.0736,  0.0783, -0.0935, -0.0625, -0.0994, -0.0298, -0.0083,  0.0401,\n",
              "         -0.0797, -0.0935], device='cuda:0', requires_grad=True)]"
            ]
          },
          "metadata": {},
          "execution_count": 14
        }
      ],
      "source": [
        "list(mnist_net.parameters()) "
      ]
    },
    {
      "cell_type": "markdown",
      "metadata": {
        "id": "fjtaYbXwh8Yd"
      },
      "source": [
        "## Функция потерь и оптимизатор"
      ]
    },
    {
      "cell_type": "code",
      "execution_count": null,
      "metadata": {
        "id": "00_2j2igpS3o"
      },
      "outputs": [],
      "source": [
        "lr = 0.00001 # достаточно ли такой скорости обучения?\n",
        "batch_size = 300 # можно варьировать размер батча (лишь бы влезал в память)\n",
        "num_epochs = 500 # количество эпох\n",
        "\n",
        "\n",
        "loss = nn.CrossEntropyLoss() # правильно ли подобрана функция потерь?\n",
        "optimizer = optim.Adam(mnist_net.parameters(), lr=lr) # можно попробовать другие оптимизаторы"
      ]
    },
    {
      "cell_type": "markdown",
      "metadata": {
        "id": "295NtscAiBuJ"
      },
      "source": [
        "## Цикл обучения"
      ]
    },
    {
      "cell_type": "markdown",
      "metadata": {
        "id": "2HL2jUm3jwsv"
      },
      "source": [
        "**Внимание! Менять здесь ничего не требуется**"
      ]
    },
    {
      "cell_type": "code",
      "execution_count": null,
      "metadata": {
        "colab": {
          "base_uri": "https://localhost:8080/",
          "height": 425
        },
        "id": "wZtqiGvfpS3r",
        "outputId": "a6833936-f257-42f3-c0ab-b2aee4412e44"
      },
      "outputs": [
        {
          "output_type": "display_data",
          "data": {
            "text/plain": [
              "<Figure size 936x432 with 2 Axes>"
            ],
            "image/png": "[encoded data removed]"
          },
          "metadata": {}
        },
        {
          "output_type": "stream",
          "name": "stdout",
          "text": [
            "Лучшая точность: 95.13%\n"
          ]
        }
      ],
      "source": [
        "train_accuracy_history = []\n",
        "train_loss_history = []\n",
        "test_accuracy_history = []\n",
        "test_loss_history = []\n",
        "\n",
        "for epoch in range(num_epochs):\n",
        "    order = np.random.permutation(len(X_train))\n",
        "    \n",
        "    for start_index in range(0, len(X_train), batch_size):\n",
        "        optimizer.zero_grad()\n",
        "        \n",
        "        batch_indexes = order[start_index:start_index+batch_size]\n",
        "        \n",
        "        X_batch = X_train[batch_indexes].to(device)\n",
        "        y_batch = y_train[batch_indexes].to(device)\n",
        "        \n",
        "        preds = mnist_net.forward(X_batch) \n",
        "        \n",
        "        # лосс подсчитывается по-разному, в зависимости от выходов модели\n",
        "        if preds.ndim == 2 and preds.size(1) == 10:\n",
        "            loss_value = loss(preds, y_batch)\n",
        "        else:\n",
        "            loss_value = loss(preds, y_batch.float())\n",
        "        loss_value.backward()\n",
        "        \n",
        "        optimizer.step()\n",
        "\n",
        "    with torch.no_grad():\n",
        "        train_preds = mnist_net.forward(X_train.to(device))\n",
        "        train_loss_history.append(loss(train_preds, y_train.to(device)).item())\n",
        "        test_preds = mnist_net.forward(X_test)\n",
        "        test_loss_history.append(loss(test_preds, y_test).item())\n",
        "        \n",
        "        # предсказания формируются по-разному, в зависимости от выходов модели\n",
        "        if test_preds.ndim == 2 and test_preds.size(1) == 10:\n",
        "            predicted_labels_train = train_preds.argmax(dim=1)\n",
        "            predicted_labels = test_preds.argmax(dim=1)\n",
        "        else:\n",
        "            predicted_labels_train = train_preds.int()\n",
        "            predicted_labels = test_preds.int()\n",
        "        train_accuracy_history.append((predicted_labels_train == y_train.cuda()).float().mean().item())\n",
        "        accuracy = (predicted_labels == y_test).float().mean()\n",
        "        test_accuracy_history.append(accuracy.item())\n",
        "    if (epoch + 1) % 25 == 0:\n",
        "        show_progress(train_loss_history, test_loss_history, train_accuracy_history, test_accuracy_history)\n",
        "        print(f'Лучшая точность: {max(test_accuracy_history):.2%}')"
      ]
    },
    {
      "cell_type": "code",
      "execution_count": null,
      "metadata": {
        "id": "3B7dNryFo3xm",
        "colab": {
          "base_uri": "https://localhost:8080/"
        },
        "outputId": "749d842d-a7b2-4bb6-f773-3004d96258d8"
      },
      "outputs": [
        {
          "output_type": "stream",
          "name": "stdout",
          "text": [
            "Лучший лосс: 0.1686696708202362\n",
            "Лучшая точность: 95.13%\n"
          ]
        }
      ],
      "source": [
        "print('Лучший лосс:', min(test_loss_history))\n",
        "print(f'Лучшая точность: {max(test_accuracy_history):.2%}')"
      ]
    },
    {
      "cell_type": "markdown",
      "metadata": {
        "id": "F7XFRliomD6b"
      },
      "source": [
        "Визуализируем предсказания:"
      ]
    },
    {
      "cell_type": "code",
      "execution_count": null,
      "metadata": {
        "id": "aYXxV5tjY4Xx",
        "colab": {
          "base_uri": "https://localhost:8080/",
          "height": 595
        },
        "outputId": "935016f7-56df-48d8-fad8-04ee3e6cf62a"
      },
      "outputs": [
        {
          "output_type": "display_data",
          "data": {
            "text/plain": [
              "<Figure size 720x720 with 16 Axes>"
            ],
            "image/png": "[encoded data removed]"
          },
          "metadata": {}
        }
      ],
      "source": [
        "idxs = np.random.choice(np.arange(len(X_test)), 16, replace=False)\n",
        "show_mnist(X_test[idxs].reshape((-1, 28, 28)).cpu(), y_test[idxs].cpu(), predicted_labels[idxs].cpu())"
      ]
    },
    {
      "cell_type": "markdown",
      "metadata": {
        "id": "Da06dX-6Rrtl"
      },
      "source": [
        "##  Вопросы для семинара \n",
        "\n",
        "- Что наблюдается во время обучения: недообучение или переобучение?\n",
        "\n",
        "Запустите обучение с нуля ещё раз (все ячейки) и ответьте на оставшиеся вопросы:\n",
        "- Одинаковые ли результаты (значения метрик) от запуска к запуску обучения?  Почему?\n",
        "- Какая задача решается: регрессия или классификация? Почему?\n",
        "- Правильно ли подобраны архитектура нейросети и функция потерь?\n",
        "\n"
      ]
    },
    {
      "cell_type": "markdown",
      "metadata": {
        "id": "eoNmWelEU46U"
      },
      "source": [
        "<ПОЛЕ ДЛЯ ОТВЕТА>\n",
        "1. На примере текущего задания мы можем наблюдать недообучение модели.Во время недообучения: мы видим как  алгоритм обучения не обеспечивает достаточно малой величины средней ошибки на обучающей выборке, что приводит к неточным предсказаниям на валидационной выборке. При переобучении модели появляется другой негативный эффект. Модель как правило является сложной, которая слишком близко или точно соответствуют конкретному набору данных и поэтому не подходит для применения алгоритма к дополнительным данным из валидационной выборки или будущим наблюдениям. \n",
        "2.  первоначальные наборы весов инициализируются рандомно , поэтому метрики тоже будут отличаться.\n",
        "3. Архитектура нейросети , функция лос и оптимизатор подобраны для линейной регрессии. Данная задача должна решаться иначе , используя методы обучения модели  задачи классификации.\n",
        "4. Нет, не правильно. В задаче классификации после софтмакс функции используется nn.CrossEntropyLoss() , для линейной регрессии подойдет MSE лосс функция."
      ]
    },
    {
      "cell_type": "markdown",
      "metadata": {
        "id": "0qe1WQM-WSbM"
      },
      "source": [
        "### Исправление архитектуры нейросети"
      ]
    },
    {
      "cell_type": "markdown",
      "metadata": {
        "id": "LvAf467tWajT"
      },
      "source": [
        "Исправьте архитектуру нейронной сети, а также функцию потерь, чтобы они соответствовали решаемой задаче машинного обучения. После запустите повторно цикл обучения и ответьте на вопросы:\n",
        "- Улучшилась ли метрика?\n",
        "- Почему функция потерь MSE не подходит для решения нашей задачи?\n"
      ]
    },
    {
      "cell_type": "markdown",
      "metadata": {
        "id": "x9GNqPjsWiKa"
      },
      "source": [
        "<ПОЛЕ ДЛЯ ОТВЕТА>\n",
        "1. Метрики улучшились на порядок, точность предсказания выросла после изменения архитектуры сети.\n",
        "2. MSE лосс функция  используется для линейной регресии , где на выходе в нейронах мы получаем 1 или 0. В задаче классификации в выходном нейроне значения находятся [0;1] ,учитывая что сумма всех выходных нейронов будет равна 1.( после использования софтмакс функции активации."
      ]
    },
    {
      "cell_type": "markdown",
      "metadata": {
        "id": "OgPUqh6sWmX5"
      },
      "source": [
        "### Подбор гиперпараметров"
      ]
    },
    {
      "cell_type": "markdown",
      "metadata": {
        "id": "xN7QDMHmWqi0"
      },
      "source": [
        "Добейтесь точности на валидационной выборке > 95%. Попробуйте изменять скорость обучения, количество слоев, размер батча, количество эпох. Ответьте на вопросы:\n",
        "- Что вы наблюдаете при увеличении скорости обучения? Уменьшении? Попробуйте объяснить, почему так происходит.\n",
        "- Как влияет количество слоев на переобучение/недообучение нейросети? Какие вы знаете методы борьбы с переобучением?\n",
        "- Быстрее ли сходится модель (когда функция потерь перестаёт значимо уменьшаться) при увеличении размера батча? Почему?\n",
        "- Улучшилось ли качество при увеличении количества эпох?"
      ]
    },
    {
      "cell_type": "markdown",
      "metadata": {
        "id": "Lk1GyT7cXBwD"
      },
      "source": [
        "<ПОЛЕ ДЛЯ ОТВЕТА>\n",
        "1. Более высокая скорость обучения помогает нейросети делать большие шаги в направлении минимальной ошибки.Это происходит потому что скорость обучения это по сути коэф. корекции весов. Чем меньше число , тем меньше шаг коррекции , тем больше точность нахождения точек локального минимума функции ошибки,но меньше ее скорость нахождения. \n",
        "\n",
        "Когда я выставляю высокую скорость обучения модель сильно обучается под тренировочные данные и показывает плохие результаты с валидационной выборкой.\n",
        "2. Чем больше слоев -- тем сложнее модель , а чем сложнее модель тем она \"умнее\". Соответственно одним из решений проблемы недообучения является увелечение кол-ва слоев в нейронной сети. Точно также действует и обратное правило , черезмерно сложное строение модели(т.е. большое кол-во слоев) может вызвать переобучение модели. \n",
        "\n",
        "Методы борбы с переобучением : \n",
        "увелечение размера выборки или батча ,\n",
        "* уменьшение числа признаков или первоначальное кол-во входных нейронов, \n",
        "* уменьшение кол-ва слоев и кол-ва нейронов в каждом их них,\n",
        "* использования методов регуляризации за счет предотвращения сложных коадаптаций отдельных нейронов на тренировочных данных во время обучения,\n",
        "* ранняя остановка обучения с момента наступления эпохи переобучения.\n",
        "3. Чем больше батч ,тем быстрее сходиться модель так требуется меньше итераций за одну эпоху.\n",
        "4. Да качество сети улучшилось , кол-во эпох влияет на степень обученности модели , чем больше эпох тем лучше результат в точности, однако черезмерно большое кол-во эпох может вызвать переобучение."
      ]
    }
  ],
  "metadata": {
    "accelerator": "GPU",
    "colab": {
      "collapsed_sections": [
        "KheM9bdvRJC2",
        "8oA_nuENcFnQ",
        "nL_nICZ4cMOx",
        "fjtaYbXwh8Yd"
      ],
      "name": "СВЕРТОЧНАЯ of hometastk1 _try2.ipynb",
      "provenance": []
    },
    "kernelspec": {
      "display_name": "Python 3",
      "name": "python3"
    },
    "language_info": {
      "name": "python"
    },
    "gpuClass": "standard"
  },
  "nbformat": 4,
  "nbformat_minor": 0
}