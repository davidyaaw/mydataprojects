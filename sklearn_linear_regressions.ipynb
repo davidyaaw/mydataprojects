{
  "nbformat": 4,
  "nbformat_minor": 0,
  "metadata": {
    "colab": {
      "name": "sklearn_linear regressions.ipynb",
      "provenance": [],
      "authorship_tag": "ABX9TyOPvzndL0Vwcg0X168LCZGJ",
      "include_colab_link": true
    },
    "kernelspec": {
      "name": "python3",
      "display_name": "Python 3"
    },
    "language_info": {
      "name": "python"
    }
  },
  "cells": [
    {
      "cell_type": "markdown",
      "metadata": {
        "id": "view-in-github",
        "colab_type": "text"
      },
      "source": [
        "<a href=\"https://colab.research.google.com/github/davidyaaw/mydataprojects/blob/main/sklearn_linear_regressions.ipynb\" target=\"_parent\"><img src=\"https://colab.research.google.com/assets/colab-badge.svg\" alt=\"Open In Colab\"/></a>"
      ]
    },
    {
      "cell_type": "code",
      "metadata": {
        "colab": {
          "base_uri": "https://localhost:8080/"
        },
        "id": "igy7GcHoGOBA",
        "outputId": "e0ac4c26-2dde-441e-b0ac-4c2ecaa50d18"
      },
      "source": [
        "from sklearn.linear_model import LinearRegression\n",
        "import numpy as np\n",
        "\n",
        "x = np.array([5,15,25,35,45,55]).reshape(1, -1)\n",
        "y = np.array([5,20,14,32,22,38]).reshape(1,-1)\n",
        "\n",
        "lm = LinearRegression().fit(x, y)\n",
        "r = lm.score(x, y)\n",
        "print(r)\n",
        "rp = lm.predict(x)\n",
        "rp1 = lm.predict(y)\n",
        "print(rp,rp1)"
      ],
      "execution_count": 4,
      "outputs": [
        {
          "output_type": "stream",
          "name": "stdout",
          "text": [
            "nan\n",
            "[[ 5. 20. 14. 32. 22. 38.]] [[ 5. 20. 14. 32. 22. 38.]]\n"
          ]
        },
        {
          "output_type": "stream",
          "name": "stderr",
          "text": [
            "/usr/local/lib/python3.7/dist-packages/sklearn/metrics/_regression.py:781: UndefinedMetricWarning: R^2 score is not well-defined with less than two samples.\n",
            "  warnings.warn(msg, UndefinedMetricWarning)\n"
          ]
        }
      ]
    },
    {
      "cell_type": "code",
      "metadata": {
        "colab": {
          "base_uri": "https://localhost:8080/"
        },
        "id": "F4flzq8HIs1L",
        "outputId": "b0c0a1f0-7f97-42ef-ccc8-f44d6b06366f"
      },
      "source": [
        "from sklearn.linear_model import LinearRegression\n",
        "import numpy as np\n",
        "\n",
        "X = np.array([5,15,25,35,45,55]).reshape(1, -1)\n",
        "y = np.dot(x, np.array([5,20,14,32,22,38])) \n",
        "reg = LinearRegression().fit(X, y)\n",
        "b = reg.predict(X)\n",
        "print(b)"
      ],
      "execution_count": 3,
      "outputs": [
        {
          "output_type": "stream",
          "name": "stdout",
          "text": [
            "[4875.]\n"
          ]
        }
      ]
    },
    {
      "cell_type": "code",
      "metadata": {
        "colab": {
          "base_uri": "https://localhost:8080/"
        },
        "id": "d7blAPX2KEdi",
        "outputId": "8a47bedd-9053-4a18-e893-4678979ce030"
      },
      "source": [
        "import numpy as np\n",
        "from sklearn import linear_model\n",
        "from matplotlib import pyplot as plt\n",
        "\n",
        "X = np.array([5,15,25,35,45,55])\n",
        "y = np.array([5,20,14,32,22,38])\n",
        "\n",
        "\n",
        "reg = linear_model.LinearRegression()\n",
        "reg.fit(X.reshape(-1, 1), y)\n",
        "\n",
        "y_pred = reg.predict(X.reshape(-1, 1))\n",
        "print(y_pred)\n",
        "\n",
        "\n"
      ],
      "execution_count": null,
      "outputs": [
        {
          "output_type": "stream",
          "name": "stdout",
          "text": [
            "[ 8.33333333 13.73333333 19.13333333 24.53333333 29.93333333 35.33333333]\n"
          ]
        }
      ]
    },
    {
      "cell_type": "code",
      "metadata": {
        "colab": {
          "base_uri": "https://localhost:8080/"
        },
        "id": "j7nfgxxMp0iW",
        "outputId": "95607fff-521d-454f-984a-e4d9afaf69c5"
      },
      "source": [
        "x_pred2 = np.array([70]).reshape(-1, 1)\n",
        "y_pred2 = reg.predict(x_pred2)\n",
        "print(y_pred2)\n"
      ],
      "execution_count": null,
      "outputs": [
        {
          "output_type": "stream",
          "name": "stdout",
          "text": [
            "[43.43333333]\n"
          ]
        }
      ]
    },
    {
      "cell_type": "markdown",
      "metadata": {
        "id": "wlA-V37gPLuu"
      },
      "source": [
        ""
      ]
    },
    {
      "cell_type": "code",
      "metadata": {
        "colab": {
          "base_uri": "https://localhost:8080/",
          "height": 592
        },
        "id": "bo1Cny2CSePv",
        "outputId": "33738086-b5cc-4d0d-87c5-f40c8be8c120"
      },
      "source": [
        "plt.figure(figsize=(10,10))\n",
        "plt.xticks(np.arange(0,100,10))\n",
        "plt.yticks(np.arange(0,70,10))\n",
        "plt.grid(color='b',linestyle='-',linewidth=0.1)\n",
        "plt.scatter(X, y, c='r')\n",
        "plt.plot(X,y_pred, c='y')\n",
        "\n",
        "plt.show()"
      ],
      "execution_count": null,
      "outputs": [
        {
          "output_type": "display_data",
          "data": {
            "image/png": "[encoded data removed]",
            "text/plain": [
              "<Figure size 720x720 with 1 Axes>"
            ]
          },
          "metadata": {
            "needs_background": "light"
          }
        }
      ]
    }
  ]
}