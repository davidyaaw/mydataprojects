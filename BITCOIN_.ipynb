{
  "cells": [
    {
      "cell_type": "markdown",
      "metadata": {
        "id": "B-FNLEo0152X"
      },
      "source": [
        "\n",
        "\n",
        "\n"
      ]
    },
    {
      "cell_type": "markdown",
      "metadata": {
        "id": "7iw1a5En4s4i"
      },
      "source": [
        "# Аналитика\n",
        "\n"
      ]
    },
    {
      "cell_type": "markdown",
      "metadata": {
        "id": "gfK0NxMSXTWH"
      },
      "source": [
        "Простота использования, гибкость и мощь Python сделали его привлекательным инструментом для проведения анализа. Для него написано большое число постоянно развивающихся библиотек, позволяющих собирать статистики, исследовать данные, работать с документами разных форматов и строить красивые графики.\n",
        "\n",
        "В этом ноутбуке мы рассмотрим работу с таблицами в Python на примере исторических данных по ценам биткоина.\n",
        "\n",
        "Сегодня вы научитесь:\n",
        "\n",
        "* Обрабатывать большое число файлов\n",
        "* Проводить запросы к таблицам\n",
        "* Связывать информацию из разных таблиц\n",
        "* Визуализировать данные\n",
        "* Анализировать получаемые результаты\n"
      ]
    },
    {
      "cell_type": "code",
      "execution_count": null,
      "metadata": {
        "id": "IzcxcIZ5IrzM"
      },
      "outputs": [],
      "source": [
        ""
      ]
    },
    {
      "cell_type": "markdown",
      "metadata": {
        "id": "Nz99rTzPsVUd"
      },
      "source": [
        "# Подготовка"
      ]
    },
    {
      "cell_type": "markdown",
      "metadata": {
        "id": "dq8B72-jsYlh"
      },
      "source": [
        "Данных для анализа очень много на сайте для соревнований по машинному обучению [kaggle](kaggle.com). Мы возьмем исторические данные по [биткоину](https://www.kaggle.com/mczielinski/bitcoin-historical-data) и посмотрим, какую информацию можно извлечь из него, какие статистики посчитать и какой анализ провести. "
      ]
    },
    {
      "cell_type": "markdown",
      "metadata": {
        "id": "2kmDKlbCnE-B"
      },
      "source": [
        "Перед началом работы нужно скачать данные. Для этого запустите код ниже. Colab попросит перейти по ссылке, чтобы авторизоваться от google-аккаунта. Дайте ему все разрешения, скопируйте выдаваемый код и вставьте его в выпавшее поле внизу  следующей ячейки."
      ]
    },
    {
      "cell_type": "code",
      "execution_count": 1,
      "metadata": {
        "cellView": "code",
        "colab": {
          "base_uri": "https://localhost:8080/"
        },
        "id": "QHbUQ0pQiuQi",
        "outputId": "ccdec0ee-926d-41c3-80b5-9e8c42f591da"
      },
      "outputs": [
        {
          "output_type": "stream",
          "name": "stdout",
          "text": [
            "bitstampUSD_1-min_data_2012-01-01_to_2019-08-12.csv\n",
            "Archive.zip\n",
            "Archive:  Archive.zip\n",
            "  inflating: USDRUB_110101_111231.csv  \n",
            "   creating: __MACOSX/\n",
            "  inflating: __MACOSX/._USDRUB_110101_111231.csv  \n",
            "  inflating: USDRUB_130101_131231.csv  \n",
            "  inflating: __MACOSX/._USDRUB_130101_131231.csv  \n",
            "  inflating: USDRUB_120101_121231.csv  \n",
            "  inflating: __MACOSX/._USDRUB_120101_121231.csv  \n",
            "  inflating: USDRUB_180101_181231.csv  \n",
            "  inflating: __MACOSX/._USDRUB_180101_181231.csv  \n",
            "  inflating: USDRUB_170101_171231.csv  \n",
            "  inflating: __MACOSX/._USDRUB_170101_171231.csv  \n",
            "  inflating: USDRUB_160101_161231.csv  \n",
            "  inflating: __MACOSX/._USDRUB_160101_161231.csv  \n",
            "  inflating: USDRUB_150101_151231.csv  \n",
            "  inflating: __MACOSX/._USDRUB_150101_151231.csv  \n",
            "  inflating: USDRUB_140101_141231.csv  \n",
            "  inflating: __MACOSX/._USDRUB_140101_141231.csv  \n",
            "  inflating: USDRUB_190101_190812.csv  \n",
            "  inflating: __MACOSX/._USDRUB_190101_190812.csv  \n"
          ]
        }
      ],
      "source": [
        "!pip install -U -q PyDrive\n",
        "\n",
        "from pydrive.auth import GoogleAuth\n",
        "from pydrive.drive import GoogleDrive\n",
        "from google.colab import auth\n",
        "from oauth2client.client import GoogleCredentials\n",
        "\n",
        "# 1. Authenticate and create the PyDrive client.\n",
        "auth.authenticate_user()\n",
        "gauth = GoogleAuth()\n",
        "gauth.credentials = GoogleCredentials.get_application_default()\n",
        "drive = GoogleDrive(gauth)\n",
        "\n",
        "# PyDrive reference:\n",
        "# https://googledrive.github.io/PyDrive/docs/build/html/index.html\n",
        "\n",
        "\n",
        "from google.colab import auth\n",
        "auth.authenticate_user()\n",
        "\n",
        "from googleapiclient.discovery import build\n",
        "drive_service = build('drive', 'v3')\n",
        "\n",
        "# Replace the assignment below with your file ID\n",
        "# to download a different file.\n",
        "#\n",
        "# A file ID looks like: 1gLBqEWEBQDYbKCDigHnUXNTkzl-OslSO\n",
        "\n",
        "# import io\n",
        "# from googleapiclient.http import MediaIoBaseDownload\n",
        "\n",
        "# request = drive_service.files().get_media(fileId=file_id)\n",
        "# downloaded = io.BytesIO()\n",
        "# downloader = MediaIoBaseDownload(downloaded, request)\n",
        "# done = False\n",
        "# while done is False:\n",
        "#   # _ is a placeholder for a progress object that we ignore.\n",
        "#   # (Our file is small, so we skip reporting progress.)\n",
        "#   _, done = downloader.next_chunk()\n",
        "\n",
        "\n",
        "\n",
        "BTC_USD = \"18Nvsd-tAoF-FVkXZcKX07Bhagxeteawx\" #@param {type:\"string\"}\n",
        "\n",
        "BTC_USD_file = drive.CreateFile({'id': BTC_USD }) #DRIVE_FILE_ID is file id example: 1iytA1n2z4go3uVCwE_vIKouTKyIDjEq\n",
        "print(BTC_USD_file['title'])  \n",
        "BTC_USD_file.GetContentFile(BTC_USD_file['title'])  # Save Drive file as a local file\n",
        "\n",
        "USD_RUB = '1AEv6opCrO240Zv--_FCtbmJ_sWNOHxJs'\n",
        "USD_RUB_file = drive.CreateFile({'id': USD_RUB }) #DRIVE_FILE_ID is file id example: 1iytA1n2z4go3uVCwE_vIKouTKyIDjEq\n",
        "print(USD_RUB_file['title'])  \n",
        "USD_RUB_file.GetContentFile(USD_RUB_file['title'])  # Save Drive file as a local file\n",
        "\n",
        "\n",
        "!unzip {USD_RUB_file['title']}"
      ]
    },
    {
      "cell_type": "markdown",
      "metadata": {
        "id": "BiiRwc8ytX2I"
      },
      "source": [
        "Теперь данные загружены в память Colab и с ними можно работать."
      ]
    },
    {
      "cell_type": "code",
      "execution_count": 2,
      "metadata": {
        "id": "URKLAw-m3c9N"
      },
      "outputs": [],
      "source": [
        "from google.colab import drive\n"
      ]
    },
    {
      "cell_type": "markdown",
      "metadata": {
        "id": "F_d9SkuEM18V"
      },
      "source": [
        "## Обработка данных"
      ]
    },
    {
      "cell_type": "markdown",
      "metadata": {
        "id": "pQ9a20sHrCIF"
      },
      "source": [
        "Фундаментальный стек Python для аналитики и визуализации данных должен по крайней мере содержать следующие инструменты библиотеки:\n",
        "\n",
        "* Python - сам интерпретатор Python\n",
        "* NumPy - высокая производительность обработки массивов\n",
        "* Pandas - анализ временных рядов и таблиц\n",
        "* Matplotlib - 2D и 3D визуализация\n"
      ]
    },
    {
      "cell_type": "markdown",
      "metadata": {
        "id": "pCpmGfsLQENB"
      },
      "source": [
        "Импортируем все библиотеки для анализа файла:"
      ]
    },
    {
      "cell_type": "code",
      "execution_count": 3,
      "metadata": {
        "id": "nuHhabqMrAdc"
      },
      "outputs": [],
      "source": [
        "import numpy as np\n",
        "import pandas as pd\n",
        "import matplotlib.pyplot as plt\n",
        "import seaborn as sns\n",
        "import datetime\n",
        "\n",
        "plt.style.use('dark_background')\n",
        "pd.set_option('display.float_format', lambda x: '%.3f' % x)"
      ]
    },
    {
      "cell_type": "markdown",
      "metadata": {
        "id": "Y00VNGycNBdf"
      },
      "source": [
        "### Работа в Pandas"
      ]
    },
    {
      "cell_type": "markdown",
      "metadata": {
        "id": "AhsOoh8f9jsU"
      },
      "source": [
        "**Pandas** - хорошая библиотека для работы с таблицами. Она используется для извлечения статистик и предобработки данных перед обучением. Загрузить файл **xls** или **csv** можно всего лишь одной командой."
      ]
    },
    {
      "cell_type": "markdown",
      "metadata": {
        "id": "TpYTSrTFrKmy"
      },
      "source": [
        "Прочитаем файл и посмотрим, что за данные там расположены:\n",
        "\n",
        "* Timestamp - время сделки в особом формате\n",
        "* Open - цена открытия\n",
        "* High - самая высокая цена за день\n",
        "* Low - самая низкая цена за день\n",
        "* Close - цена на момент закрытия\n",
        "* Volume_(BTC) - количество биткоинов\n",
        "* Volume_(Currency) - цена покупки\n",
        "* Weighted_Price - общая цена биткоина"
      ]
    },
    {
      "cell_type": "code",
      "execution_count": 42,
      "metadata": {
        "id": "mI-aKsaWjKrF",
        "colab": {
          "base_uri": "https://localhost:8080/",
          "height": 206
        },
        "outputId": "4bc51529-cb44-4442-d9ae-9bc885c76d7c"
      },
      "outputs": [
        {
          "output_type": "execute_result",
          "data": {
            "text/html": [
              "<div>\n",
              "<style scoped>\n",
              "    .dataframe tbody tr th:only-of-type {\n",
              "        vertical-align: middle;\n",
              "    }\n",
              "\n",
              "    .dataframe tbody tr th {\n",
              "        vertical-align: top;\n",
              "    }\n",
              "\n",
              "    .dataframe thead th {\n",
              "        text-align: right;\n",
              "    }\n",
              "</style>\n",
              "<table border=\"1\" class=\"dataframe\">\n",
              "  <thead>\n",
              "    <tr style=\"text-align: right;\">\n",
              "      <th></th>\n",
              "      <th>Timestamp</th>\n",
              "      <th>Open</th>\n",
              "      <th>High</th>\n",
              "      <th>Low</th>\n",
              "      <th>Close</th>\n",
              "      <th>Volume_(BTC)</th>\n",
              "      <th>Volume_(Currency)</th>\n",
              "      <th>Weighted_Price</th>\n",
              "    </tr>\n",
              "  </thead>\n",
              "  <tbody>\n",
              "    <tr>\n",
              "      <th>0</th>\n",
              "      <td>1325317920</td>\n",
              "      <td>4.390</td>\n",
              "      <td>4.390</td>\n",
              "      <td>4.390</td>\n",
              "      <td>4.390</td>\n",
              "      <td>0.456</td>\n",
              "      <td>2.000</td>\n",
              "      <td>4.390</td>\n",
              "    </tr>\n",
              "    <tr>\n",
              "      <th>1</th>\n",
              "      <td>1325317980</td>\n",
              "      <td>nan</td>\n",
              "      <td>nan</td>\n",
              "      <td>nan</td>\n",
              "      <td>nan</td>\n",
              "      <td>nan</td>\n",
              "      <td>nan</td>\n",
              "      <td>nan</td>\n",
              "    </tr>\n",
              "    <tr>\n",
              "      <th>2</th>\n",
              "      <td>1325318040</td>\n",
              "      <td>nan</td>\n",
              "      <td>nan</td>\n",
              "      <td>nan</td>\n",
              "      <td>nan</td>\n",
              "      <td>nan</td>\n",
              "      <td>nan</td>\n",
              "      <td>nan</td>\n",
              "    </tr>\n",
              "    <tr>\n",
              "      <th>3</th>\n",
              "      <td>1325318100</td>\n",
              "      <td>nan</td>\n",
              "      <td>nan</td>\n",
              "      <td>nan</td>\n",
              "      <td>nan</td>\n",
              "      <td>nan</td>\n",
              "      <td>nan</td>\n",
              "      <td>nan</td>\n",
              "    </tr>\n",
              "    <tr>\n",
              "      <th>4</th>\n",
              "      <td>1325318160</td>\n",
              "      <td>nan</td>\n",
              "      <td>nan</td>\n",
              "      <td>nan</td>\n",
              "      <td>nan</td>\n",
              "      <td>nan</td>\n",
              "      <td>nan</td>\n",
              "      <td>nan</td>\n",
              "    </tr>\n",
              "  </tbody>\n",
              "</table>\n",
              "</div>"
            ],
            "text/plain": [
              "    Timestamp  Open  High  ...  Volume_(BTC)  Volume_(Currency)  Weighted_Price\n",
              "0  1325317920 4.390 4.390  ...         0.456              2.000           4.390\n",
              "1  1325317980   nan   nan  ...           nan                nan             nan\n",
              "2  1325318040   nan   nan  ...           nan                nan             nan\n",
              "3  1325318100   nan   nan  ...           nan                nan             nan\n",
              "4  1325318160   nan   nan  ...           nan                nan             nan\n",
              "\n",
              "[5 rows x 8 columns]"
            ]
          },
          "metadata": {},
          "execution_count": 42
        }
      ],
      "source": [
        "btc = pd.read_csv('bitstampUSD_1-min_data_2012-01-01_to_2019-08-12.csv')\n",
        "btc.head()"
      ]
    },
    {
      "cell_type": "markdown",
      "metadata": {
        "id": "lCvSUFy2yC-F"
      },
      "source": [
        "Столбец **Timestamp** содержит странные числа - это специальный вид дат. Давайте преобразуем его к нормальному:"
      ]
    },
    {
      "cell_type": "code",
      "execution_count": 45,
      "metadata": {
        "id": "m3WxyHvoyhs1",
        "colab": {
          "base_uri": "https://localhost:8080/",
          "height": 237
        },
        "outputId": "7921537c-7d53-4079-a2f5-1b8d3744ec1e"
      },
      "outputs": [
        {
          "output_type": "execute_result",
          "data": {
            "text/html": [
              "<div>\n",
              "<style scoped>\n",
              "    .dataframe tbody tr th:only-of-type {\n",
              "        vertical-align: middle;\n",
              "    }\n",
              "\n",
              "    .dataframe tbody tr th {\n",
              "        vertical-align: top;\n",
              "    }\n",
              "\n",
              "    .dataframe thead th {\n",
              "        text-align: right;\n",
              "    }\n",
              "</style>\n",
              "<table border=\"1\" class=\"dataframe\">\n",
              "  <thead>\n",
              "    <tr style=\"text-align: right;\">\n",
              "      <th></th>\n",
              "      <th>Open</th>\n",
              "      <th>High</th>\n",
              "      <th>Low</th>\n",
              "      <th>Close</th>\n",
              "      <th>Volume_(BTC)</th>\n",
              "      <th>Volume_(Currency)</th>\n",
              "      <th>Weighted_Price</th>\n",
              "    </tr>\n",
              "    <tr>\n",
              "      <th>Timestamp</th>\n",
              "      <th></th>\n",
              "      <th></th>\n",
              "      <th></th>\n",
              "      <th></th>\n",
              "      <th></th>\n",
              "      <th></th>\n",
              "      <th></th>\n",
              "    </tr>\n",
              "  </thead>\n",
              "  <tbody>\n",
              "    <tr>\n",
              "      <th>2011-12-31 07:52:00</th>\n",
              "      <td>4.390</td>\n",
              "      <td>4.390</td>\n",
              "      <td>4.390</td>\n",
              "      <td>4.390</td>\n",
              "      <td>0.456</td>\n",
              "      <td>2.000</td>\n",
              "      <td>4.390</td>\n",
              "    </tr>\n",
              "    <tr>\n",
              "      <th>2011-12-31 15:50:00</th>\n",
              "      <td>4.390</td>\n",
              "      <td>4.390</td>\n",
              "      <td>4.390</td>\n",
              "      <td>4.390</td>\n",
              "      <td>48.000</td>\n",
              "      <td>210.720</td>\n",
              "      <td>4.390</td>\n",
              "    </tr>\n",
              "    <tr>\n",
              "      <th>2011-12-31 16:59:00</th>\n",
              "      <td>4.500</td>\n",
              "      <td>4.570</td>\n",
              "      <td>4.500</td>\n",
              "      <td>4.570</td>\n",
              "      <td>37.862</td>\n",
              "      <td>171.380</td>\n",
              "      <td>4.526</td>\n",
              "    </tr>\n",
              "    <tr>\n",
              "      <th>2011-12-31 17:00:00</th>\n",
              "      <td>4.580</td>\n",
              "      <td>4.580</td>\n",
              "      <td>4.580</td>\n",
              "      <td>4.580</td>\n",
              "      <td>9.000</td>\n",
              "      <td>41.220</td>\n",
              "      <td>4.580</td>\n",
              "    </tr>\n",
              "    <tr>\n",
              "      <th>2012-01-01 04:16:00</th>\n",
              "      <td>4.580</td>\n",
              "      <td>4.580</td>\n",
              "      <td>4.580</td>\n",
              "      <td>4.580</td>\n",
              "      <td>1.502</td>\n",
              "      <td>6.879</td>\n",
              "      <td>4.580</td>\n",
              "    </tr>\n",
              "  </tbody>\n",
              "</table>\n",
              "</div>"
            ],
            "text/plain": [
              "                     Open  High  ...  Volume_(Currency)  Weighted_Price\n",
              "Timestamp                        ...                                   \n",
              "2011-12-31 07:52:00 4.390 4.390  ...              2.000           4.390\n",
              "2011-12-31 15:50:00 4.390 4.390  ...            210.720           4.390\n",
              "2011-12-31 16:59:00 4.500 4.570  ...            171.380           4.526\n",
              "2011-12-31 17:00:00 4.580 4.580  ...             41.220           4.580\n",
              "2012-01-01 04:16:00 4.580 4.580  ...              6.879           4.580\n",
              "\n",
              "[5 rows x 7 columns]"
            ]
          },
          "metadata": {},
          "execution_count": 45
        }
      ],
      "source": [
        "btc.index = btc['Timestamp'].apply(lambda x:  datetime.datetime.fromtimestamp(x))\n",
        "del btc['Timestamp']\n",
        "btc.head()"
      ]
    },
    {
      "cell_type": "markdown",
      "metadata": {
        "id": "ppjfNg3k87gP"
      },
      "source": [
        "У нас очень много неизвестных значений. Это связано с тем, что биткоин только начал свое развитие, и через его систему проводилось очень мало операций (это заметно и по цене биткоина в 4 доллара). Удалим их:"
      ]
    },
    {
      "cell_type": "code",
      "execution_count": 46,
      "metadata": {
        "id": "-MMgmDgSFuJJ",
        "colab": {
          "base_uri": "https://localhost:8080/",
          "height": 237
        },
        "outputId": "2bff27eb-873d-440d-a692-445ec0962f67"
      },
      "outputs": [
        {
          "output_type": "execute_result",
          "data": {
            "text/html": [
              "<div>\n",
              "<style scoped>\n",
              "    .dataframe tbody tr th:only-of-type {\n",
              "        vertical-align: middle;\n",
              "    }\n",
              "\n",
              "    .dataframe tbody tr th {\n",
              "        vertical-align: top;\n",
              "    }\n",
              "\n",
              "    .dataframe thead th {\n",
              "        text-align: right;\n",
              "    }\n",
              "</style>\n",
              "<table border=\"1\" class=\"dataframe\">\n",
              "  <thead>\n",
              "    <tr style=\"text-align: right;\">\n",
              "      <th></th>\n",
              "      <th>Open</th>\n",
              "      <th>High</th>\n",
              "      <th>Low</th>\n",
              "      <th>Close</th>\n",
              "      <th>Volume_(BTC)</th>\n",
              "      <th>Volume_(Currency)</th>\n",
              "      <th>Weighted_Price</th>\n",
              "    </tr>\n",
              "    <tr>\n",
              "      <th>Timestamp</th>\n",
              "      <th></th>\n",
              "      <th></th>\n",
              "      <th></th>\n",
              "      <th></th>\n",
              "      <th></th>\n",
              "      <th></th>\n",
              "      <th></th>\n",
              "    </tr>\n",
              "  </thead>\n",
              "  <tbody>\n",
              "    <tr>\n",
              "      <th>2011-12-31 07:52:00</th>\n",
              "      <td>4.390</td>\n",
              "      <td>4.390</td>\n",
              "      <td>4.390</td>\n",
              "      <td>4.390</td>\n",
              "      <td>0.456</td>\n",
              "      <td>2.000</td>\n",
              "      <td>4.390</td>\n",
              "    </tr>\n",
              "    <tr>\n",
              "      <th>2011-12-31 15:50:00</th>\n",
              "      <td>4.390</td>\n",
              "      <td>4.390</td>\n",
              "      <td>4.390</td>\n",
              "      <td>4.390</td>\n",
              "      <td>48.000</td>\n",
              "      <td>210.720</td>\n",
              "      <td>4.390</td>\n",
              "    </tr>\n",
              "    <tr>\n",
              "      <th>2011-12-31 16:59:00</th>\n",
              "      <td>4.500</td>\n",
              "      <td>4.570</td>\n",
              "      <td>4.500</td>\n",
              "      <td>4.570</td>\n",
              "      <td>37.862</td>\n",
              "      <td>171.380</td>\n",
              "      <td>4.526</td>\n",
              "    </tr>\n",
              "    <tr>\n",
              "      <th>2011-12-31 17:00:00</th>\n",
              "      <td>4.580</td>\n",
              "      <td>4.580</td>\n",
              "      <td>4.580</td>\n",
              "      <td>4.580</td>\n",
              "      <td>9.000</td>\n",
              "      <td>41.220</td>\n",
              "      <td>4.580</td>\n",
              "    </tr>\n",
              "    <tr>\n",
              "      <th>2012-01-01 04:16:00</th>\n",
              "      <td>4.580</td>\n",
              "      <td>4.580</td>\n",
              "      <td>4.580</td>\n",
              "      <td>4.580</td>\n",
              "      <td>1.502</td>\n",
              "      <td>6.879</td>\n",
              "      <td>4.580</td>\n",
              "    </tr>\n",
              "  </tbody>\n",
              "</table>\n",
              "</div>"
            ],
            "text/plain": [
              "                     Open  High  ...  Volume_(Currency)  Weighted_Price\n",
              "Timestamp                        ...                                   \n",
              "2011-12-31 07:52:00 4.390 4.390  ...              2.000           4.390\n",
              "2011-12-31 15:50:00 4.390 4.390  ...            210.720           4.390\n",
              "2011-12-31 16:59:00 4.500 4.570  ...            171.380           4.526\n",
              "2011-12-31 17:00:00 4.580 4.580  ...             41.220           4.580\n",
              "2012-01-01 04:16:00 4.580 4.580  ...              6.879           4.580\n",
              "\n",
              "[5 rows x 7 columns]"
            ]
          },
          "metadata": {},
          "execution_count": 46
        }
      ],
      "source": [
        "btc.dropna(inplace=True)\n",
        "btc.head()"
      ]
    },
    {
      "cell_type": "markdown",
      "metadata": {
        "id": "HQW_vVbdF89h"
      },
      "source": [
        "\n",
        "Посмотрим последние данные в таблице:"
      ]
    },
    {
      "cell_type": "code",
      "execution_count": 7,
      "metadata": {
        "id": "JgkXRmNmjV72",
        "colab": {
          "base_uri": "https://localhost:8080/",
          "height": 237
        },
        "outputId": "1d3667a4-2a98-44c7-e220-25a2e3d2bf91"
      },
      "outputs": [
        {
          "output_type": "execute_result",
          "data": {
            "text/html": [
              "<div>\n",
              "<style scoped>\n",
              "    .dataframe tbody tr th:only-of-type {\n",
              "        vertical-align: middle;\n",
              "    }\n",
              "\n",
              "    .dataframe tbody tr th {\n",
              "        vertical-align: top;\n",
              "    }\n",
              "\n",
              "    .dataframe thead th {\n",
              "        text-align: right;\n",
              "    }\n",
              "</style>\n",
              "<table border=\"1\" class=\"dataframe\">\n",
              "  <thead>\n",
              "    <tr style=\"text-align: right;\">\n",
              "      <th></th>\n",
              "      <th>Open</th>\n",
              "      <th>High</th>\n",
              "      <th>Low</th>\n",
              "      <th>Close</th>\n",
              "      <th>Volume_(BTC)</th>\n",
              "      <th>Volume_(Currency)</th>\n",
              "      <th>Weighted_Price</th>\n",
              "    </tr>\n",
              "    <tr>\n",
              "      <th>Timestamp</th>\n",
              "      <th></th>\n",
              "      <th></th>\n",
              "      <th></th>\n",
              "      <th></th>\n",
              "      <th></th>\n",
              "      <th></th>\n",
              "      <th></th>\n",
              "    </tr>\n",
              "  </thead>\n",
              "  <tbody>\n",
              "    <tr>\n",
              "      <th>2019-08-11 23:56:00</th>\n",
              "      <td>11555.570</td>\n",
              "      <td>11555.570</td>\n",
              "      <td>11540.370</td>\n",
              "      <td>11540.580</td>\n",
              "      <td>0.037</td>\n",
              "      <td>425.909</td>\n",
              "      <td>11552.336</td>\n",
              "    </tr>\n",
              "    <tr>\n",
              "      <th>2019-08-11 23:57:00</th>\n",
              "      <td>11553.490</td>\n",
              "      <td>11556.220</td>\n",
              "      <td>11553.490</td>\n",
              "      <td>11556.220</td>\n",
              "      <td>0.623</td>\n",
              "      <td>7204.428</td>\n",
              "      <td>11555.521</td>\n",
              "    </tr>\n",
              "    <tr>\n",
              "      <th>2019-08-11 23:58:00</th>\n",
              "      <td>11559.730</td>\n",
              "      <td>11561.220</td>\n",
              "      <td>11546.770</td>\n",
              "      <td>11561.220</td>\n",
              "      <td>0.159</td>\n",
              "      <td>1838.731</td>\n",
              "      <td>11559.252</td>\n",
              "    </tr>\n",
              "    <tr>\n",
              "      <th>2019-08-11 23:59:00</th>\n",
              "      <td>11559.730</td>\n",
              "      <td>11589.730</td>\n",
              "      <td>11528.730</td>\n",
              "      <td>11528.730</td>\n",
              "      <td>16.198</td>\n",
              "      <td>187504.635</td>\n",
              "      <td>11575.639</td>\n",
              "    </tr>\n",
              "    <tr>\n",
              "      <th>2019-08-12 00:00:00</th>\n",
              "      <td>11527.440</td>\n",
              "      <td>11551.570</td>\n",
              "      <td>11520.000</td>\n",
              "      <td>11520.000</td>\n",
              "      <td>23.806</td>\n",
              "      <td>274731.257</td>\n",
              "      <td>11540.450</td>\n",
              "    </tr>\n",
              "  </tbody>\n",
              "</table>\n",
              "</div>"
            ],
            "text/plain": [
              "                         Open      High  ...  Volume_(Currency)  Weighted_Price\n",
              "Timestamp                                ...                                   \n",
              "2019-08-11 23:56:00 11555.570 11555.570  ...            425.909       11552.336\n",
              "2019-08-11 23:57:00 11553.490 11556.220  ...           7204.428       11555.521\n",
              "2019-08-11 23:58:00 11559.730 11561.220  ...           1838.731       11559.252\n",
              "2019-08-11 23:59:00 11559.730 11589.730  ...         187504.635       11575.639\n",
              "2019-08-12 00:00:00 11527.440 11551.570  ...         274731.257       11540.450\n",
              "\n",
              "[5 rows x 7 columns]"
            ]
          },
          "metadata": {},
          "execution_count": 7
        }
      ],
      "source": [
        "btc.tail()\n"
      ]
    },
    {
      "cell_type": "markdown",
      "metadata": {
        "id": "D1Sg9wiO-QOP"
      },
      "source": [
        "Вот это уже ближе к реальности. 11550 за биткоин. Надо было покупать в 2011! =)"
      ]
    },
    {
      "cell_type": "markdown",
      "metadata": {
        "id": "Tfkyzr39-aFO"
      },
      "source": [
        "По всей таблице можно посчитать статистики:"
      ]
    },
    {
      "cell_type": "code",
      "execution_count": 8,
      "metadata": {
        "id": "5-W23ERL-tar",
        "colab": {
          "base_uri": "https://localhost:8080/",
          "height": 300
        },
        "outputId": "f7837156-e9ac-474e-e86b-0d5899f5fb2e"
      },
      "outputs": [
        {
          "output_type": "execute_result",
          "data": {
            "text/html": [
              "<div>\n",
              "<style scoped>\n",
              "    .dataframe tbody tr th:only-of-type {\n",
              "        vertical-align: middle;\n",
              "    }\n",
              "\n",
              "    .dataframe tbody tr th {\n",
              "        vertical-align: top;\n",
              "    }\n",
              "\n",
              "    .dataframe thead th {\n",
              "        text-align: right;\n",
              "    }\n",
              "</style>\n",
              "<table border=\"1\" class=\"dataframe\">\n",
              "  <thead>\n",
              "    <tr style=\"text-align: right;\">\n",
              "      <th></th>\n",
              "      <th>Open</th>\n",
              "      <th>High</th>\n",
              "      <th>Low</th>\n",
              "      <th>Close</th>\n",
              "      <th>Volume_(BTC)</th>\n",
              "      <th>Volume_(Currency)</th>\n",
              "      <th>Weighted_Price</th>\n",
              "    </tr>\n",
              "  </thead>\n",
              "  <tbody>\n",
              "    <tr>\n",
              "      <th>count</th>\n",
              "      <td>2765819.000</td>\n",
              "      <td>2765819.000</td>\n",
              "      <td>2765819.000</td>\n",
              "      <td>2765819.000</td>\n",
              "      <td>2765819.000</td>\n",
              "      <td>2765819.000</td>\n",
              "      <td>2765819.000</td>\n",
              "    </tr>\n",
              "    <tr>\n",
              "      <th>mean</th>\n",
              "      <td>3059.659</td>\n",
              "      <td>3062.027</td>\n",
              "      <td>3057.022</td>\n",
              "      <td>3059.638</td>\n",
              "      <td>10.422</td>\n",
              "      <td>26868.120</td>\n",
              "      <td>3059.499</td>\n",
              "    </tr>\n",
              "    <tr>\n",
              "      <th>std</th>\n",
              "      <td>3741.168</td>\n",
              "      <td>3744.835</td>\n",
              "      <td>3736.985</td>\n",
              "      <td>3741.134</td>\n",
              "      <td>33.750</td>\n",
              "      <td>96204.249</td>\n",
              "      <td>3740.910</td>\n",
              "    </tr>\n",
              "    <tr>\n",
              "      <th>min</th>\n",
              "      <td>3.800</td>\n",
              "      <td>3.800</td>\n",
              "      <td>1.500</td>\n",
              "      <td>1.500</td>\n",
              "      <td>0.000</td>\n",
              "      <td>0.000</td>\n",
              "      <td>3.800</td>\n",
              "    </tr>\n",
              "    <tr>\n",
              "      <th>25%</th>\n",
              "      <td>374.270</td>\n",
              "      <td>374.520</td>\n",
              "      <td>374.000</td>\n",
              "      <td>374.250</td>\n",
              "      <td>0.453</td>\n",
              "      <td>286.551</td>\n",
              "      <td>374.243</td>\n",
              "    </tr>\n",
              "    <tr>\n",
              "      <th>50%</th>\n",
              "      <td>779.450</td>\n",
              "      <td>779.910</td>\n",
              "      <td>779.010</td>\n",
              "      <td>779.490</td>\n",
              "      <td>2.100</td>\n",
              "      <td>2209.966</td>\n",
              "      <td>779.414</td>\n",
              "    </tr>\n",
              "    <tr>\n",
              "      <th>75%</th>\n",
              "      <td>5635.745</td>\n",
              "      <td>5639.500</td>\n",
              "      <td>5631.100</td>\n",
              "      <td>5635.355</td>\n",
              "      <td>8.179</td>\n",
              "      <td>15546.886</td>\n",
              "      <td>5635.118</td>\n",
              "    </tr>\n",
              "    <tr>\n",
              "      <th>max</th>\n",
              "      <td>19665.760</td>\n",
              "      <td>19666.000</td>\n",
              "      <td>19649.960</td>\n",
              "      <td>19665.750</td>\n",
              "      <td>5853.852</td>\n",
              "      <td>7569437.061</td>\n",
              "      <td>19663.299</td>\n",
              "    </tr>\n",
              "  </tbody>\n",
              "</table>\n",
              "</div>"
            ],
            "text/plain": [
              "             Open        High  ...  Volume_(Currency)  Weighted_Price\n",
              "count 2765819.000 2765819.000  ...        2765819.000     2765819.000\n",
              "mean     3059.659    3062.027  ...          26868.120        3059.499\n",
              "std      3741.168    3744.835  ...          96204.249        3740.910\n",
              "min         3.800       3.800  ...              0.000           3.800\n",
              "25%       374.270     374.520  ...            286.551         374.243\n",
              "50%       779.450     779.910  ...           2209.966         779.414\n",
              "75%      5635.745    5639.500  ...          15546.886        5635.118\n",
              "max     19665.760   19666.000  ...        7569437.061       19663.299\n",
              "\n",
              "[8 rows x 7 columns]"
            ]
          },
          "metadata": {},
          "execution_count": 8
        }
      ],
      "source": [
        "btc.describe()"
      ]
    },
    {
      "cell_type": "markdown",
      "metadata": {
        "id": "2mDUN6nn_hq3"
      },
      "source": [
        "Отсюда понимаем, что максимальная цена биткоина была **\\$19666**, а минимальная - **\\$3.8**. Медиана - **\\$779.91**."
      ]
    },
    {
      "cell_type": "markdown",
      "metadata": {
        "id": "6fc4cGpFESIP"
      },
      "source": [
        "Их можно посчитать и отдельно по каждому столбцу:"
      ]
    },
    {
      "cell_type": "code",
      "execution_count": 9,
      "metadata": {
        "id": "ndiK5VQlENe_",
        "colab": {
          "base_uri": "https://localhost:8080/"
        },
        "outputId": "68dde447-892e-48c6-b513-3da31a757ca1"
      },
      "outputs": [
        {
          "output_type": "execute_result",
          "data": {
            "text/plain": [
              "19666.0"
            ]
          },
          "metadata": {},
          "execution_count": 9
        }
      ],
      "source": [
        "btc['High'].max()"
      ]
    },
    {
      "cell_type": "code",
      "execution_count": 10,
      "metadata": {
        "id": "yA6ruOQiEWpe",
        "colab": {
          "base_uri": "https://localhost:8080/"
        },
        "outputId": "ab5c8edb-0ebf-4413-ef95-e664151ed851"
      },
      "outputs": [
        {
          "output_type": "execute_result",
          "data": {
            "text/plain": [
              "779.91"
            ]
          },
          "metadata": {},
          "execution_count": 10
        }
      ],
      "source": [
        "btc['High'].median()"
      ]
    },
    {
      "cell_type": "markdown",
      "metadata": {
        "id": "dQQoZjKcEeLq"
      },
      "source": [
        "И по всей таблице целиком:"
      ]
    },
    {
      "cell_type": "code",
      "execution_count": 11,
      "metadata": {
        "id": "wPTMmdYqEasL",
        "colab": {
          "base_uri": "https://localhost:8080/"
        },
        "outputId": "cd82bc2e-8eee-4cb5-9a47-e19162283209"
      },
      "outputs": [
        {
          "output_type": "execute_result",
          "data": {
            "text/plain": [
              "Open                3.800\n",
              "High                3.800\n",
              "Low                 1.500\n",
              "Close               1.500\n",
              "Volume_(BTC)        0.000\n",
              "Volume_(Currency)   0.000\n",
              "Weighted_Price      3.800\n",
              "dtype: float64"
            ]
          },
          "metadata": {},
          "execution_count": 11
        }
      ],
      "source": [
        "btc.min()"
      ]
    },
    {
      "cell_type": "code",
      "execution_count": 12,
      "metadata": {
        "id": "lLoc_sBbAlBD",
        "colab": {
          "base_uri": "https://localhost:8080/",
          "height": 268
        },
        "outputId": "15ec127d-1a3e-46ec-a428-5e0aa0392b77"
      },
      "outputs": [
        {
          "output_type": "execute_result",
          "data": {
            "text/html": [
              "<div>\n",
              "<style scoped>\n",
              "    .dataframe tbody tr th:only-of-type {\n",
              "        vertical-align: middle;\n",
              "    }\n",
              "\n",
              "    .dataframe tbody tr th {\n",
              "        vertical-align: top;\n",
              "    }\n",
              "\n",
              "    .dataframe thead th {\n",
              "        text-align: right;\n",
              "    }\n",
              "</style>\n",
              "<table border=\"1\" class=\"dataframe\">\n",
              "  <thead>\n",
              "    <tr style=\"text-align: right;\">\n",
              "      <th></th>\n",
              "      <th>Open</th>\n",
              "      <th>High</th>\n",
              "      <th>Low</th>\n",
              "      <th>Close</th>\n",
              "      <th>Volume_(BTC)</th>\n",
              "      <th>Volume_(Currency)</th>\n",
              "      <th>Weighted_Price</th>\n",
              "    </tr>\n",
              "  </thead>\n",
              "  <tbody>\n",
              "    <tr>\n",
              "      <th>Open</th>\n",
              "      <td>1.000</td>\n",
              "      <td>1.000</td>\n",
              "      <td>1.000</td>\n",
              "      <td>1.000</td>\n",
              "      <td>-0.040</td>\n",
              "      <td>0.362</td>\n",
              "      <td>1.000</td>\n",
              "    </tr>\n",
              "    <tr>\n",
              "      <th>High</th>\n",
              "      <td>1.000</td>\n",
              "      <td>1.000</td>\n",
              "      <td>1.000</td>\n",
              "      <td>1.000</td>\n",
              "      <td>-0.039</td>\n",
              "      <td>0.362</td>\n",
              "      <td>1.000</td>\n",
              "    </tr>\n",
              "    <tr>\n",
              "      <th>Low</th>\n",
              "      <td>1.000</td>\n",
              "      <td>1.000</td>\n",
              "      <td>1.000</td>\n",
              "      <td>1.000</td>\n",
              "      <td>-0.040</td>\n",
              "      <td>0.361</td>\n",
              "      <td>1.000</td>\n",
              "    </tr>\n",
              "    <tr>\n",
              "      <th>Close</th>\n",
              "      <td>1.000</td>\n",
              "      <td>1.000</td>\n",
              "      <td>1.000</td>\n",
              "      <td>1.000</td>\n",
              "      <td>-0.040</td>\n",
              "      <td>0.362</td>\n",
              "      <td>1.000</td>\n",
              "    </tr>\n",
              "    <tr>\n",
              "      <th>Volume_(BTC)</th>\n",
              "      <td>-0.040</td>\n",
              "      <td>-0.039</td>\n",
              "      <td>-0.040</td>\n",
              "      <td>-0.040</td>\n",
              "      <td>1.000</td>\n",
              "      <td>0.396</td>\n",
              "      <td>-0.040</td>\n",
              "    </tr>\n",
              "    <tr>\n",
              "      <th>Volume_(Currency)</th>\n",
              "      <td>0.362</td>\n",
              "      <td>0.362</td>\n",
              "      <td>0.361</td>\n",
              "      <td>0.362</td>\n",
              "      <td>0.396</td>\n",
              "      <td>1.000</td>\n",
              "      <td>0.362</td>\n",
              "    </tr>\n",
              "    <tr>\n",
              "      <th>Weighted_Price</th>\n",
              "      <td>1.000</td>\n",
              "      <td>1.000</td>\n",
              "      <td>1.000</td>\n",
              "      <td>1.000</td>\n",
              "      <td>-0.040</td>\n",
              "      <td>0.362</td>\n",
              "      <td>1.000</td>\n",
              "    </tr>\n",
              "  </tbody>\n",
              "</table>\n",
              "</div>"
            ],
            "text/plain": [
              "                    Open   High  ...  Volume_(Currency)  Weighted_Price\n",
              "Open               1.000  1.000  ...              0.362           1.000\n",
              "High               1.000  1.000  ...              0.362           1.000\n",
              "Low                1.000  1.000  ...              0.361           1.000\n",
              "Close              1.000  1.000  ...              0.362           1.000\n",
              "Volume_(BTC)      -0.040 -0.039  ...              0.396          -0.040\n",
              "Volume_(Currency)  0.362  0.362  ...              1.000           0.362\n",
              "Weighted_Price     1.000  1.000  ...              0.362           1.000\n",
              "\n",
              "[7 rows x 7 columns]"
            ]
          },
          "metadata": {},
          "execution_count": 12
        }
      ],
      "source": [
        "btc.corr()"
      ]
    },
    {
      "cell_type": "markdown",
      "metadata": {
        "id": "mmxJ9X2cAuO0"
      },
      "source": [
        "По корреляции мы мало что можем сказать. Хотя была бы интересна зависимость от цены и объемами покупки.\n"
      ]
    },
    {
      "cell_type": "markdown",
      "metadata": {
        "id": "7qY322qTCNBA"
      },
      "source": [
        "Pandas позволяет фильтровать определенные данные (что-то вроде запросов к таблице):"
      ]
    },
    {
      "cell_type": "code",
      "execution_count": 13,
      "metadata": {
        "id": "PDfMANA7Brqu",
        "colab": {
          "base_uri": "https://localhost:8080/",
          "height": 237
        },
        "outputId": "87eb27ba-5016-4a88-b83b-04c7b7051d4d"
      },
      "outputs": [
        {
          "output_type": "execute_result",
          "data": {
            "text/html": [
              "<div>\n",
              "<style scoped>\n",
              "    .dataframe tbody tr th:only-of-type {\n",
              "        vertical-align: middle;\n",
              "    }\n",
              "\n",
              "    .dataframe tbody tr th {\n",
              "        vertical-align: top;\n",
              "    }\n",
              "\n",
              "    .dataframe thead th {\n",
              "        text-align: right;\n",
              "    }\n",
              "</style>\n",
              "<table border=\"1\" class=\"dataframe\">\n",
              "  <thead>\n",
              "    <tr style=\"text-align: right;\">\n",
              "      <th></th>\n",
              "      <th>Open</th>\n",
              "      <th>High</th>\n",
              "      <th>Low</th>\n",
              "      <th>Close</th>\n",
              "      <th>Volume_(BTC)</th>\n",
              "      <th>Volume_(Currency)</th>\n",
              "      <th>Weighted_Price</th>\n",
              "    </tr>\n",
              "    <tr>\n",
              "      <th>Timestamp</th>\n",
              "      <th></th>\n",
              "      <th></th>\n",
              "      <th></th>\n",
              "      <th></th>\n",
              "      <th></th>\n",
              "      <th></th>\n",
              "      <th></th>\n",
              "    </tr>\n",
              "  </thead>\n",
              "  <tbody>\n",
              "    <tr>\n",
              "      <th>2017-05-20 22:59:00</th>\n",
              "      <td>2000.000</td>\n",
              "      <td>2004.000</td>\n",
              "      <td>1999.600</td>\n",
              "      <td>1999.600</td>\n",
              "      <td>205.157</td>\n",
              "      <td>410349.574</td>\n",
              "      <td>2000.170</td>\n",
              "    </tr>\n",
              "    <tr>\n",
              "      <th>2017-05-20 23:00:00</th>\n",
              "      <td>2004.000</td>\n",
              "      <td>2008.000</td>\n",
              "      <td>2001.990</td>\n",
              "      <td>2005.450</td>\n",
              "      <td>22.815</td>\n",
              "      <td>45752.828</td>\n",
              "      <td>2005.394</td>\n",
              "    </tr>\n",
              "    <tr>\n",
              "      <th>2017-05-20 23:01:00</th>\n",
              "      <td>2007.000</td>\n",
              "      <td>2010.000</td>\n",
              "      <td>2005.450</td>\n",
              "      <td>2010.000</td>\n",
              "      <td>21.909</td>\n",
              "      <td>43993.707</td>\n",
              "      <td>2008.031</td>\n",
              "    </tr>\n",
              "    <tr>\n",
              "      <th>2017-05-20 23:02:00</th>\n",
              "      <td>2008.950</td>\n",
              "      <td>2014.300</td>\n",
              "      <td>2004.970</td>\n",
              "      <td>2004.970</td>\n",
              "      <td>28.773</td>\n",
              "      <td>57857.905</td>\n",
              "      <td>2010.814</td>\n",
              "    </tr>\n",
              "    <tr>\n",
              "      <th>2017-05-20 23:03:00</th>\n",
              "      <td>2004.970</td>\n",
              "      <td>2014.560</td>\n",
              "      <td>2004.970</td>\n",
              "      <td>2007.400</td>\n",
              "      <td>37.454</td>\n",
              "      <td>75402.027</td>\n",
              "      <td>2013.169</td>\n",
              "    </tr>\n",
              "  </tbody>\n",
              "</table>\n",
              "</div>"
            ],
            "text/plain": [
              "                        Open     High  ...  Volume_(Currency)  Weighted_Price\n",
              "Timestamp                              ...                                   \n",
              "2017-05-20 22:59:00 2000.000 2004.000  ...         410349.574        2000.170\n",
              "2017-05-20 23:00:00 2004.000 2008.000  ...          45752.828        2005.394\n",
              "2017-05-20 23:01:00 2007.000 2010.000  ...          43993.707        2008.031\n",
              "2017-05-20 23:02:00 2008.950 2014.300  ...          57857.905        2010.814\n",
              "2017-05-20 23:03:00 2004.970 2014.560  ...          75402.027        2013.169\n",
              "\n",
              "[5 rows x 7 columns]"
            ]
          },
          "metadata": {},
          "execution_count": 13
        }
      ],
      "source": [
        "btc[btc['Weighted_Price']>2000].head()     # Выберем строки, где общая цена покупки более $2000"
      ]
    },
    {
      "cell_type": "code",
      "execution_count": 14,
      "metadata": {
        "id": "gQupJqXE5u4R",
        "colab": {
          "base_uri": "https://localhost:8080/"
        },
        "outputId": "130d92bf-e989-4ae7-da9e-0e762b151cd9"
      },
      "outputs": [
        {
          "output_type": "execute_result",
          "data": {
            "text/plain": [
              "19663.298888"
            ]
          },
          "metadata": {},
          "execution_count": 14
        }
      ],
      "source": [
        "btc['Weighted_Price'].max()"
      ]
    },
    {
      "cell_type": "markdown",
      "metadata": {
        "id": "FFTBbKHtCbC9"
      },
      "source": [
        "Отсюда видим, что впервые это случилось в 2017 году."
      ]
    },
    {
      "cell_type": "markdown",
      "metadata": {
        "id": "wEjE7gnRNHIt"
      },
      "source": [
        "### Работа с несколькими таблицами"
      ]
    },
    {
      "cell_type": "markdown",
      "metadata": {
        "id": "WZieqF2qDQyA"
      },
      "source": [
        "Допустим, мы хотим узнать, сколько стоил биткоин в рублях в каждый конкретный момент времени. Для этого были выгружены настоящие данные по курсу валют по годам (эти таблицы вы уже скачали в первой ячейке). Т.к. файлов много, а таблицу хочется одну, надо будет все объединить:"
      ]
    },
    {
      "cell_type": "code",
      "execution_count": 15,
      "metadata": {
        "id": "HsTHF8UXRsh4",
        "colab": {
          "base_uri": "https://localhost:8080/",
          "height": 206
        },
        "outputId": "e005c647-f2cb-41b3-8b38-e1669f563b8b"
      },
      "outputs": [
        {
          "output_type": "execute_result",
          "data": {
            "text/html": [
              "<div>\n",
              "<style scoped>\n",
              "    .dataframe tbody tr th:only-of-type {\n",
              "        vertical-align: middle;\n",
              "    }\n",
              "\n",
              "    .dataframe tbody tr th {\n",
              "        vertical-align: top;\n",
              "    }\n",
              "\n",
              "    .dataframe thead th {\n",
              "        text-align: right;\n",
              "    }\n",
              "</style>\n",
              "<table border=\"1\" class=\"dataframe\">\n",
              "  <thead>\n",
              "    <tr style=\"text-align: right;\">\n",
              "      <th></th>\n",
              "      <th>&lt;TICKER&gt;</th>\n",
              "      <th>&lt;PER&gt;</th>\n",
              "      <th>&lt;DATE&gt;</th>\n",
              "      <th>&lt;TIME&gt;</th>\n",
              "      <th>&lt;OPEN&gt;</th>\n",
              "      <th>&lt;HIGH&gt;</th>\n",
              "      <th>&lt;LOW&gt;</th>\n",
              "      <th>&lt;CLOSE&gt;</th>\n",
              "      <th>&lt;VOL&gt;</th>\n",
              "    </tr>\n",
              "  </thead>\n",
              "  <tbody>\n",
              "    <tr>\n",
              "      <th>0</th>\n",
              "      <td>USDRUB</td>\n",
              "      <td>1</td>\n",
              "      <td>20110101</td>\n",
              "      <td>100</td>\n",
              "      <td>30.560</td>\n",
              "      <td>30.560</td>\n",
              "      <td>30.560</td>\n",
              "      <td>30.560</td>\n",
              "      <td>0</td>\n",
              "    </tr>\n",
              "    <tr>\n",
              "      <th>1</th>\n",
              "      <td>USDRUB</td>\n",
              "      <td>1</td>\n",
              "      <td>20110101</td>\n",
              "      <td>300</td>\n",
              "      <td>30.520</td>\n",
              "      <td>30.520</td>\n",
              "      <td>30.520</td>\n",
              "      <td>30.520</td>\n",
              "      <td>0</td>\n",
              "    </tr>\n",
              "    <tr>\n",
              "      <th>2</th>\n",
              "      <td>USDRUB</td>\n",
              "      <td>1</td>\n",
              "      <td>20110101</td>\n",
              "      <td>1100</td>\n",
              "      <td>30.550</td>\n",
              "      <td>30.550</td>\n",
              "      <td>30.550</td>\n",
              "      <td>30.550</td>\n",
              "      <td>0</td>\n",
              "    </tr>\n",
              "    <tr>\n",
              "      <th>3</th>\n",
              "      <td>USDRUB</td>\n",
              "      <td>1</td>\n",
              "      <td>20110101</td>\n",
              "      <td>3100</td>\n",
              "      <td>30.550</td>\n",
              "      <td>30.550</td>\n",
              "      <td>30.550</td>\n",
              "      <td>30.550</td>\n",
              "      <td>0</td>\n",
              "    </tr>\n",
              "    <tr>\n",
              "      <th>4</th>\n",
              "      <td>USDRUB</td>\n",
              "      <td>1</td>\n",
              "      <td>20110101</td>\n",
              "      <td>3200</td>\n",
              "      <td>30.520</td>\n",
              "      <td>30.520</td>\n",
              "      <td>30.520</td>\n",
              "      <td>30.520</td>\n",
              "      <td>0</td>\n",
              "    </tr>\n",
              "  </tbody>\n",
              "</table>\n",
              "</div>"
            ],
            "text/plain": [
              "  <TICKER>  <PER>    <DATE>  <TIME>  <OPEN>  <HIGH>  <LOW>  <CLOSE>  <VOL>\n",
              "0   USDRUB      1  20110101     100  30.560  30.560 30.560   30.560      0\n",
              "1   USDRUB      1  20110101     300  30.520  30.520 30.520   30.520      0\n",
              "2   USDRUB      1  20110101    1100  30.550  30.550 30.550   30.550      0\n",
              "3   USDRUB      1  20110101    3100  30.550  30.550 30.550   30.550      0\n",
              "4   USDRUB      1  20110101    3200  30.520  30.520 30.520   30.520      0"
            ]
          },
          "metadata": {},
          "execution_count": 15
        }
      ],
      "source": [
        "usd_rub = pd.read_csv('USDRUB_' + str(11) + '0101_' + str(11) + '1231.csv')\n",
        "\n",
        "for year in range(12, 19):\n",
        "    table = pd.read_csv('USDRUB_' + str(year) + '0101_' + str(year) + '1231.csv')\n",
        "    usd_rub = pd.concat([usd_rub, table])\n",
        "    \n",
        "table = pd.read_csv('USDRUB_190101_190812.csv')\n",
        "usd_rub = pd.concat([usd_rub, table])\n",
        "usd_rub.head()"
      ]
    },
    {
      "cell_type": "markdown",
      "metadata": {
        "id": "lwt-qz44_F4d"
      },
      "source": [
        "Выше данные по курсу в начале 2011 года. Посмотрим, что было в августе 2019 (данные по биткоину ограничены им)."
      ]
    },
    {
      "cell_type": "code",
      "execution_count": 16,
      "metadata": {
        "id": "kv0xYpqiS-E1",
        "colab": {
          "base_uri": "https://localhost:8080/",
          "height": 206
        },
        "outputId": "d99e150d-435c-4bea-a488-c45750f5c26b"
      },
      "outputs": [
        {
          "output_type": "execute_result",
          "data": {
            "text/html": [
              "<div>\n",
              "<style scoped>\n",
              "    .dataframe tbody tr th:only-of-type {\n",
              "        vertical-align: middle;\n",
              "    }\n",
              "\n",
              "    .dataframe tbody tr th {\n",
              "        vertical-align: top;\n",
              "    }\n",
              "\n",
              "    .dataframe thead th {\n",
              "        text-align: right;\n",
              "    }\n",
              "</style>\n",
              "<table border=\"1\" class=\"dataframe\">\n",
              "  <thead>\n",
              "    <tr style=\"text-align: right;\">\n",
              "      <th></th>\n",
              "      <th>&lt;TICKER&gt;</th>\n",
              "      <th>&lt;PER&gt;</th>\n",
              "      <th>&lt;DATE&gt;</th>\n",
              "      <th>&lt;TIME&gt;</th>\n",
              "      <th>&lt;OPEN&gt;</th>\n",
              "      <th>&lt;HIGH&gt;</th>\n",
              "      <th>&lt;LOW&gt;</th>\n",
              "      <th>&lt;CLOSE&gt;</th>\n",
              "      <th>&lt;VOL&gt;</th>\n",
              "    </tr>\n",
              "  </thead>\n",
              "  <tbody>\n",
              "    <tr>\n",
              "      <th>221910</th>\n",
              "      <td>USDRUB</td>\n",
              "      <td>1</td>\n",
              "      <td>20190812</td>\n",
              "      <td>235700</td>\n",
              "      <td>65.378</td>\n",
              "      <td>65.423</td>\n",
              "      <td>65.376</td>\n",
              "      <td>65.411</td>\n",
              "      <td>13</td>\n",
              "    </tr>\n",
              "    <tr>\n",
              "      <th>221911</th>\n",
              "      <td>USDRUB</td>\n",
              "      <td>1</td>\n",
              "      <td>20190812</td>\n",
              "      <td>235800</td>\n",
              "      <td>65.376</td>\n",
              "      <td>65.431</td>\n",
              "      <td>65.376</td>\n",
              "      <td>65.380</td>\n",
              "      <td>13</td>\n",
              "    </tr>\n",
              "    <tr>\n",
              "      <th>221912</th>\n",
              "      <td>USDRUB</td>\n",
              "      <td>1</td>\n",
              "      <td>20190812</td>\n",
              "      <td>235900</td>\n",
              "      <td>65.421</td>\n",
              "      <td>65.426</td>\n",
              "      <td>65.421</td>\n",
              "      <td>65.421</td>\n",
              "      <td>8</td>\n",
              "    </tr>\n",
              "    <tr>\n",
              "      <th>221913</th>\n",
              "      <td>USDRUB</td>\n",
              "      <td>1</td>\n",
              "      <td>20190813</td>\n",
              "      <td>0</td>\n",
              "      <td>65.446</td>\n",
              "      <td>65.446</td>\n",
              "      <td>65.399</td>\n",
              "      <td>65.414</td>\n",
              "      <td>27</td>\n",
              "    </tr>\n",
              "    <tr>\n",
              "      <th>221914</th>\n",
              "      <td>USDRUB</td>\n",
              "      <td>1</td>\n",
              "      <td>20190813</td>\n",
              "      <td>100</td>\n",
              "      <td>65.418</td>\n",
              "      <td>65.476</td>\n",
              "      <td>65.387</td>\n",
              "      <td>65.467</td>\n",
              "      <td>9</td>\n",
              "    </tr>\n",
              "  </tbody>\n",
              "</table>\n",
              "</div>"
            ],
            "text/plain": [
              "       <TICKER>  <PER>    <DATE>  <TIME>  <OPEN>  <HIGH>  <LOW>  <CLOSE>  <VOL>\n",
              "221910   USDRUB      1  20190812  235700  65.378  65.423 65.376   65.411     13\n",
              "221911   USDRUB      1  20190812  235800  65.376  65.431 65.376   65.380     13\n",
              "221912   USDRUB      1  20190812  235900  65.421  65.426 65.421   65.421      8\n",
              "221913   USDRUB      1  20190813       0  65.446  65.446 65.399   65.414     27\n",
              "221914   USDRUB      1  20190813     100  65.418  65.476 65.387   65.467      9"
            ]
          },
          "metadata": {},
          "execution_count": 16
        }
      ],
      "source": [
        "usd_rub.tail()"
      ]
    },
    {
      "cell_type": "markdown",
      "metadata": {
        "id": "oWrIqHEH_ddo"
      },
      "source": [
        "Два столбца **\\<DATE>** и **\\<TIME>** хранят в числовом формате дату и время, их надо объединить, преобразовать к внутреннему типу **datetime** и сделать индексами."
      ]
    },
    {
      "cell_type": "code",
      "execution_count": 17,
      "metadata": {
        "id": "J77XmSjLW_2X",
        "colab": {
          "base_uri": "https://localhost:8080/",
          "height": 237
        },
        "outputId": "d31dbdfc-6f31-4b55-a09f-2c7003cf3115"
      },
      "outputs": [
        {
          "output_type": "execute_result",
          "data": {
            "text/html": [
              "<div>\n",
              "<style scoped>\n",
              "    .dataframe tbody tr th:only-of-type {\n",
              "        vertical-align: middle;\n",
              "    }\n",
              "\n",
              "    .dataframe tbody tr th {\n",
              "        vertical-align: top;\n",
              "    }\n",
              "\n",
              "    .dataframe thead th {\n",
              "        text-align: right;\n",
              "    }\n",
              "</style>\n",
              "<table border=\"1\" class=\"dataframe\">\n",
              "  <thead>\n",
              "    <tr style=\"text-align: right;\">\n",
              "      <th></th>\n",
              "      <th>&lt;TICKER&gt;</th>\n",
              "      <th>&lt;PER&gt;</th>\n",
              "      <th>&lt;DATE&gt;</th>\n",
              "      <th>&lt;TIME&gt;</th>\n",
              "      <th>&lt;OPEN&gt;</th>\n",
              "      <th>&lt;HIGH&gt;</th>\n",
              "      <th>&lt;LOW&gt;</th>\n",
              "      <th>&lt;CLOSE&gt;</th>\n",
              "      <th>&lt;VOL&gt;</th>\n",
              "      <th>&lt;DATETIME&gt;</th>\n",
              "    </tr>\n",
              "    <tr>\n",
              "      <th>&lt;DATETIME&gt;</th>\n",
              "      <th></th>\n",
              "      <th></th>\n",
              "      <th></th>\n",
              "      <th></th>\n",
              "      <th></th>\n",
              "      <th></th>\n",
              "      <th></th>\n",
              "      <th></th>\n",
              "      <th></th>\n",
              "      <th></th>\n",
              "    </tr>\n",
              "  </thead>\n",
              "  <tbody>\n",
              "    <tr>\n",
              "      <th>2011-01-01 00:01:00</th>\n",
              "      <td>USDRUB</td>\n",
              "      <td>1</td>\n",
              "      <td>2011-01-01</td>\n",
              "      <td>00:01:00</td>\n",
              "      <td>30.560</td>\n",
              "      <td>30.560</td>\n",
              "      <td>30.560</td>\n",
              "      <td>30.560</td>\n",
              "      <td>0</td>\n",
              "      <td>2011-01-01 00:01:00</td>\n",
              "    </tr>\n",
              "    <tr>\n",
              "      <th>2011-01-01 00:03:00</th>\n",
              "      <td>USDRUB</td>\n",
              "      <td>1</td>\n",
              "      <td>2011-01-01</td>\n",
              "      <td>00:03:00</td>\n",
              "      <td>30.520</td>\n",
              "      <td>30.520</td>\n",
              "      <td>30.520</td>\n",
              "      <td>30.520</td>\n",
              "      <td>0</td>\n",
              "      <td>2011-01-01 00:03:00</td>\n",
              "    </tr>\n",
              "    <tr>\n",
              "      <th>2011-01-01 00:11:00</th>\n",
              "      <td>USDRUB</td>\n",
              "      <td>1</td>\n",
              "      <td>2011-01-01</td>\n",
              "      <td>00:11:00</td>\n",
              "      <td>30.550</td>\n",
              "      <td>30.550</td>\n",
              "      <td>30.550</td>\n",
              "      <td>30.550</td>\n",
              "      <td>0</td>\n",
              "      <td>2011-01-01 00:11:00</td>\n",
              "    </tr>\n",
              "    <tr>\n",
              "      <th>2011-01-01 00:31:00</th>\n",
              "      <td>USDRUB</td>\n",
              "      <td>1</td>\n",
              "      <td>2011-01-01</td>\n",
              "      <td>00:31:00</td>\n",
              "      <td>30.550</td>\n",
              "      <td>30.550</td>\n",
              "      <td>30.550</td>\n",
              "      <td>30.550</td>\n",
              "      <td>0</td>\n",
              "      <td>2011-01-01 00:31:00</td>\n",
              "    </tr>\n",
              "    <tr>\n",
              "      <th>2011-01-01 00:32:00</th>\n",
              "      <td>USDRUB</td>\n",
              "      <td>1</td>\n",
              "      <td>2011-01-01</td>\n",
              "      <td>00:32:00</td>\n",
              "      <td>30.520</td>\n",
              "      <td>30.520</td>\n",
              "      <td>30.520</td>\n",
              "      <td>30.520</td>\n",
              "      <td>0</td>\n",
              "      <td>2011-01-01 00:32:00</td>\n",
              "    </tr>\n",
              "  </tbody>\n",
              "</table>\n",
              "</div>"
            ],
            "text/plain": [
              "                    <TICKER>  <PER>  ... <VOL>           <DATETIME>\n",
              "<DATETIME>                           ...                           \n",
              "2011-01-01 00:01:00   USDRUB      1  ...     0  2011-01-01 00:01:00\n",
              "2011-01-01 00:03:00   USDRUB      1  ...     0  2011-01-01 00:03:00\n",
              "2011-01-01 00:11:00   USDRUB      1  ...     0  2011-01-01 00:11:00\n",
              "2011-01-01 00:31:00   USDRUB      1  ...     0  2011-01-01 00:31:00\n",
              "2011-01-01 00:32:00   USDRUB      1  ...     0  2011-01-01 00:32:00\n",
              "\n",
              "[5 rows x 10 columns]"
            ]
          },
          "metadata": {},
          "execution_count": 17
        }
      ],
      "source": [
        "usd_rub['<DATE>'] = usd_rub['<DATE>'].astype(str)\n",
        "usd_rub['<TIME>'] = usd_rub['<TIME>'].astype(str)    #переводим в строку атрибуты\n",
        "\n",
        "def create_time(s):\n",
        "    s = '0'*(6-len(s)) + s  #как добавить нули которых нет\n",
        "    s = ' ' + s[:2] + ':' + s[2:4] + ':' + s[4:]\n",
        "    return s\n",
        "\n",
        "def create_date(s):\n",
        "    s = s[:4] + '-' + s[4:6] + '-' + s[6:]\n",
        "    return s\n",
        "\n",
        "usd_rub['<TIME>'] = usd_rub['<TIME>'].apply(create_time)\n",
        "usd_rub['<DATE>'] = usd_rub['<DATE>'].apply(create_date)\n",
        "\n",
        "\n",
        "usd_rub['<DATETIME>'] = usd_rub['<DATE>'] + usd_rub['<TIME>']\n",
        "usd_rub.index = usd_rub['<DATETIME>'].apply(lambda x: datetime.datetime.strptime(x, '%Y-%m-%d %H:%M:%S'))\n",
        "\n",
        "usd_rub.head()"
      ]
    },
    {
      "cell_type": "markdown",
      "metadata": {
        "id": "Da1rPGlq_6Ui"
      },
      "source": [
        "При объединении таблиц с курсами доллара по годам, появлялись дубликаты. Удалим их и оставим только столбец **\\<CLOSE>**, т.к. нас интересует только курс доллара, чтобы мы могли узнать цены биткоина в рублях. А цены открытия\\закрытия и объемы продаж мало интересуют."
      ]
    },
    {
      "cell_type": "code",
      "execution_count": 18,
      "metadata": {
        "id": "sr22_seB1g9G",
        "colab": {
          "base_uri": "https://localhost:8080/"
        },
        "outputId": "b320e8a6-5c17-4343-a74d-976ce9d0aa5e"
      },
      "outputs": [
        {
          "output_type": "execute_result",
          "data": {
            "text/plain": [
              "<DATETIME>\n",
              "2011-01-01 00:01:00   30.560\n",
              "2011-01-01 00:03:00   30.520\n",
              "2011-01-01 00:11:00   30.550\n",
              "2011-01-01 00:31:00   30.550\n",
              "2011-01-01 00:32:00   30.520\n",
              "Name: <CLOSE>, dtype: float64"
            ]
          },
          "metadata": {},
          "execution_count": 18
        }
      ],
      "source": [
        "usd_rub.drop_duplicates(inplace=True)\n",
        "usd_rub = usd_rub['<CLOSE>']\n",
        "usd_rub.head()"
      ]
    },
    {
      "cell_type": "markdown",
      "metadata": {
        "id": "pb61kVLOAWBP"
      },
      "source": [
        "Как видим, здесь даны курсы валют не каждую минуту (00:01, далее 00:03 и 00:11). Но тогда мы не сможем объединить ее с таблицей по биткоину. Надо заполнить все промежутки. \n",
        "\n",
        "Для этого создадим дополнительный пустой DataFrame, где будут все нужные даты и время с шагом в одну минуту. После чего объединим его с таблицей по курсу валют:"
      ]
    },
    {
      "cell_type": "code",
      "execution_count": 19,
      "metadata": {
        "id": "g-R2mibD2hMr",
        "colab": {
          "base_uri": "https://localhost:8080/",
          "height": 363
        },
        "outputId": "f22d564b-5bc7-4d4d-a8d9-280fe25b7ae5"
      },
      "outputs": [
        {
          "output_type": "execute_result",
          "data": {
            "text/html": [
              "<div>\n",
              "<style scoped>\n",
              "    .dataframe tbody tr th:only-of-type {\n",
              "        vertical-align: middle;\n",
              "    }\n",
              "\n",
              "    .dataframe tbody tr th {\n",
              "        vertical-align: top;\n",
              "    }\n",
              "\n",
              "    .dataframe thead th {\n",
              "        text-align: right;\n",
              "    }\n",
              "</style>\n",
              "<table border=\"1\" class=\"dataframe\">\n",
              "  <thead>\n",
              "    <tr style=\"text-align: right;\">\n",
              "      <th></th>\n",
              "      <th>&lt;CLOSE&gt;</th>\n",
              "    </tr>\n",
              "  </thead>\n",
              "  <tbody>\n",
              "    <tr>\n",
              "      <th>2011-01-01 00:00:00</th>\n",
              "      <td>nan</td>\n",
              "    </tr>\n",
              "    <tr>\n",
              "      <th>2011-01-01 00:01:00</th>\n",
              "      <td>30.560</td>\n",
              "    </tr>\n",
              "    <tr>\n",
              "      <th>2011-01-01 00:02:00</th>\n",
              "      <td>nan</td>\n",
              "    </tr>\n",
              "    <tr>\n",
              "      <th>2011-01-01 00:03:00</th>\n",
              "      <td>30.520</td>\n",
              "    </tr>\n",
              "    <tr>\n",
              "      <th>2011-01-01 00:04:00</th>\n",
              "      <td>nan</td>\n",
              "    </tr>\n",
              "    <tr>\n",
              "      <th>2011-01-01 00:05:00</th>\n",
              "      <td>nan</td>\n",
              "    </tr>\n",
              "    <tr>\n",
              "      <th>2011-01-01 00:06:00</th>\n",
              "      <td>nan</td>\n",
              "    </tr>\n",
              "    <tr>\n",
              "      <th>2011-01-01 00:07:00</th>\n",
              "      <td>nan</td>\n",
              "    </tr>\n",
              "    <tr>\n",
              "      <th>2011-01-01 00:08:00</th>\n",
              "      <td>nan</td>\n",
              "    </tr>\n",
              "    <tr>\n",
              "      <th>2011-01-01 00:09:00</th>\n",
              "      <td>nan</td>\n",
              "    </tr>\n",
              "  </tbody>\n",
              "</table>\n",
              "</div>"
            ],
            "text/plain": [
              "                     <CLOSE>\n",
              "2011-01-01 00:00:00      nan\n",
              "2011-01-01 00:01:00   30.560\n",
              "2011-01-01 00:02:00      nan\n",
              "2011-01-01 00:03:00   30.520\n",
              "2011-01-01 00:04:00      nan\n",
              "2011-01-01 00:05:00      nan\n",
              "2011-01-01 00:06:00      nan\n",
              "2011-01-01 00:07:00      nan\n",
              "2011-01-01 00:08:00      nan\n",
              "2011-01-01 00:09:00      nan"
            ]
          },
          "metadata": {},
          "execution_count": 19
        }
      ],
      "source": [
        "all_dates = pd.DataFrame(columns=['N'],index=pd.date_range(start='1/1/2011', end='8/12/2019', freq='min'))\n",
        "\n",
        "usd_rub = pd.concat([usd_rub, all_dates], axis=1)\n",
        "del usd_rub['N']\n",
        "usd_rub.head(10)"
      ]
    },
    {
      "cell_type": "markdown",
      "metadata": {
        "id": "vGeHxxAfCAWl"
      },
      "source": [
        "Видим очень много Nan (неизвестных значений). Возможно, это случалось потому, что в этот период не было ни одной сделки. Тогда протянем последнюю известную цену ниже для всех Nan."
      ]
    },
    {
      "cell_type": "code",
      "execution_count": 20,
      "metadata": {
        "id": "a6v5cLaZGNjZ"
      },
      "outputs": [],
      "source": [
        "usd_rub.rename(columns={'<CLOSE>':'USD_RUB'}, inplace=True)"
      ]
    },
    {
      "cell_type": "code",
      "execution_count": 21,
      "metadata": {
        "id": "Fn1m-3nJB0f9",
        "colab": {
          "base_uri": "https://localhost:8080/",
          "height": 363
        },
        "outputId": "ab68e7c5-33e8-4000-e66b-4a362e40717d"
      },
      "outputs": [
        {
          "output_type": "execute_result",
          "data": {
            "text/html": [
              "<div>\n",
              "<style scoped>\n",
              "    .dataframe tbody tr th:only-of-type {\n",
              "        vertical-align: middle;\n",
              "    }\n",
              "\n",
              "    .dataframe tbody tr th {\n",
              "        vertical-align: top;\n",
              "    }\n",
              "\n",
              "    .dataframe thead th {\n",
              "        text-align: right;\n",
              "    }\n",
              "</style>\n",
              "<table border=\"1\" class=\"dataframe\">\n",
              "  <thead>\n",
              "    <tr style=\"text-align: right;\">\n",
              "      <th></th>\n",
              "      <th>USD_RUB</th>\n",
              "    </tr>\n",
              "  </thead>\n",
              "  <tbody>\n",
              "    <tr>\n",
              "      <th>2011-01-01 00:00:00</th>\n",
              "      <td>nan</td>\n",
              "    </tr>\n",
              "    <tr>\n",
              "      <th>2011-01-01 00:01:00</th>\n",
              "      <td>30.560</td>\n",
              "    </tr>\n",
              "    <tr>\n",
              "      <th>2011-01-01 00:02:00</th>\n",
              "      <td>30.560</td>\n",
              "    </tr>\n",
              "    <tr>\n",
              "      <th>2011-01-01 00:03:00</th>\n",
              "      <td>30.520</td>\n",
              "    </tr>\n",
              "    <tr>\n",
              "      <th>2011-01-01 00:04:00</th>\n",
              "      <td>30.520</td>\n",
              "    </tr>\n",
              "    <tr>\n",
              "      <th>2011-01-01 00:05:00</th>\n",
              "      <td>30.520</td>\n",
              "    </tr>\n",
              "    <tr>\n",
              "      <th>2011-01-01 00:06:00</th>\n",
              "      <td>30.520</td>\n",
              "    </tr>\n",
              "    <tr>\n",
              "      <th>2011-01-01 00:07:00</th>\n",
              "      <td>30.520</td>\n",
              "    </tr>\n",
              "    <tr>\n",
              "      <th>2011-01-01 00:08:00</th>\n",
              "      <td>30.520</td>\n",
              "    </tr>\n",
              "    <tr>\n",
              "      <th>2011-01-01 00:09:00</th>\n",
              "      <td>30.520</td>\n",
              "    </tr>\n",
              "  </tbody>\n",
              "</table>\n",
              "</div>"
            ],
            "text/plain": [
              "                     USD_RUB\n",
              "2011-01-01 00:00:00      nan\n",
              "2011-01-01 00:01:00   30.560\n",
              "2011-01-01 00:02:00   30.560\n",
              "2011-01-01 00:03:00   30.520\n",
              "2011-01-01 00:04:00   30.520\n",
              "2011-01-01 00:05:00   30.520\n",
              "2011-01-01 00:06:00   30.520\n",
              "2011-01-01 00:07:00   30.520\n",
              "2011-01-01 00:08:00   30.520\n",
              "2011-01-01 00:09:00   30.520"
            ]
          },
          "metadata": {},
          "execution_count": 21
        }
      ],
      "source": [
        "usd_rub.fillna(method='ffill', inplace=True)\n",
        "usd_rub.head(10)"
      ]
    },
    {
      "cell_type": "markdown",
      "metadata": {
        "id": "Ur7xuX2dCZOj"
      },
      "source": [
        "И одну цену протянем выше."
      ]
    },
    {
      "cell_type": "code",
      "execution_count": 22,
      "metadata": {
        "id": "Ng2MLp1K9E5b",
        "colab": {
          "base_uri": "https://localhost:8080/",
          "height": 206
        },
        "outputId": "20f9a827-2b4a-4a71-d0d7-2a90006b2f15"
      },
      "outputs": [
        {
          "output_type": "execute_result",
          "data": {
            "text/html": [
              "<div>\n",
              "<style scoped>\n",
              "    .dataframe tbody tr th:only-of-type {\n",
              "        vertical-align: middle;\n",
              "    }\n",
              "\n",
              "    .dataframe tbody tr th {\n",
              "        vertical-align: top;\n",
              "    }\n",
              "\n",
              "    .dataframe thead th {\n",
              "        text-align: right;\n",
              "    }\n",
              "</style>\n",
              "<table border=\"1\" class=\"dataframe\">\n",
              "  <thead>\n",
              "    <tr style=\"text-align: right;\">\n",
              "      <th></th>\n",
              "      <th>USD_RUB</th>\n",
              "    </tr>\n",
              "  </thead>\n",
              "  <tbody>\n",
              "    <tr>\n",
              "      <th>2011-01-01 00:00:00</th>\n",
              "      <td>30.560</td>\n",
              "    </tr>\n",
              "    <tr>\n",
              "      <th>2011-01-01 00:01:00</th>\n",
              "      <td>30.560</td>\n",
              "    </tr>\n",
              "    <tr>\n",
              "      <th>2011-01-01 00:02:00</th>\n",
              "      <td>30.560</td>\n",
              "    </tr>\n",
              "    <tr>\n",
              "      <th>2011-01-01 00:03:00</th>\n",
              "      <td>30.520</td>\n",
              "    </tr>\n",
              "    <tr>\n",
              "      <th>2011-01-01 00:04:00</th>\n",
              "      <td>30.520</td>\n",
              "    </tr>\n",
              "  </tbody>\n",
              "</table>\n",
              "</div>"
            ],
            "text/plain": [
              "                     USD_RUB\n",
              "2011-01-01 00:00:00   30.560\n",
              "2011-01-01 00:01:00   30.560\n",
              "2011-01-01 00:02:00   30.560\n",
              "2011-01-01 00:03:00   30.520\n",
              "2011-01-01 00:04:00   30.520"
            ]
          },
          "metadata": {},
          "execution_count": 22
        }
      ],
      "source": [
        "usd_rub.fillna(method='bfill', inplace=True)\n",
        "usd_rub.head()"
      ]
    },
    {
      "cell_type": "markdown",
      "metadata": {
        "id": "e1FZDlBCCmyq"
      },
      "source": [
        "Ура! Курс доллара к рублю заполнен. Объединим эту таблицу с информацией по биткоину:"
      ]
    },
    {
      "cell_type": "code",
      "execution_count": 23,
      "metadata": {
        "colab": {
          "base_uri": "https://localhost:8080/",
          "height": 206
        },
        "id": "5lqw8Cxn7tQX",
        "outputId": "d61045d3-11e1-4d88-dcbe-7590183c1ac9"
      },
      "outputs": [
        {
          "output_type": "execute_result",
          "data": {
            "text/html": [
              "<div>\n",
              "<style scoped>\n",
              "    .dataframe tbody tr th:only-of-type {\n",
              "        vertical-align: middle;\n",
              "    }\n",
              "\n",
              "    .dataframe tbody tr th {\n",
              "        vertical-align: top;\n",
              "    }\n",
              "\n",
              "    .dataframe thead th {\n",
              "        text-align: right;\n",
              "    }\n",
              "</style>\n",
              "<table border=\"1\" class=\"dataframe\">\n",
              "  <thead>\n",
              "    <tr style=\"text-align: right;\">\n",
              "      <th></th>\n",
              "      <th>Open</th>\n",
              "      <th>High</th>\n",
              "      <th>Low</th>\n",
              "      <th>Close</th>\n",
              "      <th>Volume_(BTC)</th>\n",
              "      <th>Volume_(Currency)</th>\n",
              "      <th>Weighted_Price</th>\n",
              "      <th>USD_RUB</th>\n",
              "    </tr>\n",
              "  </thead>\n",
              "  <tbody>\n",
              "    <tr>\n",
              "      <th>2011-12-31 07:52:00</th>\n",
              "      <td>4.390</td>\n",
              "      <td>4.390</td>\n",
              "      <td>4.390</td>\n",
              "      <td>4.390</td>\n",
              "      <td>0.456</td>\n",
              "      <td>2.000</td>\n",
              "      <td>4.390</td>\n",
              "      <td>32.120</td>\n",
              "    </tr>\n",
              "    <tr>\n",
              "      <th>2011-12-31 15:50:00</th>\n",
              "      <td>4.390</td>\n",
              "      <td>4.390</td>\n",
              "      <td>4.390</td>\n",
              "      <td>4.390</td>\n",
              "      <td>48.000</td>\n",
              "      <td>210.720</td>\n",
              "      <td>4.390</td>\n",
              "      <td>32.120</td>\n",
              "    </tr>\n",
              "    <tr>\n",
              "      <th>2011-12-31 16:59:00</th>\n",
              "      <td>4.500</td>\n",
              "      <td>4.570</td>\n",
              "      <td>4.500</td>\n",
              "      <td>4.570</td>\n",
              "      <td>37.862</td>\n",
              "      <td>171.380</td>\n",
              "      <td>4.526</td>\n",
              "      <td>32.120</td>\n",
              "    </tr>\n",
              "    <tr>\n",
              "      <th>2011-12-31 17:00:00</th>\n",
              "      <td>4.580</td>\n",
              "      <td>4.580</td>\n",
              "      <td>4.580</td>\n",
              "      <td>4.580</td>\n",
              "      <td>9.000</td>\n",
              "      <td>41.220</td>\n",
              "      <td>4.580</td>\n",
              "      <td>32.120</td>\n",
              "    </tr>\n",
              "    <tr>\n",
              "      <th>2012-01-01 04:16:00</th>\n",
              "      <td>4.580</td>\n",
              "      <td>4.580</td>\n",
              "      <td>4.580</td>\n",
              "      <td>4.580</td>\n",
              "      <td>1.502</td>\n",
              "      <td>6.879</td>\n",
              "      <td>4.580</td>\n",
              "      <td>32.120</td>\n",
              "    </tr>\n",
              "  </tbody>\n",
              "</table>\n",
              "</div>"
            ],
            "text/plain": [
              "                     Open  High  ...  Weighted_Price  USD_RUB\n",
              "2011-12-31 07:52:00 4.390 4.390  ...           4.390   32.120\n",
              "2011-12-31 15:50:00 4.390 4.390  ...           4.390   32.120\n",
              "2011-12-31 16:59:00 4.500 4.570  ...           4.526   32.120\n",
              "2011-12-31 17:00:00 4.580 4.580  ...           4.580   32.120\n",
              "2012-01-01 04:16:00 4.580 4.580  ...           4.580   32.120\n",
              "\n",
              "[5 rows x 8 columns]"
            ]
          },
          "metadata": {},
          "execution_count": 23
        }
      ],
      "source": [
        "all_btc = pd.concat([btc, usd_rub], axis=1, join='inner')\n",
        "all_btc.head()"
      ]
    },
    {
      "cell_type": "markdown",
      "metadata": {
        "id": "Q2f1P4irGYQR"
      },
      "source": [
        "Наконец, создадим новый столбец, в котором будет записана цена биткоина в рублях:"
      ]
    },
    {
      "cell_type": "code",
      "execution_count": 24,
      "metadata": {
        "id": "g6tdXRzbGm5O",
        "colab": {
          "base_uri": "https://localhost:8080/",
          "height": 206
        },
        "outputId": "00dec37a-65ec-403b-b7d0-0d8462cd32a9"
      },
      "outputs": [
        {
          "output_type": "execute_result",
          "data": {
            "text/html": [
              "<div>\n",
              "<style scoped>\n",
              "    .dataframe tbody tr th:only-of-type {\n",
              "        vertical-align: middle;\n",
              "    }\n",
              "\n",
              "    .dataframe tbody tr th {\n",
              "        vertical-align: top;\n",
              "    }\n",
              "\n",
              "    .dataframe thead th {\n",
              "        text-align: right;\n",
              "    }\n",
              "</style>\n",
              "<table border=\"1\" class=\"dataframe\">\n",
              "  <thead>\n",
              "    <tr style=\"text-align: right;\">\n",
              "      <th></th>\n",
              "      <th>Open</th>\n",
              "      <th>High</th>\n",
              "      <th>Low</th>\n",
              "      <th>Close</th>\n",
              "      <th>Volume_(BTC)</th>\n",
              "      <th>Volume_(Currency)</th>\n",
              "      <th>Weighted_Price</th>\n",
              "      <th>USD_RUB</th>\n",
              "      <th>RUB</th>\n",
              "    </tr>\n",
              "  </thead>\n",
              "  <tbody>\n",
              "    <tr>\n",
              "      <th>2011-12-31 07:52:00</th>\n",
              "      <td>4.390</td>\n",
              "      <td>4.390</td>\n",
              "      <td>4.390</td>\n",
              "      <td>4.390</td>\n",
              "      <td>0.456</td>\n",
              "      <td>2.000</td>\n",
              "      <td>4.390</td>\n",
              "      <td>32.120</td>\n",
              "      <td>141.007</td>\n",
              "    </tr>\n",
              "    <tr>\n",
              "      <th>2011-12-31 15:50:00</th>\n",
              "      <td>4.390</td>\n",
              "      <td>4.390</td>\n",
              "      <td>4.390</td>\n",
              "      <td>4.390</td>\n",
              "      <td>48.000</td>\n",
              "      <td>210.720</td>\n",
              "      <td>4.390</td>\n",
              "      <td>32.120</td>\n",
              "      <td>141.007</td>\n",
              "    </tr>\n",
              "    <tr>\n",
              "      <th>2011-12-31 16:59:00</th>\n",
              "      <td>4.500</td>\n",
              "      <td>4.570</td>\n",
              "      <td>4.500</td>\n",
              "      <td>4.570</td>\n",
              "      <td>37.862</td>\n",
              "      <td>171.380</td>\n",
              "      <td>4.526</td>\n",
              "      <td>32.120</td>\n",
              "      <td>145.388</td>\n",
              "    </tr>\n",
              "    <tr>\n",
              "      <th>2011-12-31 17:00:00</th>\n",
              "      <td>4.580</td>\n",
              "      <td>4.580</td>\n",
              "      <td>4.580</td>\n",
              "      <td>4.580</td>\n",
              "      <td>9.000</td>\n",
              "      <td>41.220</td>\n",
              "      <td>4.580</td>\n",
              "      <td>32.120</td>\n",
              "      <td>147.110</td>\n",
              "    </tr>\n",
              "    <tr>\n",
              "      <th>2012-01-01 04:16:00</th>\n",
              "      <td>4.580</td>\n",
              "      <td>4.580</td>\n",
              "      <td>4.580</td>\n",
              "      <td>4.580</td>\n",
              "      <td>1.502</td>\n",
              "      <td>6.879</td>\n",
              "      <td>4.580</td>\n",
              "      <td>32.120</td>\n",
              "      <td>147.110</td>\n",
              "    </tr>\n",
              "  </tbody>\n",
              "</table>\n",
              "</div>"
            ],
            "text/plain": [
              "                     Open  High   Low  ...  Weighted_Price  USD_RUB     RUB\n",
              "2011-12-31 07:52:00 4.390 4.390 4.390  ...           4.390   32.120 141.007\n",
              "2011-12-31 15:50:00 4.390 4.390 4.390  ...           4.390   32.120 141.007\n",
              "2011-12-31 16:59:00 4.500 4.570 4.500  ...           4.526   32.120 145.388\n",
              "2011-12-31 17:00:00 4.580 4.580 4.580  ...           4.580   32.120 147.110\n",
              "2012-01-01 04:16:00 4.580 4.580 4.580  ...           4.580   32.120 147.110\n",
              "\n",
              "[5 rows x 9 columns]"
            ]
          },
          "metadata": {},
          "execution_count": 24
        }
      ],
      "source": [
        "all_btc['RUB'] = all_btc['USD_RUB'] * all_btc['Weighted_Price']\n",
        "all_btc.head()"
      ]
    },
    {
      "cell_type": "markdown",
      "metadata": {
        "id": "Kv9YM38JG29n"
      },
      "source": [
        "Посмотрим статистику по рублю:"
      ]
    },
    {
      "cell_type": "code",
      "execution_count": 25,
      "metadata": {
        "id": "doJ0DvDZG6co",
        "colab": {
          "base_uri": "https://localhost:8080/"
        },
        "outputId": "9594244e-e219-48d8-c640-2188ba561386"
      },
      "outputs": [
        {
          "output_type": "execute_result",
          "data": {
            "text/plain": [
              "count   2765819.000\n",
              "mean     186040.904\n",
              "std      229172.531\n",
              "min         114.494\n",
              "25%       17453.771\n",
              "50%       42500.160\n",
              "75%      343436.189\n",
              "max     1156612.938\n",
              "Name: RUB, dtype: float64"
            ]
          },
          "metadata": {},
          "execution_count": 25
        }
      ],
      "source": [
        "all_btc['RUB'].describe()"
      ]
    },
    {
      "cell_type": "code",
      "source": [
        ""
      ],
      "metadata": {
        "id": "LQvByjnjkAfB"
      },
      "execution_count": null,
      "outputs": []
    },
    {
      "cell_type": "markdown",
      "source": [
        "Ответ на задание №1:"
      ],
      "metadata": {
        "id": "Yu9eLQakMEcI"
      }
    },
    {
      "cell_type": "code",
      "source": [
        "all_btc['USD_RUB'].max()\n"
      ],
      "metadata": {
        "colab": {
          "base_uri": "https://localhost:8080/"
        },
        "id": "J6YqbEwuKQA9",
        "outputId": "5f2deb9b-2698-46b0-fbb4-652121d574b0"
      },
      "execution_count": 47,
      "outputs": [
        {
          "output_type": "execute_result",
          "data": {
            "text/plain": [
              "85.8156"
            ]
          },
          "metadata": {},
          "execution_count": 47
        }
      ]
    },
    {
      "cell_type": "code",
      "source": [
        "all_btc[all_btc['USD_RUB']>85.8155].head()"
      ],
      "metadata": {
        "colab": {
          "base_uri": "https://localhost:8080/",
          "height": 81
        },
        "id": "ofgUXRytKucp",
        "outputId": "6226450b-b083-4c58-a48a-8dec3393b684"
      },
      "execution_count": 52,
      "outputs": [
        {
          "output_type": "execute_result",
          "data": {
            "text/html": [
              "<div>\n",
              "<style scoped>\n",
              "    .dataframe tbody tr th:only-of-type {\n",
              "        vertical-align: middle;\n",
              "    }\n",
              "\n",
              "    .dataframe tbody tr th {\n",
              "        vertical-align: top;\n",
              "    }\n",
              "\n",
              "    .dataframe thead th {\n",
              "        text-align: right;\n",
              "    }\n",
              "</style>\n",
              "<table border=\"1\" class=\"dataframe\">\n",
              "  <thead>\n",
              "    <tr style=\"text-align: right;\">\n",
              "      <th></th>\n",
              "      <th>Open</th>\n",
              "      <th>High</th>\n",
              "      <th>Low</th>\n",
              "      <th>Close</th>\n",
              "      <th>Volume_(BTC)</th>\n",
              "      <th>Volume_(Currency)</th>\n",
              "      <th>Weighted_Price</th>\n",
              "      <th>USD_RUB</th>\n",
              "      <th>RUB</th>\n",
              "    </tr>\n",
              "  </thead>\n",
              "  <tbody>\n",
              "    <tr>\n",
              "      <th>2016-01-21 15:08:00</th>\n",
              "      <td>415.530</td>\n",
              "      <td>415.690</td>\n",
              "      <td>415.500</td>\n",
              "      <td>415.600</td>\n",
              "      <td>16.706</td>\n",
              "      <td>6941.508</td>\n",
              "      <td>415.510</td>\n",
              "      <td>85.816</td>\n",
              "      <td>35657.253</td>\n",
              "    </tr>\n",
              "  </tbody>\n",
              "</table>\n",
              "</div>"
            ],
            "text/plain": [
              "                       Open    High     Low  ...  Weighted_Price  USD_RUB       RUB\n",
              "2016-01-21 15:08:00 415.530 415.690 415.500  ...         415.510   85.816 35657.253\n",
              "\n",
              "[1 rows x 9 columns]"
            ]
          },
          "metadata": {},
          "execution_count": 52
        }
      ]
    },
    {
      "cell_type": "markdown",
      "metadata": {
        "id": "arD8YmESHCn2"
      },
      "source": [
        "Минимальная цена за всю историю была 114 рублей, максимальная - 1.1 млн.\n",
        "\n",
        "Последние имеющиеся данные за август-2019 показывают, что биткоин продается за 750 тыс.р.:"
      ]
    },
    {
      "cell_type": "code",
      "execution_count": 26,
      "metadata": {
        "id": "BCGjXw4PHUUu",
        "colab": {
          "base_uri": "https://localhost:8080/",
          "height": 206
        },
        "outputId": "dba2533e-fa52-4d0c-a8a4-a36d4ae02045"
      },
      "outputs": [
        {
          "output_type": "execute_result",
          "data": {
            "text/html": [
              "<div>\n",
              "<style scoped>\n",
              "    .dataframe tbody tr th:only-of-type {\n",
              "        vertical-align: middle;\n",
              "    }\n",
              "\n",
              "    .dataframe tbody tr th {\n",
              "        vertical-align: top;\n",
              "    }\n",
              "\n",
              "    .dataframe thead th {\n",
              "        text-align: right;\n",
              "    }\n",
              "</style>\n",
              "<table border=\"1\" class=\"dataframe\">\n",
              "  <thead>\n",
              "    <tr style=\"text-align: right;\">\n",
              "      <th></th>\n",
              "      <th>Open</th>\n",
              "      <th>High</th>\n",
              "      <th>Low</th>\n",
              "      <th>Close</th>\n",
              "      <th>Volume_(BTC)</th>\n",
              "      <th>Volume_(Currency)</th>\n",
              "      <th>Weighted_Price</th>\n",
              "      <th>USD_RUB</th>\n",
              "      <th>RUB</th>\n",
              "    </tr>\n",
              "  </thead>\n",
              "  <tbody>\n",
              "    <tr>\n",
              "      <th>2019-08-11 23:56:00</th>\n",
              "      <td>11555.570</td>\n",
              "      <td>11555.570</td>\n",
              "      <td>11540.370</td>\n",
              "      <td>11540.580</td>\n",
              "      <td>0.037</td>\n",
              "      <td>425.909</td>\n",
              "      <td>11552.336</td>\n",
              "      <td>65.383</td>\n",
              "      <td>755329.866</td>\n",
              "    </tr>\n",
              "    <tr>\n",
              "      <th>2019-08-11 23:57:00</th>\n",
              "      <td>11553.490</td>\n",
              "      <td>11556.220</td>\n",
              "      <td>11553.490</td>\n",
              "      <td>11556.220</td>\n",
              "      <td>0.623</td>\n",
              "      <td>7204.428</td>\n",
              "      <td>11555.521</td>\n",
              "      <td>65.383</td>\n",
              "      <td>755538.064</td>\n",
              "    </tr>\n",
              "    <tr>\n",
              "      <th>2019-08-11 23:58:00</th>\n",
              "      <td>11559.730</td>\n",
              "      <td>11561.220</td>\n",
              "      <td>11546.770</td>\n",
              "      <td>11561.220</td>\n",
              "      <td>0.159</td>\n",
              "      <td>1838.731</td>\n",
              "      <td>11559.252</td>\n",
              "      <td>65.383</td>\n",
              "      <td>755782.054</td>\n",
              "    </tr>\n",
              "    <tr>\n",
              "      <th>2019-08-11 23:59:00</th>\n",
              "      <td>11559.730</td>\n",
              "      <td>11589.730</td>\n",
              "      <td>11528.730</td>\n",
              "      <td>11528.730</td>\n",
              "      <td>16.198</td>\n",
              "      <td>187504.635</td>\n",
              "      <td>11575.639</td>\n",
              "      <td>65.383</td>\n",
              "      <td>756853.470</td>\n",
              "    </tr>\n",
              "    <tr>\n",
              "      <th>2019-08-12 00:00:00</th>\n",
              "      <td>11527.440</td>\n",
              "      <td>11551.570</td>\n",
              "      <td>11520.000</td>\n",
              "      <td>11520.000</td>\n",
              "      <td>23.806</td>\n",
              "      <td>274731.257</td>\n",
              "      <td>11540.450</td>\n",
              "      <td>65.377</td>\n",
              "      <td>754480.019</td>\n",
              "    </tr>\n",
              "  </tbody>\n",
              "</table>\n",
              "</div>"
            ],
            "text/plain": [
              "                         Open      High  ...  USD_RUB        RUB\n",
              "2019-08-11 23:56:00 11555.570 11555.570  ...   65.383 755329.866\n",
              "2019-08-11 23:57:00 11553.490 11556.220  ...   65.383 755538.064\n",
              "2019-08-11 23:58:00 11559.730 11561.220  ...   65.383 755782.054\n",
              "2019-08-11 23:59:00 11559.730 11589.730  ...   65.383 756853.470\n",
              "2019-08-12 00:00:00 11527.440 11551.570  ...   65.377 754480.019\n",
              "\n",
              "[5 rows x 9 columns]"
            ]
          },
          "metadata": {},
          "execution_count": 26
        }
      ],
      "source": [
        "all_btc.tail()"
      ]
    },
    {
      "cell_type": "markdown",
      "metadata": {
        "id": "jLAI5sDmM6N0"
      },
      "source": [
        "## Визуализация данных"
      ]
    },
    {
      "cell_type": "markdown",
      "metadata": {
        "id": "__kX0PJ3CreW"
      },
      "source": [
        "Цифры и таблицы - это, конечно, хорошо, но человек - существо визуальное, поэтому очень полезно для понимания данных визуализировать их. Так понимается общая статистика."
      ]
    },
    {
      "cell_type": "markdown",
      "metadata": {
        "id": "4lTBbsR3CiMJ"
      },
      "source": [
        "Корреляция, которая была дана в табличном виде можно отобразить на графике:"
      ]
    },
    {
      "cell_type": "code",
      "execution_count": 27,
      "metadata": {
        "id": "j5WrrD4lA_D1",
        "colab": {
          "base_uri": "https://localhost:8080/",
          "height": 680
        },
        "outputId": "a8d57461-9f34-40e9-b806-0b055a3cf2dd"
      },
      "outputs": [
        {
          "output_type": "display_data",
          "data": {
            "image/png": "[encoded data removed]",
            "text/plain": [
              "<Figure size 720x720 with 2 Axes>"
            ]
          },
          "metadata": {}
        }
      ],
      "source": [
        "f,ax = plt.subplots(figsize=(10, 10))\n",
        "sns.heatmap(all_btc.corr(), annot=True, linewidths=.5, fmt= '.1f',ax=ax)\n",
        "plt.show()"
      ]
    },
    {
      "cell_type": "markdown",
      "metadata": {
        "id": "usP9lPlBH7TS"
      },
      "source": [
        "Можно посмотреть на график цены биткоина за все время:"
      ]
    },
    {
      "cell_type": "code",
      "execution_count": 28,
      "metadata": {
        "id": "VEZ6UfapBNo6",
        "colab": {
          "base_uri": "https://localhost:8080/",
          "height": 273
        },
        "outputId": "ac3f7c2e-fd3a-49c1-e3a0-6eca61fc1ee4"
      },
      "outputs": [
        {
          "output_type": "execute_result",
          "data": {
            "text/plain": [
              "<matplotlib.axes._subplots.AxesSubplot at 0x7f362a8f2810>"
            ]
          },
          "metadata": {},
          "execution_count": 28
        },
        {
          "output_type": "display_data",
          "data": {
            "image/png": "[encoded data removed]",
            "text/plain": [
              "<Figure size 432x288 with 1 Axes>"
            ]
          },
          "metadata": {}
        }
      ],
      "source": [
        "all_btc.Weighted_Price.plot()"
      ]
    },
    {
      "cell_type": "code",
      "source": [
        "all_btc.USD_RUB.plot()"
      ],
      "metadata": {
        "colab": {
          "base_uri": "https://localhost:8080/",
          "height": 273
        },
        "id": "0TjW0DHhPHtm",
        "outputId": "267006b1-009f-4c0a-d9d0-c1cc19b80527"
      },
      "execution_count": 59,
      "outputs": [
        {
          "output_type": "execute_result",
          "data": {
            "text/plain": [
              "<matplotlib.axes._subplots.AxesSubplot at 0x7f35ffada5d0>"
            ]
          },
          "metadata": {},
          "execution_count": 59
        },
        {
          "output_type": "display_data",
          "data": {
            "image/png": "[encoded data removed]",
            "text/plain": [
              "<Figure size 432x288 with 1 Axes>"
            ]
          },
          "metadata": {}
        }
      ]
    },
    {
      "cell_type": "markdown",
      "metadata": {
        "id": "f_BHT2d7IGeS"
      },
      "source": [
        "Зависимость объема от цены за этот объем:"
      ]
    },
    {
      "cell_type": "code",
      "execution_count": 29,
      "metadata": {
        "id": "rB3TUkNRBas9",
        "colab": {
          "base_uri": "https://localhost:8080/",
          "height": 313
        },
        "outputId": "b92cdf01-7b29-4c64-b5ed-31f78d48e3ca"
      },
      "outputs": [
        {
          "output_type": "execute_result",
          "data": {
            "text/plain": [
              "Text(0.5, 1.0, 'BTC-Currency Scatter Plot')"
            ]
          },
          "metadata": {},
          "execution_count": 29
        },
        {
          "output_type": "display_data",
          "data": {
            "image/png": "[encoded data removed]",
            "text/plain": [
              "<Figure size 432x288 with 1 Axes>"
            ]
          },
          "metadata": {}
        }
      ],
      "source": [
        "all_btc.plot(kind='scatter', x='Volume_(BTC)', y='Volume_(Currency)',alpha = 0.5, color = 'red')\n",
        "plt.xlabel('BTC Volume')              # label = name of label\n",
        "plt.ylabel('Currency Volume')\n",
        "plt.title('BTC-Currency Scatter Plot')  "
      ]
    },
    {
      "cell_type": "markdown",
      "metadata": {
        "id": "L7kGeb-kJLJ2"
      },
      "source": [
        "Отобразим зависимость объемов продаж от цены биткоина:"
      ]
    },
    {
      "cell_type": "code",
      "execution_count": 30,
      "metadata": {
        "id": "9ZS0IKneI3Vx",
        "colab": {
          "base_uri": "https://localhost:8080/",
          "height": 295
        },
        "outputId": "0863a679-2054-49bf-f8d9-f0a85aa1589c"
      },
      "outputs": [
        {
          "output_type": "display_data",
          "data": {
            "image/png": "[encoded data removed]",
            "text/plain": [
              "<Figure size 432x288 with 1 Axes>"
            ]
          },
          "metadata": {}
        }
      ],
      "source": [
        "all_btc.plot(kind='scatter', x='Volume_(BTC)', y='Weighted_Price', alpha = 0.5, color = 'red')\n",
        "plt.xlabel('BTC Volume')              # label = name of label\n",
        "plt.ylabel('BTC Price')\n",
        "plt.title('BTC-Currency Scatter Plot')  \n",
        "plt.show()"
      ]
    },
    {
      "cell_type": "markdown",
      "metadata": {
        "id": "BeYNQJ0HKNH9"
      },
      "source": [
        "Выберем данные за 2019 год и посмотрим, в каких объемах покупали биткоины по каким ценам."
      ]
    },
    {
      "cell_type": "code",
      "execution_count": 31,
      "metadata": {
        "id": "bVOG8cyCJoDJ",
        "colab": {
          "base_uri": "https://localhost:8080/",
          "height": 206
        },
        "outputId": "efec7d9c-5172-4a2b-cc23-363ac114cde5"
      },
      "outputs": [
        {
          "output_type": "execute_result",
          "data": {
            "text/html": [
              "<div>\n",
              "<style scoped>\n",
              "    .dataframe tbody tr th:only-of-type {\n",
              "        vertical-align: middle;\n",
              "    }\n",
              "\n",
              "    .dataframe tbody tr th {\n",
              "        vertical-align: top;\n",
              "    }\n",
              "\n",
              "    .dataframe thead th {\n",
              "        text-align: right;\n",
              "    }\n",
              "</style>\n",
              "<table border=\"1\" class=\"dataframe\">\n",
              "  <thead>\n",
              "    <tr style=\"text-align: right;\">\n",
              "      <th></th>\n",
              "      <th>Open</th>\n",
              "      <th>High</th>\n",
              "      <th>Low</th>\n",
              "      <th>Close</th>\n",
              "      <th>Volume_(BTC)</th>\n",
              "      <th>Volume_(Currency)</th>\n",
              "      <th>Weighted_Price</th>\n",
              "      <th>USD_RUB</th>\n",
              "      <th>RUB</th>\n",
              "    </tr>\n",
              "  </thead>\n",
              "  <tbody>\n",
              "    <tr>\n",
              "      <th>2019-01-01 00:00:00</th>\n",
              "      <td>3693.850</td>\n",
              "      <td>3698.790</td>\n",
              "      <td>3693.850</td>\n",
              "      <td>3698.000</td>\n",
              "      <td>5.491</td>\n",
              "      <td>20301.157</td>\n",
              "      <td>3696.975</td>\n",
              "      <td>69.327</td>\n",
              "      <td>256300.551</td>\n",
              "    </tr>\n",
              "    <tr>\n",
              "      <th>2019-01-01 00:01:00</th>\n",
              "      <td>3694.720</td>\n",
              "      <td>3694.720</td>\n",
              "      <td>3690.650</td>\n",
              "      <td>3690.650</td>\n",
              "      <td>9.500</td>\n",
              "      <td>35080.266</td>\n",
              "      <td>3692.601</td>\n",
              "      <td>69.338</td>\n",
              "      <td>256037.559</td>\n",
              "    </tr>\n",
              "    <tr>\n",
              "      <th>2019-01-01 00:02:00</th>\n",
              "      <td>3689.730</td>\n",
              "      <td>3689.730</td>\n",
              "      <td>3686.620</td>\n",
              "      <td>3686.620</td>\n",
              "      <td>0.966</td>\n",
              "      <td>3562.371</td>\n",
              "      <td>3687.885</td>\n",
              "      <td>69.272</td>\n",
              "      <td>255467.886</td>\n",
              "    </tr>\n",
              "    <tr>\n",
              "      <th>2019-01-01 00:03:00</th>\n",
              "      <td>3692.850</td>\n",
              "      <td>3692.850</td>\n",
              "      <td>3688.320</td>\n",
              "      <td>3692.350</td>\n",
              "      <td>0.297</td>\n",
              "      <td>1095.221</td>\n",
              "      <td>3691.813</td>\n",
              "      <td>69.290</td>\n",
              "      <td>255806.850</td>\n",
              "    </tr>\n",
              "    <tr>\n",
              "      <th>2019-01-01 00:04:00</th>\n",
              "      <td>3692.350</td>\n",
              "      <td>3692.350</td>\n",
              "      <td>3690.340</td>\n",
              "      <td>3690.340</td>\n",
              "      <td>0.112</td>\n",
              "      <td>412.065</td>\n",
              "      <td>3691.615</td>\n",
              "      <td>69.290</td>\n",
              "      <td>255792.362</td>\n",
              "    </tr>\n",
              "  </tbody>\n",
              "</table>\n",
              "</div>"
            ],
            "text/plain": [
              "                        Open     High  ...  USD_RUB        RUB\n",
              "2019-01-01 00:00:00 3693.850 3698.790  ...   69.327 256300.551\n",
              "2019-01-01 00:01:00 3694.720 3694.720  ...   69.338 256037.559\n",
              "2019-01-01 00:02:00 3689.730 3689.730  ...   69.272 255467.886\n",
              "2019-01-01 00:03:00 3692.850 3692.850  ...   69.290 255806.850\n",
              "2019-01-01 00:04:00 3692.350 3692.350  ...   69.290 255792.362\n",
              "\n",
              "[5 rows x 9 columns]"
            ]
          },
          "metadata": {},
          "execution_count": 31
        }
      ],
      "source": [
        "BTC_2019 = all_btc[all_btc.index >= datetime.datetime(2019, 1, 1)]\n",
        "BTC_2019.head()"
      ]
    },
    {
      "cell_type": "code",
      "execution_count": 32,
      "metadata": {
        "id": "8s868Kg25EiD"
      },
      "outputs": [],
      "source": [
        "USD_MAX = all_btc['USD_RUB'].max()"
      ]
    },
    {
      "cell_type": "code",
      "execution_count": 33,
      "metadata": {
        "id": "0ZCocvUSJcX3",
        "colab": {
          "base_uri": "https://localhost:8080/",
          "height": 295
        },
        "outputId": "eaa98e46-973d-41d5-efcc-5863e9de6c4d"
      },
      "outputs": [
        {
          "output_type": "display_data",
          "data": {
            "image/png": "[encoded data removed]",
            "text/plain": [
              "<Figure size 432x288 with 1 Axes>"
            ]
          },
          "metadata": {}
        }
      ],
      "source": [
        "BTC_2019.plot(kind='scatter', x='Volume_(BTC)', y='Weighted_Price', alpha = 0.5, color = 'red')\n",
        "plt.xlabel('BTC Volume')              # label = name of label\n",
        "plt.ylabel('BTC Price')\n",
        "plt.title('BTC-Currency Scatter Plot')  \n",
        "plt.show()"
      ]
    },
    {
      "cell_type": "markdown",
      "metadata": {
        "id": "rfpuHf5sKFjj"
      },
      "source": [
        "Вне зависимости от цены биткоины по большей части покупают маленькими объемами."
      ]
    },
    {
      "cell_type": "markdown",
      "metadata": {
        "id": "Q3UmI5CFLYzA"
      },
      "source": [
        "А в каких годах люди покупали биткоин большими объемами?"
      ]
    },
    {
      "cell_type": "code",
      "execution_count": 34,
      "metadata": {
        "id": "FZ1p_raGLJdX",
        "colab": {
          "base_uri": "https://localhost:8080/",
          "height": 284
        },
        "outputId": "5193a8da-1e45-471c-cfd2-9b76f2f3908e"
      },
      "outputs": [
        {
          "output_type": "execute_result",
          "data": {
            "text/plain": [
              "<matplotlib.axes._subplots.AxesSubplot at 0x7f36198f6590>"
            ]
          },
          "metadata": {},
          "execution_count": 34
        },
        {
          "output_type": "display_data",
          "data": {
            "image/png": "[encoded data removed]",
            "text/plain": [
              "<Figure size 432x288 with 1 Axes>"
            ]
          },
          "metadata": {}
        }
      ],
      "source": [
        "all_btc[all_btc['Volume_(BTC)']>1500].plot()"
      ]
    },
    {
      "cell_type": "markdown",
      "metadata": {
        "id": "aZrjjMGXSNxv"
      },
      "source": [
        "Гистограмма по ценам открытия:"
      ]
    },
    {
      "cell_type": "code",
      "execution_count": 35,
      "metadata": {
        "id": "RuFzBL5HBkMX",
        "colab": {
          "base_uri": "https://localhost:8080/",
          "height": 284
        },
        "outputId": "4ef94068-dab7-4a5c-830e-08ceda7794ba"
      },
      "outputs": [
        {
          "output_type": "execute_result",
          "data": {
            "text/plain": [
              "<matplotlib.axes._subplots.AxesSubplot at 0x7f3619847490>"
            ]
          },
          "metadata": {},
          "execution_count": 35
        },
        {
          "output_type": "display_data",
          "data": {
            "image/png": "[encoded data removed]",
            "text/plain": [
              "<Figure size 432x288 with 1 Axes>"
            ]
          },
          "metadata": {}
        }
      ],
      "source": [
        "all_btc.Open.plot(kind='hist', bins=50)"
      ]
    },
    {
      "cell_type": "markdown",
      "metadata": {
        "id": "61BBY4N6L7Ey"
      },
      "source": [
        "Самая большая разница в цене в течение минуты:"
      ]
    },
    {
      "cell_type": "code",
      "execution_count": 36,
      "metadata": {
        "id": "7X2wRcsHLwJq",
        "colab": {
          "base_uri": "https://localhost:8080/",
          "height": 273
        },
        "outputId": "f04319ea-272d-47a2-e59e-cef8ead4cf95"
      },
      "outputs": [
        {
          "output_type": "execute_result",
          "data": {
            "text/plain": [
              "<matplotlib.axes._subplots.AxesSubplot at 0x7f361994d410>"
            ]
          },
          "metadata": {},
          "execution_count": 36
        },
        {
          "output_type": "display_data",
          "data": {
            "image/png": "[encoded data removed]",
            "text/plain": [
              "<Figure size 432x288 with 1 Axes>"
            ]
          },
          "metadata": {}
        }
      ],
      "source": [
        "(all_btc.High - all_btc.Low).plot(color='green')"
      ]
    },
    {
      "cell_type": "code",
      "source": [
        ""
      ],
      "metadata": {
        "id": "A2tvZIPje2Sw"
      },
      "execution_count": null,
      "outputs": []
    },
    {
      "cell_type": "markdown",
      "metadata": {
        "id": "OCv0IKtsNmQn"
      },
      "source": [
        "Ого, за минуту разница 700 долларов, давайте посмотрим внимательнее:"
      ]
    },
    {
      "cell_type": "markdown",
      "source": [
        ""
      ],
      "metadata": {
        "id": "FmLgcuwpe23u"
      }
    },
    {
      "cell_type": "code",
      "execution_count": 37,
      "metadata": {
        "id": "51qc51d_MruZ",
        "colab": {
          "base_uri": "https://localhost:8080/",
          "height": 81
        },
        "outputId": "439a61e8-e4d7-4939-efd9-b52cac355511"
      },
      "outputs": [
        {
          "output_type": "execute_result",
          "data": {
            "text/html": [
              "<div>\n",
              "<style scoped>\n",
              "    .dataframe tbody tr th:only-of-type {\n",
              "        vertical-align: middle;\n",
              "    }\n",
              "\n",
              "    .dataframe tbody tr th {\n",
              "        vertical-align: top;\n",
              "    }\n",
              "\n",
              "    .dataframe thead th {\n",
              "        text-align: right;\n",
              "    }\n",
              "</style>\n",
              "<table border=\"1\" class=\"dataframe\">\n",
              "  <thead>\n",
              "    <tr style=\"text-align: right;\">\n",
              "      <th></th>\n",
              "      <th>Open</th>\n",
              "      <th>High</th>\n",
              "      <th>Low</th>\n",
              "      <th>Close</th>\n",
              "      <th>Volume_(BTC)</th>\n",
              "      <th>Volume_(Currency)</th>\n",
              "      <th>Weighted_Price</th>\n",
              "      <th>USD_RUB</th>\n",
              "      <th>RUB</th>\n",
              "    </tr>\n",
              "  </thead>\n",
              "  <tbody>\n",
              "    <tr>\n",
              "      <th>2019-05-17 03:10:00</th>\n",
              "      <td>6250.000</td>\n",
              "      <td>6907.010</td>\n",
              "      <td>6178.000</td>\n",
              "      <td>6907.010</td>\n",
              "      <td>150.971</td>\n",
              "      <td>940847.083</td>\n",
              "      <td>6231.966</td>\n",
              "      <td>64.592</td>\n",
              "      <td>402537.020</td>\n",
              "    </tr>\n",
              "  </tbody>\n",
              "</table>\n",
              "</div>"
            ],
            "text/plain": [
              "                        Open     High  ...  USD_RUB        RUB\n",
              "2019-05-17 03:10:00 6250.000 6907.010  ...   64.592 402537.020\n",
              "\n",
              "[1 rows x 9 columns]"
            ]
          },
          "metadata": {},
          "execution_count": 37
        }
      ],
      "source": [
        "all_btc[(all_btc.High - all_btc.Low)>700]"
      ]
    },
    {
      "cell_type": "code",
      "execution_count": 38,
      "metadata": {
        "id": "cGaVn9d4M88g",
        "colab": {
          "base_uri": "https://localhost:8080/",
          "height": 551
        },
        "outputId": "f5a9237f-48ce-4486-b947-72e4c11fc2cd"
      },
      "outputs": [
        {
          "output_type": "execute_result",
          "data": {
            "text/html": [
              "<div>\n",
              "<style scoped>\n",
              "    .dataframe tbody tr th:only-of-type {\n",
              "        vertical-align: middle;\n",
              "    }\n",
              "\n",
              "    .dataframe tbody tr th {\n",
              "        vertical-align: top;\n",
              "    }\n",
              "\n",
              "    .dataframe thead th {\n",
              "        text-align: right;\n",
              "    }\n",
              "</style>\n",
              "<table border=\"1\" class=\"dataframe\">\n",
              "  <thead>\n",
              "    <tr style=\"text-align: right;\">\n",
              "      <th></th>\n",
              "      <th>Open</th>\n",
              "      <th>High</th>\n",
              "      <th>Low</th>\n",
              "      <th>Close</th>\n",
              "      <th>Volume_(BTC)</th>\n",
              "      <th>Volume_(Currency)</th>\n",
              "      <th>Weighted_Price</th>\n",
              "      <th>USD_RUB</th>\n",
              "      <th>RUB</th>\n",
              "    </tr>\n",
              "  </thead>\n",
              "  <tbody>\n",
              "    <tr>\n",
              "      <th>2019-05-17 03:00:00</th>\n",
              "      <td>7318.000</td>\n",
              "      <td>7318.000</td>\n",
              "      <td>7148.000</td>\n",
              "      <td>7148.000</td>\n",
              "      <td>385.747</td>\n",
              "      <td>2785189.151</td>\n",
              "      <td>7220.249</td>\n",
              "      <td>64.599</td>\n",
              "      <td>466419.399</td>\n",
              "    </tr>\n",
              "    <tr>\n",
              "      <th>2019-05-17 03:01:00</th>\n",
              "      <td>7147.000</td>\n",
              "      <td>7147.000</td>\n",
              "      <td>7100.020</td>\n",
              "      <td>7100.020</td>\n",
              "      <td>296.733</td>\n",
              "      <td>2108866.758</td>\n",
              "      <td>7106.941</td>\n",
              "      <td>64.603</td>\n",
              "      <td>459132.524</td>\n",
              "    </tr>\n",
              "    <tr>\n",
              "      <th>2019-05-17 03:02:00</th>\n",
              "      <td>7100.020</td>\n",
              "      <td>7100.020</td>\n",
              "      <td>7001.000</td>\n",
              "      <td>7001.000</td>\n",
              "      <td>448.353</td>\n",
              "      <td>3152032.649</td>\n",
              "      <td>7030.249</td>\n",
              "      <td>64.588</td>\n",
              "      <td>454069.736</td>\n",
              "    </tr>\n",
              "    <tr>\n",
              "      <th>2019-05-17 03:03:00</th>\n",
              "      <td>7001.000</td>\n",
              "      <td>7001.000</td>\n",
              "      <td>6844.440</td>\n",
              "      <td>6844.440</td>\n",
              "      <td>643.799</td>\n",
              "      <td>4457442.647</td>\n",
              "      <td>6923.657</td>\n",
              "      <td>64.612</td>\n",
              "      <td>447354.814</td>\n",
              "    </tr>\n",
              "    <tr>\n",
              "      <th>2019-05-17 03:04:00</th>\n",
              "      <td>6843.350</td>\n",
              "      <td>6843.350</td>\n",
              "      <td>6718.000</td>\n",
              "      <td>6718.000</td>\n",
              "      <td>213.999</td>\n",
              "      <td>1452791.035</td>\n",
              "      <td>6788.764</td>\n",
              "      <td>64.612</td>\n",
              "      <td>438639.018</td>\n",
              "    </tr>\n",
              "    <tr>\n",
              "      <th>2019-05-17 03:05:00</th>\n",
              "      <td>6718.000</td>\n",
              "      <td>6718.000</td>\n",
              "      <td>6606.000</td>\n",
              "      <td>6606.000</td>\n",
              "      <td>225.033</td>\n",
              "      <td>1500593.171</td>\n",
              "      <td>6668.329</td>\n",
              "      <td>64.616</td>\n",
              "      <td>430880.759</td>\n",
              "    </tr>\n",
              "    <tr>\n",
              "      <th>2019-05-17 03:06:00</th>\n",
              "      <td>6606.000</td>\n",
              "      <td>6606.000</td>\n",
              "      <td>6493.770</td>\n",
              "      <td>6493.770</td>\n",
              "      <td>338.266</td>\n",
              "      <td>2212210.056</td>\n",
              "      <td>6539.854</td>\n",
              "      <td>64.594</td>\n",
              "      <td>422438.598</td>\n",
              "    </tr>\n",
              "    <tr>\n",
              "      <th>2019-05-17 03:07:00</th>\n",
              "      <td>6492.000</td>\n",
              "      <td>6492.000</td>\n",
              "      <td>6420.000</td>\n",
              "      <td>6420.000</td>\n",
              "      <td>289.972</td>\n",
              "      <td>1874226.833</td>\n",
              "      <td>6463.466</td>\n",
              "      <td>64.592</td>\n",
              "      <td>417490.146</td>\n",
              "    </tr>\n",
              "    <tr>\n",
              "      <th>2019-05-17 03:08:00</th>\n",
              "      <td>6420.000</td>\n",
              "      <td>6420.000</td>\n",
              "      <td>6350.030</td>\n",
              "      <td>6350.030</td>\n",
              "      <td>185.181</td>\n",
              "      <td>1182485.622</td>\n",
              "      <td>6385.575</td>\n",
              "      <td>64.598</td>\n",
              "      <td>412492.788</td>\n",
              "    </tr>\n",
              "    <tr>\n",
              "      <th>2019-05-17 03:09:00</th>\n",
              "      <td>6350.000</td>\n",
              "      <td>6350.000</td>\n",
              "      <td>6250.000</td>\n",
              "      <td>6250.000</td>\n",
              "      <td>262.538</td>\n",
              "      <td>1654015.913</td>\n",
              "      <td>6300.090</td>\n",
              "      <td>64.592</td>\n",
              "      <td>406937.910</td>\n",
              "    </tr>\n",
              "    <tr>\n",
              "      <th>2019-05-17 03:10:00</th>\n",
              "      <td>6250.000</td>\n",
              "      <td>6907.010</td>\n",
              "      <td>6178.000</td>\n",
              "      <td>6907.010</td>\n",
              "      <td>150.971</td>\n",
              "      <td>940847.083</td>\n",
              "      <td>6231.966</td>\n",
              "      <td>64.592</td>\n",
              "      <td>402537.020</td>\n",
              "    </tr>\n",
              "    <tr>\n",
              "      <th>2019-05-17 03:11:00</th>\n",
              "      <td>6907.010</td>\n",
              "      <td>7217.300</td>\n",
              "      <td>6810.000</td>\n",
              "      <td>6810.000</td>\n",
              "      <td>126.366</td>\n",
              "      <td>885853.401</td>\n",
              "      <td>7010.238</td>\n",
              "      <td>64.592</td>\n",
              "      <td>452807.365</td>\n",
              "    </tr>\n",
              "    <tr>\n",
              "      <th>2019-05-17 03:12:00</th>\n",
              "      <td>6810.000</td>\n",
              "      <td>7320.610</td>\n",
              "      <td>6666.000</td>\n",
              "      <td>6775.340</td>\n",
              "      <td>155.564</td>\n",
              "      <td>1077596.221</td>\n",
              "      <td>6927.025</td>\n",
              "      <td>64.592</td>\n",
              "      <td>447433.181</td>\n",
              "    </tr>\n",
              "    <tr>\n",
              "      <th>2019-05-17 03:13:00</th>\n",
              "      <td>6666.000</td>\n",
              "      <td>6758.450</td>\n",
              "      <td>6620.000</td>\n",
              "      <td>6620.000</td>\n",
              "      <td>146.839</td>\n",
              "      <td>977001.287</td>\n",
              "      <td>6653.555</td>\n",
              "      <td>64.592</td>\n",
              "      <td>429769.097</td>\n",
              "    </tr>\n",
              "    <tr>\n",
              "      <th>2019-05-17 03:14:00</th>\n",
              "      <td>6691.280</td>\n",
              "      <td>6826.280</td>\n",
              "      <td>6600.000</td>\n",
              "      <td>6600.000</td>\n",
              "      <td>183.602</td>\n",
              "      <td>1230106.998</td>\n",
              "      <td>6699.866</td>\n",
              "      <td>64.592</td>\n",
              "      <td>432759.749</td>\n",
              "    </tr>\n",
              "    <tr>\n",
              "      <th>2019-05-17 03:15:00</th>\n",
              "      <td>6600.000</td>\n",
              "      <td>6877.610</td>\n",
              "      <td>6580.000</td>\n",
              "      <td>6877.610</td>\n",
              "      <td>74.934</td>\n",
              "      <td>506638.706</td>\n",
              "      <td>6761.107</td>\n",
              "      <td>64.592</td>\n",
              "      <td>436715.467</td>\n",
              "    </tr>\n",
              "  </tbody>\n",
              "</table>\n",
              "</div>"
            ],
            "text/plain": [
              "                        Open     High  ...  USD_RUB        RUB\n",
              "2019-05-17 03:00:00 7318.000 7318.000  ...   64.599 466419.399\n",
              "2019-05-17 03:01:00 7147.000 7147.000  ...   64.603 459132.524\n",
              "2019-05-17 03:02:00 7100.020 7100.020  ...   64.588 454069.736\n",
              "2019-05-17 03:03:00 7001.000 7001.000  ...   64.612 447354.814\n",
              "2019-05-17 03:04:00 6843.350 6843.350  ...   64.612 438639.018\n",
              "2019-05-17 03:05:00 6718.000 6718.000  ...   64.616 430880.759\n",
              "2019-05-17 03:06:00 6606.000 6606.000  ...   64.594 422438.598\n",
              "2019-05-17 03:07:00 6492.000 6492.000  ...   64.592 417490.146\n",
              "2019-05-17 03:08:00 6420.000 6420.000  ...   64.598 412492.788\n",
              "2019-05-17 03:09:00 6350.000 6350.000  ...   64.592 406937.910\n",
              "2019-05-17 03:10:00 6250.000 6907.010  ...   64.592 402537.020\n",
              "2019-05-17 03:11:00 6907.010 7217.300  ...   64.592 452807.365\n",
              "2019-05-17 03:12:00 6810.000 7320.610  ...   64.592 447433.181\n",
              "2019-05-17 03:13:00 6666.000 6758.450  ...   64.592 429769.097\n",
              "2019-05-17 03:14:00 6691.280 6826.280  ...   64.592 432759.749\n",
              "2019-05-17 03:15:00 6600.000 6877.610  ...   64.592 436715.467\n",
              "\n",
              "[16 rows x 9 columns]"
            ]
          },
          "metadata": {},
          "execution_count": 38
        }
      ],
      "source": [
        "all_btc.loc['2019-05-17 03:00:00':'2019-05-17 03:15:00', :]"
      ]
    },
    {
      "cell_type": "markdown",
      "metadata": {
        "id": "wx7xUKQZN06y"
      },
      "source": [
        "Начиная с 3:10 биткоин резко подорожал, после чего цена стала восстанавливаться к предыдущему значению очень медленно."
      ]
    },
    {
      "cell_type": "markdown",
      "metadata": {
        "id": "7qwbMTFSJww1"
      },
      "source": [
        "Как менялся курс доллара с течением времени?"
      ]
    },
    {
      "cell_type": "code",
      "execution_count": 39,
      "metadata": {
        "id": "H1uoHZg8J1TL",
        "colab": {
          "base_uri": "https://localhost:8080/",
          "height": 273
        },
        "outputId": "cd83bf9e-583a-4c8b-f673-5e43e041d294"
      },
      "outputs": [
        {
          "output_type": "execute_result",
          "data": {
            "text/plain": [
              "<matplotlib.axes._subplots.AxesSubplot at 0x7f36199f4550>"
            ]
          },
          "metadata": {},
          "execution_count": 39
        },
        {
          "output_type": "display_data",
          "data": {
            "image/png": "[encoded data removed]",
            "text/plain": [
              "<Figure size 432x288 with 1 Axes>"
            ]
          },
          "metadata": {}
        }
      ],
      "source": [
        "usd_rub.plot()"
      ]
    },
    {
      "cell_type": "markdown",
      "metadata": {
        "id": "f2m8OjDRIlvf"
      },
      "source": [
        "И, наконец, посмотрим зависимость цены доллара от стоимости биткоина:"
      ]
    },
    {
      "cell_type": "code",
      "execution_count": 40,
      "metadata": {
        "id": "8XgRfQouI1yz",
        "colab": {
          "base_uri": "https://localhost:8080/",
          "height": 295
        },
        "outputId": "82f1ac2d-fbe9-4204-8fbe-d3a6c1f6b687"
      },
      "outputs": [
        {
          "output_type": "display_data",
          "data": {
            "image/png": "[encoded data removed]",
            "text/plain": [
              "<Figure size 432x288 with 1 Axes>"
            ]
          },
          "metadata": {}
        }
      ],
      "source": [
        "all_btc.plot(kind='scatter', x='USD_RUB', y='Weighted_Price', alpha = 0.5, color = 'blue')\n",
        "plt.xlabel('USD Price')              # label = name of label\n",
        "plt.ylabel('BTC Price')\n",
        "plt.title('BTC-Currency Scatter Plot')  \n",
        "plt.show()"
      ]
    },
    {
      "cell_type": "markdown",
      "metadata": {
        "id": "QSKormKCKLau"
      },
      "source": [
        "Почему такой странный график? Да потому, что биткоин набрал большую популярность в 2017, когда доллар был по 60-70р."
      ]
    },
    {
      "cell_type": "markdown",
      "metadata": {
        "id": "o81KTXfqa1hX"
      },
      "source": [
        "## Выводы\n",
        "\n",
        "Python - это популярный и универсальный язык программирования, особенно полезный для анализа данных. С помощью него можно работать с таблицами, объединять похожие, соединять по ключу, как в базах данных, делать запросы, обрабатывать данные и визуализировать их. Python всегда поможет при решении ваших задач, ведь главное - найти нужную библиотеку!"
      ]
    },
    {
      "cell_type": "markdown",
      "metadata": {
        "id": "SrP4Wwo3RgVS"
      },
      "source": [
        "# Задания на практику\n",
        "\n",
        "1. Понять, сколько стоил биткоин, когда доллар имел максимальную цену;\n",
        "2. Нарисовать график изменения цены доллара за 2019 год;\n",
        "3. Отобразите на графике разницу между ценами открытия и закрытия. Когда она была максимальной?"
      ]
    },
    {
      "cell_type": "markdown",
      "source": [
        "Задание 1\n"
      ],
      "metadata": {
        "id": "79t4r2MOkFLG"
      }
    },
    {
      "cell_type": "code",
      "source": [
        "all_btc['USD_RUB'].max()\n"
      ],
      "metadata": {
        "colab": {
          "base_uri": "https://localhost:8080/"
        },
        "id": "b9GgP9GzkILj",
        "outputId": "e7f94459-fcab-4ce2-c03f-6ed72d515bcb"
      },
      "execution_count": 90,
      "outputs": [
        {
          "output_type": "execute_result",
          "data": {
            "text/plain": [
              "85.8156"
            ]
          },
          "metadata": {},
          "execution_count": 90
        }
      ]
    },
    {
      "cell_type": "code",
      "source": [
        "all_btc[all_btc['USD_RUB']>85.8155].head()"
      ],
      "metadata": {
        "colab": {
          "base_uri": "https://localhost:8080/",
          "height": 81
        },
        "id": "RBkIItKOkKpr",
        "outputId": "a7976518-18e3-4cc1-ed3d-35798b0df208"
      },
      "execution_count": 91,
      "outputs": [
        {
          "output_type": "execute_result",
          "data": {
            "text/html": [
              "<div>\n",
              "<style scoped>\n",
              "    .dataframe tbody tr th:only-of-type {\n",
              "        vertical-align: middle;\n",
              "    }\n",
              "\n",
              "    .dataframe tbody tr th {\n",
              "        vertical-align: top;\n",
              "    }\n",
              "\n",
              "    .dataframe thead th {\n",
              "        text-align: right;\n",
              "    }\n",
              "</style>\n",
              "<table border=\"1\" class=\"dataframe\">\n",
              "  <thead>\n",
              "    <tr style=\"text-align: right;\">\n",
              "      <th></th>\n",
              "      <th>Open</th>\n",
              "      <th>High</th>\n",
              "      <th>Low</th>\n",
              "      <th>Close</th>\n",
              "      <th>Volume_(BTC)</th>\n",
              "      <th>Volume_(Currency)</th>\n",
              "      <th>Weighted_Price</th>\n",
              "      <th>USD_RUB</th>\n",
              "      <th>RUB</th>\n",
              "      <th>OC_DIFF</th>\n",
              "    </tr>\n",
              "  </thead>\n",
              "  <tbody>\n",
              "    <tr>\n",
              "      <th>2016-01-21 15:08:00</th>\n",
              "      <td>415.530</td>\n",
              "      <td>415.690</td>\n",
              "      <td>415.500</td>\n",
              "      <td>415.600</td>\n",
              "      <td>16.706</td>\n",
              "      <td>6941.508</td>\n",
              "      <td>415.510</td>\n",
              "      <td>85.816</td>\n",
              "      <td>35657.253</td>\n",
              "      <td>0.070</td>\n",
              "    </tr>\n",
              "  </tbody>\n",
              "</table>\n",
              "</div>"
            ],
            "text/plain": [
              "                       Open    High     Low  ...  USD_RUB       RUB  OC_DIFF\n",
              "2016-01-21 15:08:00 415.530 415.690 415.500  ...   85.816 35657.253    0.070\n",
              "\n",
              "[1 rows x 10 columns]"
            ]
          },
          "metadata": {},
          "execution_count": 91
        }
      ]
    },
    {
      "cell_type": "markdown",
      "source": [
        "Задание 2\n"
      ],
      "metadata": {
        "id": "r_7pvrd0kHu4"
      }
    },
    {
      "cell_type": "code",
      "source": [
        "USD_2019 = all_btc[all_btc.index >= datetime.datetime(2019, 1, 1)]\n",
        "USD_2019.head()"
      ],
      "metadata": {
        "colab": {
          "base_uri": "https://localhost:8080/",
          "height": 206
        },
        "id": "OY8PgiiKMUaO",
        "outputId": "c179e196-e91f-4788-e579-03272889af87"
      },
      "execution_count": 53,
      "outputs": [
        {
          "output_type": "execute_result",
          "data": {
            "text/html": [
              "<div>\n",
              "<style scoped>\n",
              "    .dataframe tbody tr th:only-of-type {\n",
              "        vertical-align: middle;\n",
              "    }\n",
              "\n",
              "    .dataframe tbody tr th {\n",
              "        vertical-align: top;\n",
              "    }\n",
              "\n",
              "    .dataframe thead th {\n",
              "        text-align: right;\n",
              "    }\n",
              "</style>\n",
              "<table border=\"1\" class=\"dataframe\">\n",
              "  <thead>\n",
              "    <tr style=\"text-align: right;\">\n",
              "      <th></th>\n",
              "      <th>Open</th>\n",
              "      <th>High</th>\n",
              "      <th>Low</th>\n",
              "      <th>Close</th>\n",
              "      <th>Volume_(BTC)</th>\n",
              "      <th>Volume_(Currency)</th>\n",
              "      <th>Weighted_Price</th>\n",
              "      <th>USD_RUB</th>\n",
              "      <th>RUB</th>\n",
              "    </tr>\n",
              "  </thead>\n",
              "  <tbody>\n",
              "    <tr>\n",
              "      <th>2019-01-01 00:00:00</th>\n",
              "      <td>3693.850</td>\n",
              "      <td>3698.790</td>\n",
              "      <td>3693.850</td>\n",
              "      <td>3698.000</td>\n",
              "      <td>5.491</td>\n",
              "      <td>20301.157</td>\n",
              "      <td>3696.975</td>\n",
              "      <td>69.327</td>\n",
              "      <td>256300.551</td>\n",
              "    </tr>\n",
              "    <tr>\n",
              "      <th>2019-01-01 00:01:00</th>\n",
              "      <td>3694.720</td>\n",
              "      <td>3694.720</td>\n",
              "      <td>3690.650</td>\n",
              "      <td>3690.650</td>\n",
              "      <td>9.500</td>\n",
              "      <td>35080.266</td>\n",
              "      <td>3692.601</td>\n",
              "      <td>69.338</td>\n",
              "      <td>256037.559</td>\n",
              "    </tr>\n",
              "    <tr>\n",
              "      <th>2019-01-01 00:02:00</th>\n",
              "      <td>3689.730</td>\n",
              "      <td>3689.730</td>\n",
              "      <td>3686.620</td>\n",
              "      <td>3686.620</td>\n",
              "      <td>0.966</td>\n",
              "      <td>3562.371</td>\n",
              "      <td>3687.885</td>\n",
              "      <td>69.272</td>\n",
              "      <td>255467.886</td>\n",
              "    </tr>\n",
              "    <tr>\n",
              "      <th>2019-01-01 00:03:00</th>\n",
              "      <td>3692.850</td>\n",
              "      <td>3692.850</td>\n",
              "      <td>3688.320</td>\n",
              "      <td>3692.350</td>\n",
              "      <td>0.297</td>\n",
              "      <td>1095.221</td>\n",
              "      <td>3691.813</td>\n",
              "      <td>69.290</td>\n",
              "      <td>255806.850</td>\n",
              "    </tr>\n",
              "    <tr>\n",
              "      <th>2019-01-01 00:04:00</th>\n",
              "      <td>3692.350</td>\n",
              "      <td>3692.350</td>\n",
              "      <td>3690.340</td>\n",
              "      <td>3690.340</td>\n",
              "      <td>0.112</td>\n",
              "      <td>412.065</td>\n",
              "      <td>3691.615</td>\n",
              "      <td>69.290</td>\n",
              "      <td>255792.362</td>\n",
              "    </tr>\n",
              "  </tbody>\n",
              "</table>\n",
              "</div>"
            ],
            "text/plain": [
              "                        Open     High  ...  USD_RUB        RUB\n",
              "2019-01-01 00:00:00 3693.850 3698.790  ...   69.327 256300.551\n",
              "2019-01-01 00:01:00 3694.720 3694.720  ...   69.338 256037.559\n",
              "2019-01-01 00:02:00 3689.730 3689.730  ...   69.272 255467.886\n",
              "2019-01-01 00:03:00 3692.850 3692.850  ...   69.290 255806.850\n",
              "2019-01-01 00:04:00 3692.350 3692.350  ...   69.290 255792.362\n",
              "\n",
              "[5 rows x 9 columns]"
            ]
          },
          "metadata": {},
          "execution_count": 53
        }
      ]
    },
    {
      "cell_type": "code",
      "source": [
        "USD_2019.USD_RUB.plot()"
      ],
      "metadata": {
        "colab": {
          "base_uri": "https://localhost:8080/",
          "height": 281
        },
        "id": "BhUDQF_iM65v",
        "outputId": "f4fb5b81-7ab2-444c-e250-027a4ff979ac"
      },
      "execution_count": 60,
      "outputs": [
        {
          "output_type": "execute_result",
          "data": {
            "text/plain": [
              "<matplotlib.axes._subplots.AxesSubplot at 0x7f35f795c310>"
            ]
          },
          "metadata": {},
          "execution_count": 60
        },
        {
          "output_type": "display_data",
          "data": {
            "image/png": "[encoded data removed]",
            "text/plain": [
              "<Figure size 432x288 with 1 Axes>"
            ]
          },
          "metadata": {}
        }
      ]
    },
    {
      "cell_type": "markdown",
      "source": [
        "Задание 3\n"
      ],
      "metadata": {
        "id": "NOl2TA6FkYpb"
      }
    },
    {
      "cell_type": "code",
      "source": [
        "all_btc['OC_DIFF'] = all_btc['Close'] - all_btc['Open']\n",
        "all_btc.head()"
      ],
      "metadata": {
        "colab": {
          "base_uri": "https://localhost:8080/",
          "height": 206
        },
        "id": "YLKlbZI7Q6nd",
        "outputId": "6c21a229-acd9-40a6-c86e-894b0ee1f95d"
      },
      "execution_count": 68,
      "outputs": [
        {
          "output_type": "execute_result",
          "data": {
            "text/html": [
              "<div>\n",
              "<style scoped>\n",
              "    .dataframe tbody tr th:only-of-type {\n",
              "        vertical-align: middle;\n",
              "    }\n",
              "\n",
              "    .dataframe tbody tr th {\n",
              "        vertical-align: top;\n",
              "    }\n",
              "\n",
              "    .dataframe thead th {\n",
              "        text-align: right;\n",
              "    }\n",
              "</style>\n",
              "<table border=\"1\" class=\"dataframe\">\n",
              "  <thead>\n",
              "    <tr style=\"text-align: right;\">\n",
              "      <th></th>\n",
              "      <th>Open</th>\n",
              "      <th>High</th>\n",
              "      <th>Low</th>\n",
              "      <th>Close</th>\n",
              "      <th>Volume_(BTC)</th>\n",
              "      <th>Volume_(Currency)</th>\n",
              "      <th>Weighted_Price</th>\n",
              "      <th>USD_RUB</th>\n",
              "      <th>RUB</th>\n",
              "      <th>OC_DIFF</th>\n",
              "    </tr>\n",
              "  </thead>\n",
              "  <tbody>\n",
              "    <tr>\n",
              "      <th>2011-12-31 07:52:00</th>\n",
              "      <td>4.390</td>\n",
              "      <td>4.390</td>\n",
              "      <td>4.390</td>\n",
              "      <td>4.390</td>\n",
              "      <td>0.456</td>\n",
              "      <td>2.000</td>\n",
              "      <td>4.390</td>\n",
              "      <td>32.120</td>\n",
              "      <td>141.007</td>\n",
              "      <td>0.000</td>\n",
              "    </tr>\n",
              "    <tr>\n",
              "      <th>2011-12-31 15:50:00</th>\n",
              "      <td>4.390</td>\n",
              "      <td>4.390</td>\n",
              "      <td>4.390</td>\n",
              "      <td>4.390</td>\n",
              "      <td>48.000</td>\n",
              "      <td>210.720</td>\n",
              "      <td>4.390</td>\n",
              "      <td>32.120</td>\n",
              "      <td>141.007</td>\n",
              "      <td>0.000</td>\n",
              "    </tr>\n",
              "    <tr>\n",
              "      <th>2011-12-31 16:59:00</th>\n",
              "      <td>4.500</td>\n",
              "      <td>4.570</td>\n",
              "      <td>4.500</td>\n",
              "      <td>4.570</td>\n",
              "      <td>37.862</td>\n",
              "      <td>171.380</td>\n",
              "      <td>4.526</td>\n",
              "      <td>32.120</td>\n",
              "      <td>145.388</td>\n",
              "      <td>0.070</td>\n",
              "    </tr>\n",
              "    <tr>\n",
              "      <th>2011-12-31 17:00:00</th>\n",
              "      <td>4.580</td>\n",
              "      <td>4.580</td>\n",
              "      <td>4.580</td>\n",
              "      <td>4.580</td>\n",
              "      <td>9.000</td>\n",
              "      <td>41.220</td>\n",
              "      <td>4.580</td>\n",
              "      <td>32.120</td>\n",
              "      <td>147.110</td>\n",
              "      <td>0.000</td>\n",
              "    </tr>\n",
              "    <tr>\n",
              "      <th>2012-01-01 04:16:00</th>\n",
              "      <td>4.580</td>\n",
              "      <td>4.580</td>\n",
              "      <td>4.580</td>\n",
              "      <td>4.580</td>\n",
              "      <td>1.502</td>\n",
              "      <td>6.879</td>\n",
              "      <td>4.580</td>\n",
              "      <td>32.120</td>\n",
              "      <td>147.110</td>\n",
              "      <td>0.000</td>\n",
              "    </tr>\n",
              "  </tbody>\n",
              "</table>\n",
              "</div>"
            ],
            "text/plain": [
              "                     Open  High   Low  ...  USD_RUB     RUB  OC_DIFF\n",
              "2011-12-31 07:52:00 4.390 4.390 4.390  ...   32.120 141.007    0.000\n",
              "2011-12-31 15:50:00 4.390 4.390 4.390  ...   32.120 141.007    0.000\n",
              "2011-12-31 16:59:00 4.500 4.570 4.500  ...   32.120 145.388    0.070\n",
              "2011-12-31 17:00:00 4.580 4.580 4.580  ...   32.120 147.110    0.000\n",
              "2012-01-01 04:16:00 4.580 4.580 4.580  ...   32.120 147.110    0.000\n",
              "\n",
              "[5 rows x 10 columns]"
            ]
          },
          "metadata": {},
          "execution_count": 68
        }
      ]
    },
    {
      "cell_type": "markdown",
      "source": [
        "Проверим значения разницы как со знаком + так и -"
      ],
      "metadata": {
        "id": "APdO8hgvafDn"
      }
    },
    {
      "cell_type": "code",
      "source": [
        "(all_btc.Close - all_btc.Open).plot(color='green')"
      ],
      "metadata": {
        "colab": {
          "base_uri": "https://localhost:8080/",
          "height": 273
        },
        "id": "e5ZbAhZug4gU",
        "outputId": "5b2442b0-37d1-423e-fbb6-90a76c7240e1"
      },
      "execution_count": 88,
      "outputs": [
        {
          "output_type": "execute_result",
          "data": {
            "text/plain": [
              "<matplotlib.axes._subplots.AxesSubplot at 0x7f35f07bb990>"
            ]
          },
          "metadata": {},
          "execution_count": 88
        },
        {
          "output_type": "display_data",
          "data": {
            "image/png": "[encoded data removed]",
            "text/plain": [
              "<Figure size 432x288 with 1 Axes>"
            ]
          },
          "metadata": {}
        }
      ]
    },
    {
      "cell_type": "code",
      "source": [
        "all_btc['OC_DIFF'].max()"
      ],
      "metadata": {
        "colab": {
          "base_uri": "https://localhost:8080/"
        },
        "id": "5SHPxMHURjsG",
        "outputId": "3f5f70e5-9a63-42f5-b93d-22f271a79e72"
      },
      "execution_count": 69,
      "outputs": [
        {
          "output_type": "execute_result",
          "data": {
            "text/plain": [
              "657.0100000000002"
            ]
          },
          "metadata": {},
          "execution_count": 69
        }
      ]
    },
    {
      "cell_type": "code",
      "source": [
        "all_btc['OC_DIFF'].min()"
      ],
      "metadata": {
        "colab": {
          "base_uri": "https://localhost:8080/"
        },
        "id": "O_ycSMZPSF2l",
        "outputId": "e04cd9ea-be4b-4727-eacc-101737a40e78"
      },
      "execution_count": 70,
      "outputs": [
        {
          "output_type": "execute_result",
          "data": {
            "text/plain": [
              "-585.3"
            ]
          },
          "metadata": {},
          "execution_count": 70
        }
      ]
    },
    {
      "cell_type": "code",
      "source": [
        "f = all_btc.loc[all_btc['OC_DIFF'] == 657.0100000000002]\n",
        "f"
      ],
      "metadata": {
        "colab": {
          "base_uri": "https://localhost:8080/",
          "height": 81
        },
        "id": "2isPUZO4S2Ep",
        "outputId": "8b49c159-6b3c-4853-dc31-bfd24de0553c"
      },
      "execution_count": 71,
      "outputs": [
        {
          "output_type": "execute_result",
          "data": {
            "text/html": [
              "<div>\n",
              "<style scoped>\n",
              "    .dataframe tbody tr th:only-of-type {\n",
              "        vertical-align: middle;\n",
              "    }\n",
              "\n",
              "    .dataframe tbody tr th {\n",
              "        vertical-align: top;\n",
              "    }\n",
              "\n",
              "    .dataframe thead th {\n",
              "        text-align: right;\n",
              "    }\n",
              "</style>\n",
              "<table border=\"1\" class=\"dataframe\">\n",
              "  <thead>\n",
              "    <tr style=\"text-align: right;\">\n",
              "      <th></th>\n",
              "      <th>Open</th>\n",
              "      <th>High</th>\n",
              "      <th>Low</th>\n",
              "      <th>Close</th>\n",
              "      <th>Volume_(BTC)</th>\n",
              "      <th>Volume_(Currency)</th>\n",
              "      <th>Weighted_Price</th>\n",
              "      <th>USD_RUB</th>\n",
              "      <th>RUB</th>\n",
              "      <th>OC_DIFF</th>\n",
              "    </tr>\n",
              "  </thead>\n",
              "  <tbody>\n",
              "    <tr>\n",
              "      <th>2019-05-17 03:10:00</th>\n",
              "      <td>6250.000</td>\n",
              "      <td>6907.010</td>\n",
              "      <td>6178.000</td>\n",
              "      <td>6907.010</td>\n",
              "      <td>150.971</td>\n",
              "      <td>940847.083</td>\n",
              "      <td>6231.966</td>\n",
              "      <td>64.592</td>\n",
              "      <td>402537.020</td>\n",
              "      <td>657.010</td>\n",
              "    </tr>\n",
              "  </tbody>\n",
              "</table>\n",
              "</div>"
            ],
            "text/plain": [
              "                        Open     High      Low  ...  USD_RUB        RUB  OC_DIFF\n",
              "2019-05-17 03:10:00 6250.000 6907.010 6178.000  ...   64.592 402537.020  657.010\n",
              "\n",
              "[1 rows x 10 columns]"
            ]
          },
          "metadata": {},
          "execution_count": 71
        }
      ]
    },
    {
      "cell_type": "markdown",
      "source": [
        ""
      ],
      "metadata": {
        "id": "OYek_PljabqN"
      }
    },
    {
      "cell_type": "markdown",
      "source": [
        "Теперь мы знаем когда была максимальная разница\n"
      ],
      "metadata": {
        "id": "GH875zWWaWcG"
      }
    },
    {
      "cell_type": "code",
      "source": [
        "all_btc.tail()"
      ],
      "metadata": {
        "colab": {
          "base_uri": "https://localhost:8080/",
          "height": 206
        },
        "id": "LqiMOaoJUz9P",
        "outputId": "8af030bf-fe4d-4c58-8389-0c5ee91d2b76"
      },
      "execution_count": 72,
      "outputs": [
        {
          "output_type": "execute_result",
          "data": {
            "text/html": [
              "<div>\n",
              "<style scoped>\n",
              "    .dataframe tbody tr th:only-of-type {\n",
              "        vertical-align: middle;\n",
              "    }\n",
              "\n",
              "    .dataframe tbody tr th {\n",
              "        vertical-align: top;\n",
              "    }\n",
              "\n",
              "    .dataframe thead th {\n",
              "        text-align: right;\n",
              "    }\n",
              "</style>\n",
              "<table border=\"1\" class=\"dataframe\">\n",
              "  <thead>\n",
              "    <tr style=\"text-align: right;\">\n",
              "      <th></th>\n",
              "      <th>Open</th>\n",
              "      <th>High</th>\n",
              "      <th>Low</th>\n",
              "      <th>Close</th>\n",
              "      <th>Volume_(BTC)</th>\n",
              "      <th>Volume_(Currency)</th>\n",
              "      <th>Weighted_Price</th>\n",
              "      <th>USD_RUB</th>\n",
              "      <th>RUB</th>\n",
              "      <th>OC_DIFF</th>\n",
              "    </tr>\n",
              "  </thead>\n",
              "  <tbody>\n",
              "    <tr>\n",
              "      <th>2019-08-11 23:56:00</th>\n",
              "      <td>11555.570</td>\n",
              "      <td>11555.570</td>\n",
              "      <td>11540.370</td>\n",
              "      <td>11540.580</td>\n",
              "      <td>0.037</td>\n",
              "      <td>425.909</td>\n",
              "      <td>11552.336</td>\n",
              "      <td>65.383</td>\n",
              "      <td>755329.866</td>\n",
              "      <td>-14.990</td>\n",
              "    </tr>\n",
              "    <tr>\n",
              "      <th>2019-08-11 23:57:00</th>\n",
              "      <td>11553.490</td>\n",
              "      <td>11556.220</td>\n",
              "      <td>11553.490</td>\n",
              "      <td>11556.220</td>\n",
              "      <td>0.623</td>\n",
              "      <td>7204.428</td>\n",
              "      <td>11555.521</td>\n",
              "      <td>65.383</td>\n",
              "      <td>755538.064</td>\n",
              "      <td>2.730</td>\n",
              "    </tr>\n",
              "    <tr>\n",
              "      <th>2019-08-11 23:58:00</th>\n",
              "      <td>11559.730</td>\n",
              "      <td>11561.220</td>\n",
              "      <td>11546.770</td>\n",
              "      <td>11561.220</td>\n",
              "      <td>0.159</td>\n",
              "      <td>1838.731</td>\n",
              "      <td>11559.252</td>\n",
              "      <td>65.383</td>\n",
              "      <td>755782.054</td>\n",
              "      <td>1.490</td>\n",
              "    </tr>\n",
              "    <tr>\n",
              "      <th>2019-08-11 23:59:00</th>\n",
              "      <td>11559.730</td>\n",
              "      <td>11589.730</td>\n",
              "      <td>11528.730</td>\n",
              "      <td>11528.730</td>\n",
              "      <td>16.198</td>\n",
              "      <td>187504.635</td>\n",
              "      <td>11575.639</td>\n",
              "      <td>65.383</td>\n",
              "      <td>756853.470</td>\n",
              "      <td>-31.000</td>\n",
              "    </tr>\n",
              "    <tr>\n",
              "      <th>2019-08-12 00:00:00</th>\n",
              "      <td>11527.440</td>\n",
              "      <td>11551.570</td>\n",
              "      <td>11520.000</td>\n",
              "      <td>11520.000</td>\n",
              "      <td>23.806</td>\n",
              "      <td>274731.257</td>\n",
              "      <td>11540.450</td>\n",
              "      <td>65.377</td>\n",
              "      <td>754480.019</td>\n",
              "      <td>-7.440</td>\n",
              "    </tr>\n",
              "  </tbody>\n",
              "</table>\n",
              "</div>"
            ],
            "text/plain": [
              "                         Open      High       Low  ...  USD_RUB        RUB  OC_DIFF\n",
              "2019-08-11 23:56:00 11555.570 11555.570 11540.370  ...   65.383 755329.866  -14.990\n",
              "2019-08-11 23:57:00 11553.490 11556.220 11553.490  ...   65.383 755538.064    2.730\n",
              "2019-08-11 23:58:00 11559.730 11561.220 11546.770  ...   65.383 755782.054    1.490\n",
              "2019-08-11 23:59:00 11559.730 11589.730 11528.730  ...   65.383 756853.470  -31.000\n",
              "2019-08-12 00:00:00 11527.440 11551.570 11520.000  ...   65.377 754480.019   -7.440\n",
              "\n",
              "[5 rows x 10 columns]"
            ]
          },
          "metadata": {},
          "execution_count": 72
        }
      ]
    },
    {
      "cell_type": "markdown",
      "source": [
        "Стоимость биткоина на момент самой большой разницы между открытием и закрытием торгов. Не удивительно.\n",
        "\n"
      ],
      "metadata": {
        "id": "4d0QnNgvVdd_"
      }
    },
    {
      "cell_type": "code",
      "source": [
        "all_btc.loc['2019-05-16 03:00:00':'2019-05-18 03:15:00', :].plot()"
      ],
      "metadata": {
        "colab": {
          "base_uri": "https://localhost:8080/",
          "height": 294
        },
        "id": "78dUTlRwUuDg",
        "outputId": "ad2df1be-4b64-45bc-9ef8-60c52f99ea2d"
      },
      "execution_count": 86,
      "outputs": [
        {
          "output_type": "execute_result",
          "data": {
            "text/plain": [
              "<matplotlib.axes._subplots.AxesSubplot at 0x7f35f0943990>"
            ]
          },
          "metadata": {},
          "execution_count": 86
        },
        {
          "output_type": "display_data",
          "data": {
            "image/png": "[encoded data removed]",
            "text/plain": [
              "<Figure size 432x288 with 1 Axes>"
            ]
          },
          "metadata": {}
        }
      ]
    },
    {
      "cell_type": "markdown",
      "source": [
        "Посмотрим на графике зависимость разницы открытия/закрытия и стоимости биткоина. Вот что получается если цена закрытия больше цены открытия"
      ],
      "metadata": {
        "id": "ZMf8Ye1xXTz3"
      }
    },
    {
      "cell_type": "code",
      "source": [
        "all_btc[all_btc['OC_DIFF']>0].plot()"
      ],
      "metadata": {
        "colab": {
          "base_uri": "https://localhost:8080/",
          "height": 284
        },
        "id": "qQ9psWwpWYST",
        "outputId": "bc15e29d-b847-4165-ec13-8e3b39d47e4a"
      },
      "execution_count": 75,
      "outputs": [
        {
          "output_type": "execute_result",
          "data": {
            "text/plain": [
              "<matplotlib.axes._subplots.AxesSubplot at 0x7f36041ff750>"
            ]
          },
          "metadata": {},
          "execution_count": 75
        },
        {
          "output_type": "display_data",
          "data": {
            "image/png": "[encoded data removed]",
            "text/plain": [
              "<Figure size 432x288 with 1 Axes>"
            ]
          },
          "metadata": {}
        }
      ]
    },
    {
      "cell_type": "markdown",
      "source": [
        "Обратный случай. На графике изображено время , когда разница была отрицательной Т.Е. на момент открытия торгов биткоин стоил дороже, чем к закрытию\n"
      ],
      "metadata": {
        "id": "bEGWLU-DXkoX"
      }
    },
    {
      "cell_type": "code",
      "source": [
        "all_btc[all_btc['OC_DIFF']<0].plot()"
      ],
      "metadata": {
        "colab": {
          "base_uri": "https://localhost:8080/",
          "height": 284
        },
        "id": "i4pdO2kaW5aM",
        "outputId": "19699d7b-962d-46e3-8b24-c5d91d674efe"
      },
      "execution_count": 76,
      "outputs": [
        {
          "output_type": "execute_result",
          "data": {
            "text/plain": [
              "<matplotlib.axes._subplots.AxesSubplot at 0x7f35f3a51990>"
            ]
          },
          "metadata": {},
          "execution_count": 76
        },
        {
          "output_type": "display_data",
          "data": {
            "image/png": "[encoded data removed]",
            "text/plain": [
              "<Figure size 432x288 with 1 Axes>"
            ]
          },
          "metadata": {}
        }
      ]
    },
    {
      "cell_type": "markdown",
      "source": [
        "Сопоставив графики мы можем сказать что в 2018-2019 году было весьма не спокойное время, прослеживается тенденция того, что при открытии торгов при отрицательной разнице между значениями открытия и закрытия  цена биткоина возрастала.\n",
        "\n",
        "То есть , если в начале дня биткоин стоил дороже чем в конце,то его цена преимущественно возрастала"
      ],
      "metadata": {
        "id": "qFhY8PNFX6ps"
      }
    },
    {
      "cell_type": "markdown",
      "source": [
        ""
      ],
      "metadata": {
        "id": "3DuyFrzTUnj2"
      }
    }
  ],
  "metadata": {
    "colab": {
      "collapsed_sections": [],
      "name": "BITCOIN_.ipynb",
      "provenance": []
    },
    "kernelspec": {
      "display_name": "Python 3",
      "name": "python3"
    }
  },
  "nbformat": 4,
  "nbformat_minor": 0
}