{
  "nbformat": 4,
  "nbformat_minor": 0,
  "metadata": {
    "_change_revision": 2,
    "_is_fork": false,
    "kernelspec": {
      "display_name": "Python 3",
      "language": "python",
      "name": "python3"
    },
    "language_info": {
      "codemirror_mode": {
        "name": "ipython",
        "version": 3
      },
      "file_extension": ".py",
      "mimetype": "text/x-python",
      "name": "python",
      "nbconvert_exporter": "python",
      "pygments_lexer": "ipython3",
      "version": "3.5.2"
    },
    "colab": {
      "name": "Анализ_кинофильмов.ipynb",
      "provenance": [],
      "include_colab_link": true
    }
  },
  "cells": [
    {
      "cell_type": "markdown",
      "metadata": {
        "id": "view-in-github",
        "colab_type": "text"
      },
      "source": [
        "<a href=\"https://colab.research.google.com/github/davidyaaw/mydataprojects/blob/main/%D0%90%D0%BD%D0%B0%D0%BB%D0%B8%D0%B7_%D0%BA%D0%B8%D0%BD%D0%BE%D1%84%D0%B8%D0%BB%D1%8C%D0%BC%D0%BE%D0%B2.ipynb\" target=\"_parent\"><img src=\"https://colab.research.google.com/assets/colab-badge.svg\" alt=\"Open In Colab\"/></a>"
      ]
    },
    {
      "cell_type": "markdown",
      "metadata": {
        "_cell_guid": "5dce3351-83f9-ba8d-20be-84aff37e12e0",
        "id": "BuEdnfJWKW-e"
      },
      "source": [
        ""
      ]
    },
    {
      "cell_type": "code",
      "metadata": {
        "_cell_guid": "a84f695b-0aa8-c68f-e90b-46281708539f",
        "id": "5RwUkxhTKW-f"
      },
      "source": [
        "import pandas as pd\n",
        "import numpy as np\n",
        "from pandas import Series, DataFrame\n",
        "import matplotlib.pyplot as plt\n",
        "import seaborn as sns\n",
        "%matplotlib inline\n"
      ],
      "execution_count": null,
      "outputs": []
    },
    {
      "cell_type": "code",
      "metadata": {
        "_cell_guid": "6b3f53dc-60c1-75a2-f8c8-f102075ce260",
        "id": "7An9BZuLKW-j",
        "colab": {
          "base_uri": "https://localhost:8080/",
          "height": 358
        },
        "outputId": "54a55449-5faa-485a-a9eb-d730123d9038"
      },
      "source": [
        "data = pd.read_csv('movie_metadata.csv')\n",
        "data.head() #read data"
      ],
      "execution_count": null,
      "outputs": [
        {
          "output_type": "execute_result",
          "data": {
            "text/html": [
              "<div>\n",
              "<style scoped>\n",
              "    .dataframe tbody tr th:only-of-type {\n",
              "        vertical-align: middle;\n",
              "    }\n",
              "\n",
              "    .dataframe tbody tr th {\n",
              "        vertical-align: top;\n",
              "    }\n",
              "\n",
              "    .dataframe thead th {\n",
              "        text-align: right;\n",
              "    }\n",
              "</style>\n",
              "<table border=\"1\" class=\"dataframe\">\n",
              "  <thead>\n",
              "    <tr style=\"text-align: right;\">\n",
              "      <th></th>\n",
              "      <th>color</th>\n",
              "      <th>director_name</th>\n",
              "      <th>num_critic_for_reviews</th>\n",
              "      <th>duration</th>\n",
              "      <th>director_facebook_likes</th>\n",
              "      <th>actor_3_facebook_likes</th>\n",
              "      <th>actor_2_name</th>\n",
              "      <th>actor_1_facebook_likes</th>\n",
              "      <th>gross</th>\n",
              "      <th>genres</th>\n",
              "      <th>actor_1_name</th>\n",
              "      <th>movie_title</th>\n",
              "      <th>num_voted_users</th>\n",
              "      <th>cast_total_facebook_likes</th>\n",
              "      <th>actor_3_name</th>\n",
              "      <th>facenumber_in_poster</th>\n",
              "      <th>plot_keywords</th>\n",
              "      <th>movie_imdb_link</th>\n",
              "      <th>num_user_for_reviews</th>\n",
              "      <th>language</th>\n",
              "      <th>country</th>\n",
              "      <th>content_rating</th>\n",
              "      <th>budget</th>\n",
              "      <th>title_year</th>\n",
              "      <th>actor_2_facebook_likes</th>\n",
              "      <th>imdb_score</th>\n",
              "      <th>aspect_ratio</th>\n",
              "      <th>movie_facebook_likes</th>\n",
              "    </tr>\n",
              "  </thead>\n",
              "  <tbody>\n",
              "    <tr>\n",
              "      <th>0</th>\n",
              "      <td>Color</td>\n",
              "      <td>James Cameron</td>\n",
              "      <td>723.0</td>\n",
              "      <td>178.0</td>\n",
              "      <td>0.0</td>\n",
              "      <td>855.0</td>\n",
              "      <td>Joel David Moore</td>\n",
              "      <td>1000.0</td>\n",
              "      <td>760505847.0</td>\n",
              "      <td>Action|Adventure|Fantasy|Sci-Fi</td>\n",
              "      <td>CCH Pounder</td>\n",
              "      <td>Avatar</td>\n",
              "      <td>886204</td>\n",
              "      <td>4834</td>\n",
              "      <td>Wes Studi</td>\n",
              "      <td>0.0</td>\n",
              "      <td>avatar|future|marine|native|paraplegic</td>\n",
              "      <td>http://www.imdb.com/title/tt0499549/?ref_=fn_t...</td>\n",
              "      <td>3054.0</td>\n",
              "      <td>English</td>\n",
              "      <td>USA</td>\n",
              "      <td>PG-13</td>\n",
              "      <td>237000000.0</td>\n",
              "      <td>2009.0</td>\n",
              "      <td>936.0</td>\n",
              "      <td>7.9</td>\n",
              "      <td>1.78</td>\n",
              "      <td>33000</td>\n",
              "    </tr>\n",
              "    <tr>\n",
              "      <th>1</th>\n",
              "      <td>Color</td>\n",
              "      <td>Gore Verbinski</td>\n",
              "      <td>302.0</td>\n",
              "      <td>169.0</td>\n",
              "      <td>563.0</td>\n",
              "      <td>1000.0</td>\n",
              "      <td>Orlando Bloom</td>\n",
              "      <td>40000.0</td>\n",
              "      <td>309404152.0</td>\n",
              "      <td>Action|Adventure|Fantasy</td>\n",
              "      <td>Johnny Depp</td>\n",
              "      <td>Pirates of the Caribbean: At World's End</td>\n",
              "      <td>471220</td>\n",
              "      <td>48350</td>\n",
              "      <td>Jack Davenport</td>\n",
              "      <td>0.0</td>\n",
              "      <td>goddess|marriage ceremony|marriage proposal|pi...</td>\n",
              "      <td>http://www.imdb.com/title/tt0449088/?ref_=fn_t...</td>\n",
              "      <td>1238.0</td>\n",
              "      <td>English</td>\n",
              "      <td>USA</td>\n",
              "      <td>PG-13</td>\n",
              "      <td>300000000.0</td>\n",
              "      <td>2007.0</td>\n",
              "      <td>5000.0</td>\n",
              "      <td>7.1</td>\n",
              "      <td>2.35</td>\n",
              "      <td>0</td>\n",
              "    </tr>\n",
              "    <tr>\n",
              "      <th>2</th>\n",
              "      <td>Color</td>\n",
              "      <td>Sam Mendes</td>\n",
              "      <td>602.0</td>\n",
              "      <td>148.0</td>\n",
              "      <td>0.0</td>\n",
              "      <td>161.0</td>\n",
              "      <td>Rory Kinnear</td>\n",
              "      <td>11000.0</td>\n",
              "      <td>200074175.0</td>\n",
              "      <td>Action|Adventure|Thriller</td>\n",
              "      <td>Christoph Waltz</td>\n",
              "      <td>Spectre</td>\n",
              "      <td>275868</td>\n",
              "      <td>11700</td>\n",
              "      <td>Stephanie Sigman</td>\n",
              "      <td>1.0</td>\n",
              "      <td>bomb|espionage|sequel|spy|terrorist</td>\n",
              "      <td>http://www.imdb.com/title/tt2379713/?ref_=fn_t...</td>\n",
              "      <td>994.0</td>\n",
              "      <td>English</td>\n",
              "      <td>UK</td>\n",
              "      <td>PG-13</td>\n",
              "      <td>245000000.0</td>\n",
              "      <td>2015.0</td>\n",
              "      <td>393.0</td>\n",
              "      <td>6.8</td>\n",
              "      <td>2.35</td>\n",
              "      <td>85000</td>\n",
              "    </tr>\n",
              "    <tr>\n",
              "      <th>3</th>\n",
              "      <td>Color</td>\n",
              "      <td>Christopher Nolan</td>\n",
              "      <td>813.0</td>\n",
              "      <td>164.0</td>\n",
              "      <td>22000.0</td>\n",
              "      <td>23000.0</td>\n",
              "      <td>Christian Bale</td>\n",
              "      <td>27000.0</td>\n",
              "      <td>448130642.0</td>\n",
              "      <td>Action|Thriller</td>\n",
              "      <td>Tom Hardy</td>\n",
              "      <td>The Dark Knight Rises</td>\n",
              "      <td>1144337</td>\n",
              "      <td>106759</td>\n",
              "      <td>Joseph Gordon-Levitt</td>\n",
              "      <td>0.0</td>\n",
              "      <td>deception|imprisonment|lawlessness|police offi...</td>\n",
              "      <td>http://www.imdb.com/title/tt1345836/?ref_=fn_t...</td>\n",
              "      <td>2701.0</td>\n",
              "      <td>English</td>\n",
              "      <td>USA</td>\n",
              "      <td>PG-13</td>\n",
              "      <td>250000000.0</td>\n",
              "      <td>2012.0</td>\n",
              "      <td>23000.0</td>\n",
              "      <td>8.5</td>\n",
              "      <td>2.35</td>\n",
              "      <td>164000</td>\n",
              "    </tr>\n",
              "    <tr>\n",
              "      <th>4</th>\n",
              "      <td>NaN</td>\n",
              "      <td>Doug Walker</td>\n",
              "      <td>NaN</td>\n",
              "      <td>NaN</td>\n",
              "      <td>131.0</td>\n",
              "      <td>NaN</td>\n",
              "      <td>Rob Walker</td>\n",
              "      <td>131.0</td>\n",
              "      <td>NaN</td>\n",
              "      <td>Documentary</td>\n",
              "      <td>Doug Walker</td>\n",
              "      <td>Star Wars: Episode VII - The Force Awakens    ...</td>\n",
              "      <td>8</td>\n",
              "      <td>143</td>\n",
              "      <td>NaN</td>\n",
              "      <td>0.0</td>\n",
              "      <td>NaN</td>\n",
              "      <td>http://www.imdb.com/title/tt5289954/?ref_=fn_t...</td>\n",
              "      <td>NaN</td>\n",
              "      <td>NaN</td>\n",
              "      <td>NaN</td>\n",
              "      <td>NaN</td>\n",
              "      <td>NaN</td>\n",
              "      <td>NaN</td>\n",
              "      <td>12.0</td>\n",
              "      <td>7.1</td>\n",
              "      <td>NaN</td>\n",
              "      <td>0</td>\n",
              "    </tr>\n",
              "  </tbody>\n",
              "</table>\n",
              "</div>"
            ],
            "text/plain": [
              "   color      director_name  ...  aspect_ratio  movie_facebook_likes\n",
              "0  Color      James Cameron  ...          1.78                 33000\n",
              "1  Color     Gore Verbinski  ...          2.35                     0\n",
              "2  Color         Sam Mendes  ...          2.35                 85000\n",
              "3  Color  Christopher Nolan  ...          2.35                164000\n",
              "4    NaN        Doug Walker  ...           NaN                     0\n",
              "\n",
              "[5 rows x 28 columns]"
            ]
          },
          "metadata": {},
          "execution_count": 2
        }
      ]
    },
    {
      "cell_type": "code",
      "metadata": {
        "_cell_guid": "f223165f-e012-8646-fe5a-fd4b80ef5723",
        "id": "Kv2HKC3cKW-n"
      },
      "source": [
        "data['profit'] = data['gross'] - data['budget'] #subtraction attributes. Now we know movie profit"
      ],
      "execution_count": null,
      "outputs": []
    },
    {
      "cell_type": "code",
      "metadata": {
        "colab": {
          "base_uri": "https://localhost:8080/"
        },
        "id": "G4hVtFn74-G6",
        "outputId": "20040089-dc8b-46ce-ab8d-8d962ac19ee8"
      },
      "source": [
        "data.imdb_score.isnull().sum()"
      ],
      "execution_count": null,
      "outputs": [
        {
          "output_type": "execute_result",
          "data": {
            "text/plain": [
              "0"
            ]
          },
          "metadata": {},
          "execution_count": 8
        }
      ]
    },
    {
      "cell_type": "markdown",
      "metadata": {
        "_cell_guid": "e9a8bc53-4635-8e27-29b4-7cf3519d4c5b",
        "id": "qn8TzQthKW-q"
      },
      "source": [
        "How many attributes in data frame?\n"
      ]
    },
    {
      "cell_type": "code",
      "metadata": {
        "_cell_guid": "a2741d5d-ff57-c584-6af9-9c8ad488cf32",
        "id": "zUjE5XqwKW-q",
        "colab": {
          "base_uri": "https://localhost:8080/"
        },
        "outputId": "fc1bdd4c-0d58-46af-fb4d-b3bac158e219"
      },
      "source": [
        "data.columns #all data attributes"
      ],
      "execution_count": null,
      "outputs": [
        {
          "output_type": "execute_result",
          "data": {
            "text/plain": [
              "Index(['color', 'director_name', 'num_critic_for_reviews', 'duration',\n",
              "       'director_facebook_likes', 'actor_3_facebook_likes', 'actor_2_name',\n",
              "       'actor_1_facebook_likes', 'gross', 'genres', 'actor_1_name',\n",
              "       'movie_title', 'num_voted_users', 'cast_total_facebook_likes',\n",
              "       'actor_3_name', 'facenumber_in_poster', 'plot_keywords',\n",
              "       'movie_imdb_link', 'num_user_for_reviews', 'language', 'country',\n",
              "       'content_rating', 'budget', 'title_year', 'actor_2_facebook_likes',\n",
              "       'imdb_score', 'aspect_ratio', 'movie_facebook_likes', 'profit'],\n",
              "      dtype='object')"
            ]
          },
          "metadata": {},
          "execution_count": 4
        }
      ]
    },
    {
      "cell_type": "markdown",
      "metadata": {
        "_cell_guid": "8fad198c-30a1-4bb3-5ed2-8598c6a7db89",
        "id": "CEM_g4bkKW-u"
      },
      "source": [
        "Now we make new table with attributes we need \n"
      ]
    },
    {
      "cell_type": "code",
      "metadata": {
        "_cell_guid": "98784446-98e1-ec20-edba-279ef07b0268",
        "id": "4N5npSKxKW-u",
        "colab": {
          "base_uri": "https://localhost:8080/",
          "height": 203
        },
        "outputId": "71d1da1e-2b17-4348-d4a1-08db49a64e2f"
      },
      "source": [
        "dt = data[['genres','movie_title','language','title_year','imdb_score','duration','profit']] #make new data\n",
        "dt.head() #show specific columns"
      ],
      "execution_count": null,
      "outputs": [
        {
          "output_type": "execute_result",
          "data": {
            "text/html": [
              "<div>\n",
              "<style scoped>\n",
              "    .dataframe tbody tr th:only-of-type {\n",
              "        vertical-align: middle;\n",
              "    }\n",
              "\n",
              "    .dataframe tbody tr th {\n",
              "        vertical-align: top;\n",
              "    }\n",
              "\n",
              "    .dataframe thead th {\n",
              "        text-align: right;\n",
              "    }\n",
              "</style>\n",
              "<table border=\"1\" class=\"dataframe\">\n",
              "  <thead>\n",
              "    <tr style=\"text-align: right;\">\n",
              "      <th></th>\n",
              "      <th>genres</th>\n",
              "      <th>movie_title</th>\n",
              "      <th>language</th>\n",
              "      <th>title_year</th>\n",
              "      <th>imdb_score</th>\n",
              "      <th>duration</th>\n",
              "      <th>profit</th>\n",
              "    </tr>\n",
              "  </thead>\n",
              "  <tbody>\n",
              "    <tr>\n",
              "      <th>0</th>\n",
              "      <td>Action|Adventure|Fantasy|Sci-Fi</td>\n",
              "      <td>Avatar</td>\n",
              "      <td>English</td>\n",
              "      <td>2009.0</td>\n",
              "      <td>7.9</td>\n",
              "      <td>178.0</td>\n",
              "      <td>523505847.0</td>\n",
              "    </tr>\n",
              "    <tr>\n",
              "      <th>1</th>\n",
              "      <td>Action|Adventure|Fantasy</td>\n",
              "      <td>Pirates of the Caribbean: At World's End</td>\n",
              "      <td>English</td>\n",
              "      <td>2007.0</td>\n",
              "      <td>7.1</td>\n",
              "      <td>169.0</td>\n",
              "      <td>9404152.0</td>\n",
              "    </tr>\n",
              "    <tr>\n",
              "      <th>2</th>\n",
              "      <td>Action|Adventure|Thriller</td>\n",
              "      <td>Spectre</td>\n",
              "      <td>English</td>\n",
              "      <td>2015.0</td>\n",
              "      <td>6.8</td>\n",
              "      <td>148.0</td>\n",
              "      <td>-44925825.0</td>\n",
              "    </tr>\n",
              "    <tr>\n",
              "      <th>3</th>\n",
              "      <td>Action|Thriller</td>\n",
              "      <td>The Dark Knight Rises</td>\n",
              "      <td>English</td>\n",
              "      <td>2012.0</td>\n",
              "      <td>8.5</td>\n",
              "      <td>164.0</td>\n",
              "      <td>198130642.0</td>\n",
              "    </tr>\n",
              "    <tr>\n",
              "      <th>4</th>\n",
              "      <td>Documentary</td>\n",
              "      <td>Star Wars: Episode VII - The Force Awakens    ...</td>\n",
              "      <td>NaN</td>\n",
              "      <td>NaN</td>\n",
              "      <td>7.1</td>\n",
              "      <td>NaN</td>\n",
              "      <td>NaN</td>\n",
              "    </tr>\n",
              "  </tbody>\n",
              "</table>\n",
              "</div>"
            ],
            "text/plain": [
              "                            genres  ...       profit\n",
              "0  Action|Adventure|Fantasy|Sci-Fi  ...  523505847.0\n",
              "1         Action|Adventure|Fantasy  ...    9404152.0\n",
              "2        Action|Adventure|Thriller  ...  -44925825.0\n",
              "3                  Action|Thriller  ...  198130642.0\n",
              "4                      Documentary  ...          NaN\n",
              "\n",
              "[5 rows x 7 columns]"
            ]
          },
          "metadata": {},
          "execution_count": 5
        }
      ]
    },
    {
      "cell_type": "code",
      "metadata": {
        "_cell_guid": "37566a8c-b729-6fc1-cbc2-53b93803f2ce",
        "id": "GVvOPlVyKW-x",
        "colab": {
          "base_uri": "https://localhost:8080/"
        },
        "outputId": "bfaa66ff-b3b9-4027-8f00-4c4efaf5afc9"
      },
      "source": [
        "dt.shape"
      ],
      "execution_count": null,
      "outputs": [
        {
          "output_type": "execute_result",
          "data": {
            "text/plain": [
              "(5043, 7)"
            ]
          },
          "metadata": {},
          "execution_count": 6
        }
      ]
    },
    {
      "cell_type": "markdown",
      "metadata": {
        "_cell_guid": "bea9bde3-c4c4-559e-2f6a-c76abe66b3ec",
        "id": "nBNeHvlEKW-0"
      },
      "source": [
        "Split movies to new rows by their genres in cell\n"
      ]
    },
    {
      "cell_type": "code",
      "metadata": {
        "_cell_guid": "d8f1bdb6-406f-d7fd-fb85-7757ef1220ef",
        "id": "S5J0idZ6KW-1"
      },
      "source": [
        "s = dt['genres'].str.split('|').apply(Series, 1).stack() #split genres from the cell in column 'genres' with pointer '|' to 1 item in row.Make a list.stack delete Nans after apply operation\n",
        "s.index = s.index.droplevel(-1) #index subtraction. row goes down\n",
        "s.name = 'genres' #new genres\n",
        "del dt['genres'] # del old  genres not splitted column from the beginning of table \n",
        "df = dt.join(s) #replace genres to the end of table OR join new splitted column of genres"
      ],
      "execution_count": null,
      "outputs": []
    },
    {
      "cell_type": "code",
      "metadata": {
        "_cell_guid": "1090b95c-9130-f357-a49c-54485a02aad5",
        "id": "djDKuZ5NKW-4",
        "colab": {
          "base_uri": "https://localhost:8080/",
          "height": 203
        },
        "outputId": "47cef027-aaa5-4071-d306-562befc4134e"
      },
      "source": [
        "df.head()"
      ],
      "execution_count": null,
      "outputs": [
        {
          "output_type": "execute_result",
          "data": {
            "text/html": [
              "<div>\n",
              "<style scoped>\n",
              "    .dataframe tbody tr th:only-of-type {\n",
              "        vertical-align: middle;\n",
              "    }\n",
              "\n",
              "    .dataframe tbody tr th {\n",
              "        vertical-align: top;\n",
              "    }\n",
              "\n",
              "    .dataframe thead th {\n",
              "        text-align: right;\n",
              "    }\n",
              "</style>\n",
              "<table border=\"1\" class=\"dataframe\">\n",
              "  <thead>\n",
              "    <tr style=\"text-align: right;\">\n",
              "      <th></th>\n",
              "      <th>movie_title</th>\n",
              "      <th>language</th>\n",
              "      <th>title_year</th>\n",
              "      <th>imdb_score</th>\n",
              "      <th>duration</th>\n",
              "      <th>profit</th>\n",
              "      <th>genres</th>\n",
              "    </tr>\n",
              "  </thead>\n",
              "  <tbody>\n",
              "    <tr>\n",
              "      <th>0</th>\n",
              "      <td>Avatar</td>\n",
              "      <td>English</td>\n",
              "      <td>2009.0</td>\n",
              "      <td>7.9</td>\n",
              "      <td>178.0</td>\n",
              "      <td>523505847.0</td>\n",
              "      <td>Action</td>\n",
              "    </tr>\n",
              "    <tr>\n",
              "      <th>0</th>\n",
              "      <td>Avatar</td>\n",
              "      <td>English</td>\n",
              "      <td>2009.0</td>\n",
              "      <td>7.9</td>\n",
              "      <td>178.0</td>\n",
              "      <td>523505847.0</td>\n",
              "      <td>Adventure</td>\n",
              "    </tr>\n",
              "    <tr>\n",
              "      <th>0</th>\n",
              "      <td>Avatar</td>\n",
              "      <td>English</td>\n",
              "      <td>2009.0</td>\n",
              "      <td>7.9</td>\n",
              "      <td>178.0</td>\n",
              "      <td>523505847.0</td>\n",
              "      <td>Fantasy</td>\n",
              "    </tr>\n",
              "    <tr>\n",
              "      <th>0</th>\n",
              "      <td>Avatar</td>\n",
              "      <td>English</td>\n",
              "      <td>2009.0</td>\n",
              "      <td>7.9</td>\n",
              "      <td>178.0</td>\n",
              "      <td>523505847.0</td>\n",
              "      <td>Sci-Fi</td>\n",
              "    </tr>\n",
              "    <tr>\n",
              "      <th>1</th>\n",
              "      <td>Pirates of the Caribbean: At World's End</td>\n",
              "      <td>English</td>\n",
              "      <td>2007.0</td>\n",
              "      <td>7.1</td>\n",
              "      <td>169.0</td>\n",
              "      <td>9404152.0</td>\n",
              "      <td>Action</td>\n",
              "    </tr>\n",
              "  </tbody>\n",
              "</table>\n",
              "</div>"
            ],
            "text/plain": [
              "                                 movie_title language  ...       profit     genres\n",
              "0                                    Avatar   English  ...  523505847.0     Action\n",
              "0                                    Avatar   English  ...  523505847.0  Adventure\n",
              "0                                    Avatar   English  ...  523505847.0    Fantasy\n",
              "0                                    Avatar   English  ...  523505847.0     Sci-Fi\n",
              "1  Pirates of the Caribbean: At World's End   English  ...    9404152.0     Action\n",
              "\n",
              "[5 rows x 7 columns]"
            ]
          },
          "metadata": {},
          "execution_count": 10
        }
      ]
    },
    {
      "cell_type": "code",
      "metadata": {
        "_cell_guid": "541cebfe-fa27-32ee-2d89-8dcb45057509",
        "id": "7tiyZq-_KW-8",
        "colab": {
          "base_uri": "https://localhost:8080/"
        },
        "outputId": "7dc6a43e-8611-4beb-fca7-fc3b13c41167"
      },
      "source": [
        "df.shape #data size X*Y"
      ],
      "execution_count": null,
      "outputs": [
        {
          "output_type": "execute_result",
          "data": {
            "text/plain": [
              "(14504, 7)"
            ]
          },
          "metadata": {},
          "execution_count": 11
        }
      ]
    },
    {
      "cell_type": "code",
      "metadata": {
        "_cell_guid": "616578ee-14f6-4b0e-09f9-3b50df0f6634",
        "id": "0rvMADkxKW-_",
        "colab": {
          "base_uri": "https://localhost:8080/"
        },
        "outputId": "36239bb5-521e-4e4a-aec6-b5f7d2bc8486"
      },
      "source": [
        "df['genres'].unique() #unique genres "
      ],
      "execution_count": null,
      "outputs": [
        {
          "output_type": "execute_result",
          "data": {
            "text/plain": [
              "array(['Action', 'Adventure', 'Fantasy', 'Sci-Fi', 'Thriller',\n",
              "       'Documentary', 'Romance', 'Animation', 'Comedy', 'Family',\n",
              "       'Musical', 'Mystery', 'Western', 'Drama', 'History', 'Sport',\n",
              "       'Crime', 'Horror', 'War', 'Biography', 'Music', 'Game-Show',\n",
              "       'Reality-TV', 'News', 'Short', 'Film-Noir'], dtype=object)"
            ]
          },
          "metadata": {},
          "execution_count": 12
        }
      ]
    },
    {
      "cell_type": "code",
      "metadata": {
        "_cell_guid": "14b2a018-d36f-0283-b993-882675d2d59a",
        "id": "FEWfw0zzKW_B",
        "colab": {
          "base_uri": "https://localhost:8080/"
        },
        "outputId": "cebfc674-798f-41fe-d8b6-40b654df9a8e"
      },
      "source": [
        "len(df['genres'].unique()) #genres amount"
      ],
      "execution_count": null,
      "outputs": [
        {
          "output_type": "execute_result",
          "data": {
            "text/plain": [
              "26"
            ]
          },
          "metadata": {},
          "execution_count": 13
        }
      ]
    },
    {
      "cell_type": "code",
      "metadata": {
        "id": "3xnksnjFTyU2"
      },
      "source": [
        ""
      ],
      "execution_count": null,
      "outputs": []
    },
    {
      "cell_type": "markdown",
      "metadata": {
        "_cell_guid": "2d7100b6-dd28-69c3-d049-003bc878c136",
        "id": "mbngUuqGKW_F"
      },
      "source": [
        "Now we know amount of genres in df "
      ]
    },
    {
      "cell_type": "markdown",
      "metadata": {
        "_cell_guid": "97df987a-0797-3644-252b-a4108eaf4204",
        "id": "lY7NLcFzKW_F"
      },
      "source": [
        "How much movies have imbd rating larger than 7?\n"
      ]
    },
    {
      "cell_type": "code",
      "metadata": {
        "_cell_guid": "fc02a535-9251-ea9f-dcaa-f04a64868170",
        "id": "2lfS_vkxKW_G"
      },
      "source": [
        "df1 = df[df['imdb_score']>=7] # filter imbd_scores which are larger than 7"
      ],
      "execution_count": null,
      "outputs": []
    },
    {
      "cell_type": "code",
      "metadata": {
        "_cell_guid": "c1496bf0-c14f-1a44-9eea-aa9e11090350",
        "id": "mcAPAqftKW_I",
        "colab": {
          "base_uri": "https://localhost:8080/",
          "height": 203
        },
        "outputId": "5e242a2c-dab8-425f-f7f0-19d5c62effbb"
      },
      "source": [
        "df1.head() #show them "
      ],
      "execution_count": null,
      "outputs": [
        {
          "output_type": "execute_result",
          "data": {
            "text/html": [
              "<div>\n",
              "<style scoped>\n",
              "    .dataframe tbody tr th:only-of-type {\n",
              "        vertical-align: middle;\n",
              "    }\n",
              "\n",
              "    .dataframe tbody tr th {\n",
              "        vertical-align: top;\n",
              "    }\n",
              "\n",
              "    .dataframe thead th {\n",
              "        text-align: right;\n",
              "    }\n",
              "</style>\n",
              "<table border=\"1\" class=\"dataframe\">\n",
              "  <thead>\n",
              "    <tr style=\"text-align: right;\">\n",
              "      <th></th>\n",
              "      <th>movie_title</th>\n",
              "      <th>language</th>\n",
              "      <th>title_year</th>\n",
              "      <th>imdb_score</th>\n",
              "      <th>duration</th>\n",
              "      <th>profit</th>\n",
              "      <th>genres</th>\n",
              "    </tr>\n",
              "  </thead>\n",
              "  <tbody>\n",
              "    <tr>\n",
              "      <th>0</th>\n",
              "      <td>Avatar</td>\n",
              "      <td>English</td>\n",
              "      <td>2009.0</td>\n",
              "      <td>7.9</td>\n",
              "      <td>178.0</td>\n",
              "      <td>523505847.0</td>\n",
              "      <td>Action</td>\n",
              "    </tr>\n",
              "    <tr>\n",
              "      <th>0</th>\n",
              "      <td>Avatar</td>\n",
              "      <td>English</td>\n",
              "      <td>2009.0</td>\n",
              "      <td>7.9</td>\n",
              "      <td>178.0</td>\n",
              "      <td>523505847.0</td>\n",
              "      <td>Adventure</td>\n",
              "    </tr>\n",
              "    <tr>\n",
              "      <th>0</th>\n",
              "      <td>Avatar</td>\n",
              "      <td>English</td>\n",
              "      <td>2009.0</td>\n",
              "      <td>7.9</td>\n",
              "      <td>178.0</td>\n",
              "      <td>523505847.0</td>\n",
              "      <td>Fantasy</td>\n",
              "    </tr>\n",
              "    <tr>\n",
              "      <th>0</th>\n",
              "      <td>Avatar</td>\n",
              "      <td>English</td>\n",
              "      <td>2009.0</td>\n",
              "      <td>7.9</td>\n",
              "      <td>178.0</td>\n",
              "      <td>523505847.0</td>\n",
              "      <td>Sci-Fi</td>\n",
              "    </tr>\n",
              "    <tr>\n",
              "      <th>1</th>\n",
              "      <td>Pirates of the Caribbean: At World's End</td>\n",
              "      <td>English</td>\n",
              "      <td>2007.0</td>\n",
              "      <td>7.1</td>\n",
              "      <td>169.0</td>\n",
              "      <td>9404152.0</td>\n",
              "      <td>Action</td>\n",
              "    </tr>\n",
              "  </tbody>\n",
              "</table>\n",
              "</div>"
            ],
            "text/plain": [
              "                                 movie_title language  ...       profit     genres\n",
              "0                                    Avatar   English  ...  523505847.0     Action\n",
              "0                                    Avatar   English  ...  523505847.0  Adventure\n",
              "0                                    Avatar   English  ...  523505847.0    Fantasy\n",
              "0                                    Avatar   English  ...  523505847.0     Sci-Fi\n",
              "1  Pirates of the Caribbean: At World's End   English  ...    9404152.0     Action\n",
              "\n",
              "[5 rows x 7 columns]"
            ]
          },
          "metadata": {},
          "execution_count": 15
        }
      ]
    },
    {
      "cell_type": "code",
      "metadata": {
        "_cell_guid": "d52e80b0-dfbb-8077-1b18-021a6bb09ea1",
        "id": "OoczQKHmKW_M"
      },
      "source": [
        "df2 = (pd.DataFrame(df1.groupby('genres').movie_title.nunique())).sort_values('movie_title', ascending=False ) #make new df and group by unique specific  genres  + show amount of movies in column 'movie titles'"
      ],
      "execution_count": null,
      "outputs": []
    },
    {
      "cell_type": "code",
      "metadata": {
        "_cell_guid": "10cb0313-06bf-e9ce-9d2b-3b5ca0deafce",
        "id": "Go4u8Dw5KW_Q",
        "colab": {
          "base_uri": "https://localhost:8080/",
          "height": 819
        },
        "outputId": "b29c640f-fbc6-47dd-9704-be1344f19c70"
      },
      "source": [
        "df2 #how many titles with specific genre have rating more than 7"
      ],
      "execution_count": null,
      "outputs": [
        {
          "output_type": "execute_result",
          "data": {
            "text/html": [
              "<div>\n",
              "<style scoped>\n",
              "    .dataframe tbody tr th:only-of-type {\n",
              "        vertical-align: middle;\n",
              "    }\n",
              "\n",
              "    .dataframe tbody tr th {\n",
              "        vertical-align: top;\n",
              "    }\n",
              "\n",
              "    .dataframe thead th {\n",
              "        text-align: right;\n",
              "    }\n",
              "</style>\n",
              "<table border=\"1\" class=\"dataframe\">\n",
              "  <thead>\n",
              "    <tr style=\"text-align: right;\">\n",
              "      <th></th>\n",
              "      <th>movie_title</th>\n",
              "    </tr>\n",
              "    <tr>\n",
              "      <th>genres</th>\n",
              "      <th></th>\n",
              "    </tr>\n",
              "  </thead>\n",
              "  <tbody>\n",
              "    <tr>\n",
              "      <th>Drama</th>\n",
              "      <td>1171</td>\n",
              "    </tr>\n",
              "    <tr>\n",
              "      <th>Comedy</th>\n",
              "      <td>456</td>\n",
              "    </tr>\n",
              "    <tr>\n",
              "      <th>Thriller</th>\n",
              "      <td>367</td>\n",
              "    </tr>\n",
              "    <tr>\n",
              "      <th>Romance</th>\n",
              "      <td>356</td>\n",
              "    </tr>\n",
              "    <tr>\n",
              "      <th>Crime</th>\n",
              "      <td>311</td>\n",
              "    </tr>\n",
              "    <tr>\n",
              "      <th>Adventure</th>\n",
              "      <td>302</td>\n",
              "    </tr>\n",
              "    <tr>\n",
              "      <th>Action</th>\n",
              "      <td>275</td>\n",
              "    </tr>\n",
              "    <tr>\n",
              "      <th>Biography</th>\n",
              "      <td>202</td>\n",
              "    </tr>\n",
              "    <tr>\n",
              "      <th>Sci-Fi</th>\n",
              "      <td>184</td>\n",
              "    </tr>\n",
              "    <tr>\n",
              "      <th>Fantasy</th>\n",
              "      <td>180</td>\n",
              "    </tr>\n",
              "    <tr>\n",
              "      <th>Mystery</th>\n",
              "      <td>172</td>\n",
              "    </tr>\n",
              "    <tr>\n",
              "      <th>Family</th>\n",
              "      <td>161</td>\n",
              "    </tr>\n",
              "    <tr>\n",
              "      <th>History</th>\n",
              "      <td>126</td>\n",
              "    </tr>\n",
              "    <tr>\n",
              "      <th>War</th>\n",
              "      <td>125</td>\n",
              "    </tr>\n",
              "    <tr>\n",
              "      <th>Animation</th>\n",
              "      <td>98</td>\n",
              "    </tr>\n",
              "    <tr>\n",
              "      <th>Documentary</th>\n",
              "      <td>91</td>\n",
              "    </tr>\n",
              "    <tr>\n",
              "      <th>Horror</th>\n",
              "      <td>79</td>\n",
              "    </tr>\n",
              "    <tr>\n",
              "      <th>Sport</th>\n",
              "      <td>76</td>\n",
              "    </tr>\n",
              "    <tr>\n",
              "      <th>Music</th>\n",
              "      <td>76</td>\n",
              "    </tr>\n",
              "    <tr>\n",
              "      <th>Musical</th>\n",
              "      <td>58</td>\n",
              "    </tr>\n",
              "    <tr>\n",
              "      <th>Western</th>\n",
              "      <td>41</td>\n",
              "    </tr>\n",
              "    <tr>\n",
              "      <th>Film-Noir</th>\n",
              "      <td>6</td>\n",
              "    </tr>\n",
              "    <tr>\n",
              "      <th>News</th>\n",
              "      <td>3</td>\n",
              "    </tr>\n",
              "    <tr>\n",
              "      <th>Short</th>\n",
              "      <td>1</td>\n",
              "    </tr>\n",
              "  </tbody>\n",
              "</table>\n",
              "</div>"
            ],
            "text/plain": [
              "             movie_title\n",
              "genres                  \n",
              "Drama               1171\n",
              "Comedy               456\n",
              "Thriller             367\n",
              "Romance              356\n",
              "Crime                311\n",
              "Adventure            302\n",
              "Action               275\n",
              "Biography            202\n",
              "Sci-Fi               184\n",
              "Fantasy              180\n",
              "Mystery              172\n",
              "Family               161\n",
              "History              126\n",
              "War                  125\n",
              "Animation             98\n",
              "Documentary           91\n",
              "Horror                79\n",
              "Sport                 76\n",
              "Music                 76\n",
              "Musical               58\n",
              "Western               41\n",
              "Film-Noir              6\n",
              "News                   3\n",
              "Short                  1"
            ]
          },
          "metadata": {},
          "execution_count": 35
        }
      ]
    },
    {
      "cell_type": "code",
      "metadata": {
        "_cell_guid": "3db2ff6d-f505-daba-8637-4b2e05d6a3e7",
        "id": "OZk2mVjiKW_T",
        "colab": {
          "base_uri": "https://localhost:8080/",
          "height": 499
        },
        "outputId": "d6843a8d-fecb-49b1-92d5-6e44378bb9c4"
      },
      "source": [
        "df2[['movie_title']].plot.barh(stacked=True, title = 'Genres with >= 7 ratings', figsize=(8, 8)); #make a plot"
      ],
      "execution_count": null,
      "outputs": [
        {
          "output_type": "display_data",
          "data": {
            "image/png": "[encoded data removed]",
            "text/plain": [
              "<Figure size 576x576 with 1 Axes>"
            ]
          },
          "metadata": {
            "needs_background": "light"
          }
        }
      ]
    },
    {
      "cell_type": "markdown",
      "metadata": {
        "_cell_guid": "9d91df39-79f7-186c-bf17-501a26d5ecad",
        "id": "NvZfbbZKKW_W"
      },
      "source": [
        "Addiction between profit and genres. Drama movies prone to commercial success."
      ]
    },
    {
      "cell_type": "code",
      "metadata": {
        "_cell_guid": "f92f8907-06ae-d138-6d05-ad34182e3264",
        "id": "hrUkHyLLKW_W"
      },
      "source": [
        "df3 = df[['movie_title', 'profit','genres']] #make new dataframe from df with listed attributes"
      ],
      "execution_count": null,
      "outputs": []
    },
    {
      "cell_type": "code",
      "metadata": {
        "_cell_guid": "6bc70228-57bb-dc38-cb58-11960f1c30db",
        "id": "wnHGryANKW_Z",
        "colab": {
          "base_uri": "https://localhost:8080/",
          "height": 203
        },
        "outputId": "15818f34-583c-4751-8a2a-ba46b6b7d180"
      },
      "source": [
        "df3.head()"
      ],
      "execution_count": null,
      "outputs": [
        {
          "output_type": "execute_result",
          "data": {
            "text/html": [
              "<div>\n",
              "<style scoped>\n",
              "    .dataframe tbody tr th:only-of-type {\n",
              "        vertical-align: middle;\n",
              "    }\n",
              "\n",
              "    .dataframe tbody tr th {\n",
              "        vertical-align: top;\n",
              "    }\n",
              "\n",
              "    .dataframe thead th {\n",
              "        text-align: right;\n",
              "    }\n",
              "</style>\n",
              "<table border=\"1\" class=\"dataframe\">\n",
              "  <thead>\n",
              "    <tr style=\"text-align: right;\">\n",
              "      <th></th>\n",
              "      <th>movie_title</th>\n",
              "      <th>profit</th>\n",
              "      <th>genres</th>\n",
              "    </tr>\n",
              "  </thead>\n",
              "  <tbody>\n",
              "    <tr>\n",
              "      <th>0</th>\n",
              "      <td>Avatar</td>\n",
              "      <td>523505847.0</td>\n",
              "      <td>Action</td>\n",
              "    </tr>\n",
              "    <tr>\n",
              "      <th>0</th>\n",
              "      <td>Avatar</td>\n",
              "      <td>523505847.0</td>\n",
              "      <td>Adventure</td>\n",
              "    </tr>\n",
              "    <tr>\n",
              "      <th>0</th>\n",
              "      <td>Avatar</td>\n",
              "      <td>523505847.0</td>\n",
              "      <td>Fantasy</td>\n",
              "    </tr>\n",
              "    <tr>\n",
              "      <th>0</th>\n",
              "      <td>Avatar</td>\n",
              "      <td>523505847.0</td>\n",
              "      <td>Sci-Fi</td>\n",
              "    </tr>\n",
              "    <tr>\n",
              "      <th>1</th>\n",
              "      <td>Pirates of the Caribbean: At World's End</td>\n",
              "      <td>9404152.0</td>\n",
              "      <td>Action</td>\n",
              "    </tr>\n",
              "  </tbody>\n",
              "</table>\n",
              "</div>"
            ],
            "text/plain": [
              "                                 movie_title       profit     genres\n",
              "0                                    Avatar   523505847.0     Action\n",
              "0                                    Avatar   523505847.0  Adventure\n",
              "0                                    Avatar   523505847.0    Fantasy\n",
              "0                                    Avatar   523505847.0     Sci-Fi\n",
              "1  Pirates of the Caribbean: At World's End     9404152.0     Action"
            ]
          },
          "metadata": {},
          "execution_count": 24
        }
      ]
    },
    {
      "cell_type": "code",
      "metadata": {
        "_cell_guid": "c893057a-e56a-0be6-4b16-3bdbb779202a",
        "id": "IZiX38DOKW_c",
        "colab": {
          "base_uri": "https://localhost:8080/",
          "height": 142
        },
        "outputId": "c480457c-faed-40af-8c6f-ee1b69631a59"
      },
      "source": [
        "df3.loc[df3['genres'] == 'News'] #show all rows with genre News"
      ],
      "execution_count": null,
      "outputs": [
        {
          "output_type": "execute_result",
          "data": {
            "text/html": [
              "<div>\n",
              "<style scoped>\n",
              "    .dataframe tbody tr th:only-of-type {\n",
              "        vertical-align: middle;\n",
              "    }\n",
              "\n",
              "    .dataframe tbody tr th {\n",
              "        vertical-align: top;\n",
              "    }\n",
              "\n",
              "    .dataframe thead th {\n",
              "        text-align: right;\n",
              "    }\n",
              "</style>\n",
              "<table border=\"1\" class=\"dataframe\">\n",
              "  <thead>\n",
              "    <tr style=\"text-align: right;\">\n",
              "      <th></th>\n",
              "      <th>movie_title</th>\n",
              "      <th>profit</th>\n",
              "      <th>genres</th>\n",
              "    </tr>\n",
              "  </thead>\n",
              "  <tbody>\n",
              "    <tr>\n",
              "      <th>2265</th>\n",
              "      <td>Capitalism: A Love Story</td>\n",
              "      <td>NaN</td>\n",
              "      <td>News</td>\n",
              "    </tr>\n",
              "    <tr>\n",
              "      <th>4348</th>\n",
              "      <td>The Square</td>\n",
              "      <td>NaN</td>\n",
              "      <td>News</td>\n",
              "    </tr>\n",
              "    <tr>\n",
              "      <th>4637</th>\n",
              "      <td>Food Chains</td>\n",
              "      <td>NaN</td>\n",
              "      <td>News</td>\n",
              "    </tr>\n",
              "  </tbody>\n",
              "</table>\n",
              "</div>"
            ],
            "text/plain": [
              "                    movie_title  profit genres\n",
              "2265  Capitalism: A Love Story      NaN   News\n",
              "4348                The Square      NaN   News\n",
              "4637               Food Chains      NaN   News"
            ]
          },
          "metadata": {},
          "execution_count": 27
        }
      ]
    },
    {
      "cell_type": "code",
      "metadata": {
        "_cell_guid": "e7adc69a-5fb2-a6f4-4153-632113f3f824",
        "id": "CwpOtyX6KW_f"
      },
      "source": [
        "df4 = df3.groupby(['genres']).mean() #create new dataframe with grouped by mean in column genres"
      ],
      "execution_count": null,
      "outputs": []
    },
    {
      "cell_type": "code",
      "metadata": {
        "colab": {
          "base_uri": "https://localhost:8080/",
          "height": 881
        },
        "id": "-_wJqoy3AEsV",
        "outputId": "40a3dc63-f3a5-408b-a212-cfa71ea38575"
      },
      "source": [
        "df4 #now we know amount of profit of definite genre"
      ],
      "execution_count": null,
      "outputs": [
        {
          "output_type": "execute_result",
          "data": {
            "text/html": [
              "<div>\n",
              "<style scoped>\n",
              "    .dataframe tbody tr th:only-of-type {\n",
              "        vertical-align: middle;\n",
              "    }\n",
              "\n",
              "    .dataframe tbody tr th {\n",
              "        vertical-align: top;\n",
              "    }\n",
              "\n",
              "    .dataframe thead th {\n",
              "        text-align: right;\n",
              "    }\n",
              "</style>\n",
              "<table border=\"1\" class=\"dataframe\">\n",
              "  <thead>\n",
              "    <tr style=\"text-align: right;\">\n",
              "      <th></th>\n",
              "      <th>profit</th>\n",
              "    </tr>\n",
              "    <tr>\n",
              "      <th>genres</th>\n",
              "      <th></th>\n",
              "    </tr>\n",
              "  </thead>\n",
              "  <tbody>\n",
              "    <tr>\n",
              "      <th>Action</th>\n",
              "      <td>5.326125e+06</td>\n",
              "    </tr>\n",
              "    <tr>\n",
              "      <th>Adventure</th>\n",
              "      <td>1.352746e+07</td>\n",
              "    </tr>\n",
              "    <tr>\n",
              "      <th>Animation</th>\n",
              "      <td>9.390523e+05</td>\n",
              "    </tr>\n",
              "    <tr>\n",
              "      <th>Biography</th>\n",
              "      <td>7.887722e+06</td>\n",
              "    </tr>\n",
              "    <tr>\n",
              "      <th>Comedy</th>\n",
              "      <td>8.207766e+06</td>\n",
              "    </tr>\n",
              "    <tr>\n",
              "      <th>Crime</th>\n",
              "      <td>8.842285e+05</td>\n",
              "    </tr>\n",
              "    <tr>\n",
              "      <th>Documentary</th>\n",
              "      <td>6.838890e+06</td>\n",
              "    </tr>\n",
              "    <tr>\n",
              "      <th>Drama</th>\n",
              "      <td>-3.166382e+06</td>\n",
              "    </tr>\n",
              "    <tr>\n",
              "      <th>Family</th>\n",
              "      <td>2.146984e+07</td>\n",
              "    </tr>\n",
              "    <tr>\n",
              "      <th>Fantasy</th>\n",
              "      <td>1.690356e+07</td>\n",
              "    </tr>\n",
              "    <tr>\n",
              "      <th>Film-Noir</th>\n",
              "      <td>-2.292073e+06</td>\n",
              "    </tr>\n",
              "    <tr>\n",
              "      <th>Game-Show</th>\n",
              "      <td>NaN</td>\n",
              "    </tr>\n",
              "    <tr>\n",
              "      <th>History</th>\n",
              "      <td>-1.034839e+07</td>\n",
              "    </tr>\n",
              "    <tr>\n",
              "      <th>Horror</th>\n",
              "      <td>-1.763780e+07</td>\n",
              "    </tr>\n",
              "    <tr>\n",
              "      <th>Music</th>\n",
              "      <td>1.598224e+07</td>\n",
              "    </tr>\n",
              "    <tr>\n",
              "      <th>Musical</th>\n",
              "      <td>1.397017e+07</td>\n",
              "    </tr>\n",
              "    <tr>\n",
              "      <th>Mystery</th>\n",
              "      <td>1.030174e+07</td>\n",
              "    </tr>\n",
              "    <tr>\n",
              "      <th>News</th>\n",
              "      <td>NaN</td>\n",
              "    </tr>\n",
              "    <tr>\n",
              "      <th>Reality-TV</th>\n",
              "      <td>NaN</td>\n",
              "    </tr>\n",
              "    <tr>\n",
              "      <th>Romance</th>\n",
              "      <td>9.913120e+06</td>\n",
              "    </tr>\n",
              "    <tr>\n",
              "      <th>Sci-Fi</th>\n",
              "      <td>-1.473525e+07</td>\n",
              "    </tr>\n",
              "    <tr>\n",
              "      <th>Short</th>\n",
              "      <td>9.092670e+05</td>\n",
              "    </tr>\n",
              "    <tr>\n",
              "      <th>Sport</th>\n",
              "      <td>1.169472e+07</td>\n",
              "    </tr>\n",
              "    <tr>\n",
              "      <th>Thriller</th>\n",
              "      <td>4.760459e+06</td>\n",
              "    </tr>\n",
              "    <tr>\n",
              "      <th>War</th>\n",
              "      <td>-2.293626e+07</td>\n",
              "    </tr>\n",
              "    <tr>\n",
              "      <th>Western</th>\n",
              "      <td>4.805299e+05</td>\n",
              "    </tr>\n",
              "  </tbody>\n",
              "</table>\n",
              "</div>"
            ],
            "text/plain": [
              "                   profit\n",
              "genres                   \n",
              "Action       5.326125e+06\n",
              "Adventure    1.352746e+07\n",
              "Animation    9.390523e+05\n",
              "Biography    7.887722e+06\n",
              "Comedy       8.207766e+06\n",
              "Crime        8.842285e+05\n",
              "Documentary  6.838890e+06\n",
              "Drama       -3.166382e+06\n",
              "Family       2.146984e+07\n",
              "Fantasy      1.690356e+07\n",
              "Film-Noir   -2.292073e+06\n",
              "Game-Show             NaN\n",
              "History     -1.034839e+07\n",
              "Horror      -1.763780e+07\n",
              "Music        1.598224e+07\n",
              "Musical      1.397017e+07\n",
              "Mystery      1.030174e+07\n",
              "News                  NaN\n",
              "Reality-TV            NaN\n",
              "Romance      9.913120e+06\n",
              "Sci-Fi      -1.473525e+07\n",
              "Short        9.092670e+05\n",
              "Sport        1.169472e+07\n",
              "Thriller     4.760459e+06\n",
              "War         -2.293626e+07\n",
              "Western      4.805299e+05"
            ]
          },
          "metadata": {},
          "execution_count": 31
        }
      ]
    },
    {
      "cell_type": "code",
      "metadata": {
        "_cell_guid": "f70e1dba-1e61-c29b-d2c0-b193013a4396",
        "id": "iC__aH7KKW_h"
      },
      "source": [
        "df4['profit_million'] = df4['profit']/1000000 #mean numbers is too large , lets divide them to 1m and send result to new column 'profit_million'\n",
        "del df4['profit'] #delete old 'profit' column with large values"
      ],
      "execution_count": null,
      "outputs": []
    },
    {
      "cell_type": "code",
      "metadata": {
        "_cell_guid": "5f3dda9c-8775-2191-f982-c57423c46ce4",
        "id": "dnqxNQzjKW_k"
      },
      "source": [
        "df4.sort_values('profit_million', ascending=False, inplace = True ) #sort by profit_millions with ascending from Max to Min values"
      ],
      "execution_count": null,
      "outputs": []
    },
    {
      "cell_type": "code",
      "metadata": {
        "_cell_guid": "7f47cfa4-2f01-3c60-e056-b560f8b2dbbf",
        "id": "ghRSr8RnKW_n",
        "colab": {
          "base_uri": "https://localhost:8080/",
          "height": 499
        },
        "outputId": "00653bc3-1b03-44e1-b261-ab8c3aef968f"
      },
      "source": [
        "df4[['profit_million']].plot.barh(stacked=True, title = 'Genres by profit (US$ million)', figsize=(8, 8));#make a plot which shows profitable genres"
      ],
      "execution_count": null,
      "outputs": [
        {
          "output_type": "display_data",
          "data": {
            "image/png": "[encoded data removed]",
            "text/plain": [
              "<Figure size 576x576 with 1 Axes>"
            ]
          },
          "metadata": {
            "needs_background": "light"
          }
        }
      ]
    },
    {
      "cell_type": "markdown",
      "metadata": {
        "_cell_guid": "4535581e-cfc8-ff3a-edf0-6e36bbf3e500",
        "id": "kNgWHSs1KW_p"
      },
      "source": [
        "Now we know most stable profitable genres\n"
      ]
    },
    {
      "cell_type": "code",
      "metadata": {
        "_cell_guid": "cc78d586-e4e8-0e6c-89c3-b3a27aba0f47",
        "id": "HbRw-17wKW_q"
      },
      "source": [
        "df5 = df[['movie_title', 'duration','genres']] #make new data frame from original df with listed names"
      ],
      "execution_count": null,
      "outputs": []
    },
    {
      "cell_type": "code",
      "metadata": {
        "_cell_guid": "c0d0f1be-e625-e46d-cfb1-6fba206e1a5e",
        "id": "XimUWAhfKW_s",
        "colab": {
          "base_uri": "https://localhost:8080/",
          "height": 203
        },
        "outputId": "7163acf5-4ef5-4cec-8e30-737c5339f0b8"
      },
      "source": [
        "df5.head() #show them . now we can see movie_title,\tduration and there genres"
      ],
      "execution_count": null,
      "outputs": [
        {
          "output_type": "execute_result",
          "data": {
            "text/html": [
              "<div>\n",
              "<style scoped>\n",
              "    .dataframe tbody tr th:only-of-type {\n",
              "        vertical-align: middle;\n",
              "    }\n",
              "\n",
              "    .dataframe tbody tr th {\n",
              "        vertical-align: top;\n",
              "    }\n",
              "\n",
              "    .dataframe thead th {\n",
              "        text-align: right;\n",
              "    }\n",
              "</style>\n",
              "<table border=\"1\" class=\"dataframe\">\n",
              "  <thead>\n",
              "    <tr style=\"text-align: right;\">\n",
              "      <th></th>\n",
              "      <th>movie_title</th>\n",
              "      <th>duration</th>\n",
              "      <th>genres</th>\n",
              "    </tr>\n",
              "  </thead>\n",
              "  <tbody>\n",
              "    <tr>\n",
              "      <th>0</th>\n",
              "      <td>Avatar</td>\n",
              "      <td>178.0</td>\n",
              "      <td>Action</td>\n",
              "    </tr>\n",
              "    <tr>\n",
              "      <th>0</th>\n",
              "      <td>Avatar</td>\n",
              "      <td>178.0</td>\n",
              "      <td>Adventure</td>\n",
              "    </tr>\n",
              "    <tr>\n",
              "      <th>0</th>\n",
              "      <td>Avatar</td>\n",
              "      <td>178.0</td>\n",
              "      <td>Fantasy</td>\n",
              "    </tr>\n",
              "    <tr>\n",
              "      <th>0</th>\n",
              "      <td>Avatar</td>\n",
              "      <td>178.0</td>\n",
              "      <td>Sci-Fi</td>\n",
              "    </tr>\n",
              "    <tr>\n",
              "      <th>1</th>\n",
              "      <td>Pirates of the Caribbean: At World's End</td>\n",
              "      <td>169.0</td>\n",
              "      <td>Action</td>\n",
              "    </tr>\n",
              "  </tbody>\n",
              "</table>\n",
              "</div>"
            ],
            "text/plain": [
              "                                 movie_title  duration     genres\n",
              "0                                    Avatar      178.0     Action\n",
              "0                                    Avatar      178.0  Adventure\n",
              "0                                    Avatar      178.0    Fantasy\n",
              "0                                    Avatar      178.0     Sci-Fi\n",
              "1  Pirates of the Caribbean: At World's End      169.0     Action"
            ]
          },
          "metadata": {},
          "execution_count": 44
        }
      ]
    },
    {
      "cell_type": "code",
      "metadata": {
        "_cell_guid": "3e336183-feef-3f00-f3e3-5a1720038e4e",
        "id": "4qZrEy4GKW_w"
      },
      "source": [
        "df6 = df5.groupby(['genres']).mean() #make new data frame 'df6' from df5 grouped by genres with mean values of them\n",
        "df6['average_duration']  = df6['duration'].round(2) #round by 2 symbols after point\n",
        "del df6['duration'] #cause we have new rounded duration lets delete old from df6\n",
        "df6.sort_values('average_duration', ascending=False, inplace = True ) #sort table by average_duration from Max to Min"
      ],
      "execution_count": null,
      "outputs": []
    },
    {
      "cell_type": "code",
      "metadata": {
        "_cell_guid": "5e78e47e-9bbc-f29b-b8f2-9116520a0c1b",
        "id": "xICT91HyKW_y",
        "colab": {
          "base_uri": "https://localhost:8080/",
          "height": 881
        },
        "outputId": "2f9e91d8-bf61-496c-bb33-c7a2fe7c1123"
      },
      "source": [
        "df6"
      ],
      "execution_count": null,
      "outputs": [
        {
          "output_type": "execute_result",
          "data": {
            "text/html": [
              "<div>\n",
              "<style scoped>\n",
              "    .dataframe tbody tr th:only-of-type {\n",
              "        vertical-align: middle;\n",
              "    }\n",
              "\n",
              "    .dataframe tbody tr th {\n",
              "        vertical-align: top;\n",
              "    }\n",
              "\n",
              "    .dataframe thead th {\n",
              "        text-align: right;\n",
              "    }\n",
              "</style>\n",
              "<table border=\"1\" class=\"dataframe\">\n",
              "  <thead>\n",
              "    <tr style=\"text-align: right;\">\n",
              "      <th></th>\n",
              "      <th>average_duration</th>\n",
              "    </tr>\n",
              "    <tr>\n",
              "      <th>genres</th>\n",
              "      <th></th>\n",
              "    </tr>\n",
              "  </thead>\n",
              "  <tbody>\n",
              "    <tr>\n",
              "      <th>History</th>\n",
              "      <td>137.05</td>\n",
              "    </tr>\n",
              "    <tr>\n",
              "      <th>War</th>\n",
              "      <td>131.43</td>\n",
              "    </tr>\n",
              "    <tr>\n",
              "      <th>Biography</th>\n",
              "      <td>125.02</td>\n",
              "    </tr>\n",
              "    <tr>\n",
              "      <th>Western</th>\n",
              "      <td>120.14</td>\n",
              "    </tr>\n",
              "    <tr>\n",
              "      <th>Drama</th>\n",
              "      <td>112.88</td>\n",
              "    </tr>\n",
              "    <tr>\n",
              "      <th>Adventure</th>\n",
              "      <td>112.03</td>\n",
              "    </tr>\n",
              "    <tr>\n",
              "      <th>Action</th>\n",
              "      <td>110.99</td>\n",
              "    </tr>\n",
              "    <tr>\n",
              "      <th>Sport</th>\n",
              "      <td>110.23</td>\n",
              "    </tr>\n",
              "    <tr>\n",
              "      <th>Musical</th>\n",
              "      <td>109.51</td>\n",
              "    </tr>\n",
              "    <tr>\n",
              "      <th>Romance</th>\n",
              "      <td>109.35</td>\n",
              "    </tr>\n",
              "    <tr>\n",
              "      <th>Crime</th>\n",
              "      <td>108.50</td>\n",
              "    </tr>\n",
              "    <tr>\n",
              "      <th>Music</th>\n",
              "      <td>108.31</td>\n",
              "    </tr>\n",
              "    <tr>\n",
              "      <th>Thriller</th>\n",
              "      <td>108.09</td>\n",
              "    </tr>\n",
              "    <tr>\n",
              "      <th>Sci-Fi</th>\n",
              "      <td>107.27</td>\n",
              "    </tr>\n",
              "    <tr>\n",
              "      <th>Mystery</th>\n",
              "      <td>106.39</td>\n",
              "    </tr>\n",
              "    <tr>\n",
              "      <th>Fantasy</th>\n",
              "      <td>103.50</td>\n",
              "    </tr>\n",
              "    <tr>\n",
              "      <th>Film-Noir</th>\n",
              "      <td>99.50</td>\n",
              "    </tr>\n",
              "    <tr>\n",
              "      <th>Comedy</th>\n",
              "      <td>99.11</td>\n",
              "    </tr>\n",
              "    <tr>\n",
              "      <th>News</th>\n",
              "      <td>98.67</td>\n",
              "    </tr>\n",
              "    <tr>\n",
              "      <th>Horror</th>\n",
              "      <td>98.13</td>\n",
              "    </tr>\n",
              "    <tr>\n",
              "      <th>Family</th>\n",
              "      <td>97.08</td>\n",
              "    </tr>\n",
              "    <tr>\n",
              "      <th>Documentary</th>\n",
              "      <td>93.71</td>\n",
              "    </tr>\n",
              "    <tr>\n",
              "      <th>Animation</th>\n",
              "      <td>88.36</td>\n",
              "    </tr>\n",
              "    <tr>\n",
              "      <th>Game-Show</th>\n",
              "      <td>60.00</td>\n",
              "    </tr>\n",
              "    <tr>\n",
              "      <th>Reality-TV</th>\n",
              "      <td>51.50</td>\n",
              "    </tr>\n",
              "    <tr>\n",
              "      <th>Short</th>\n",
              "      <td>26.40</td>\n",
              "    </tr>\n",
              "  </tbody>\n",
              "</table>\n",
              "</div>"
            ],
            "text/plain": [
              "             average_duration\n",
              "genres                       \n",
              "History                137.05\n",
              "War                    131.43\n",
              "Biography              125.02\n",
              "Western                120.14\n",
              "Drama                  112.88\n",
              "Adventure              112.03\n",
              "Action                 110.99\n",
              "Sport                  110.23\n",
              "Musical                109.51\n",
              "Romance                109.35\n",
              "Crime                  108.50\n",
              "Music                  108.31\n",
              "Thriller               108.09\n",
              "Sci-Fi                 107.27\n",
              "Mystery                106.39\n",
              "Fantasy                103.50\n",
              "Film-Noir               99.50\n",
              "Comedy                  99.11\n",
              "News                    98.67\n",
              "Horror                  98.13\n",
              "Family                  97.08\n",
              "Documentary             93.71\n",
              "Animation               88.36\n",
              "Game-Show               60.00\n",
              "Reality-TV              51.50\n",
              "Short                   26.40"
            ]
          },
          "metadata": {},
          "execution_count": 47
        }
      ]
    },
    {
      "cell_type": "code",
      "metadata": {
        "_cell_guid": "2a958cee-dca8-3b89-1d92-60f7f7b99e34",
        "id": "vTHJygSUKW_1",
        "colab": {
          "base_uri": "https://localhost:8080/",
          "height": 499
        },
        "outputId": "5db731cc-46ab-4c3b-cff2-0a77e0f89dc9"
      },
      "source": [
        "df6[['average_duration']].plot.barh(stacked=True, title = 'Average Duration by Genre (minutes)', figsize=(8, 8)); #make a plot with default ascending = True .  which shows relations between film genres and average duration"
      ],
      "execution_count": null,
      "outputs": [
        {
          "output_type": "display_data",
          "data": {
            "image/png": "[encoded data removed]",
            "text/plain": [
              "<Figure size 576x576 with 1 Axes>"
            ]
          },
          "metadata": {
            "needs_background": "light"
          }
        }
      ]
    },
    {
      "cell_type": "markdown",
      "metadata": {
        "_cell_guid": "bd294145-3ba2-d1f1-6dbf-04cb3ce60622",
        "id": "S17ZxUxpKW_4"
      },
      "source": [
        "Know we know that history movies are the longest in average"
      ]
    },
    {
      "cell_type": "code",
      "metadata": {
        "_cell_guid": "1ea53d80-edc3-139c-6255-6d53d25a257d",
        "id": "SDsMm6MBKW_4"
      },
      "source": [
        "df7 = df[['title_year','genres']] #make new data frame from original dataframe with listed attributes"
      ],
      "execution_count": null,
      "outputs": []
    },
    {
      "cell_type": "code",
      "metadata": {
        "_cell_guid": "d7c90ab7-8e90-de2e-8785-b4f4362494c5",
        "id": "ZuOaoi8oKW_7",
        "colab": {
          "base_uri": "https://localhost:8080/",
          "height": 203
        },
        "outputId": "4d104018-a80d-4109-f928-c7c8c3c0fea7"
      },
      "source": [
        "df7.head() #show them"
      ],
      "execution_count": null,
      "outputs": [
        {
          "output_type": "execute_result",
          "data": {
            "text/html": [
              "<div>\n",
              "<style scoped>\n",
              "    .dataframe tbody tr th:only-of-type {\n",
              "        vertical-align: middle;\n",
              "    }\n",
              "\n",
              "    .dataframe tbody tr th {\n",
              "        vertical-align: top;\n",
              "    }\n",
              "\n",
              "    .dataframe thead th {\n",
              "        text-align: right;\n",
              "    }\n",
              "</style>\n",
              "<table border=\"1\" class=\"dataframe\">\n",
              "  <thead>\n",
              "    <tr style=\"text-align: right;\">\n",
              "      <th></th>\n",
              "      <th>title_year</th>\n",
              "      <th>genres</th>\n",
              "    </tr>\n",
              "  </thead>\n",
              "  <tbody>\n",
              "    <tr>\n",
              "      <th>0</th>\n",
              "      <td>2009.0</td>\n",
              "      <td>Action</td>\n",
              "    </tr>\n",
              "    <tr>\n",
              "      <th>0</th>\n",
              "      <td>2009.0</td>\n",
              "      <td>Adventure</td>\n",
              "    </tr>\n",
              "    <tr>\n",
              "      <th>0</th>\n",
              "      <td>2009.0</td>\n",
              "      <td>Fantasy</td>\n",
              "    </tr>\n",
              "    <tr>\n",
              "      <th>0</th>\n",
              "      <td>2009.0</td>\n",
              "      <td>Sci-Fi</td>\n",
              "    </tr>\n",
              "    <tr>\n",
              "      <th>1</th>\n",
              "      <td>2007.0</td>\n",
              "      <td>Action</td>\n",
              "    </tr>\n",
              "  </tbody>\n",
              "</table>\n",
              "</div>"
            ],
            "text/plain": [
              "   title_year     genres\n",
              "0      2009.0     Action\n",
              "0      2009.0  Adventure\n",
              "0      2009.0    Fantasy\n",
              "0      2009.0     Sci-Fi\n",
              "1      2007.0     Action"
            ]
          },
          "metadata": {},
          "execution_count": 54
        }
      ]
    },
    {
      "cell_type": "code",
      "metadata": {
        "_cell_guid": "6cf0cfc8-092b-edb2-6907-3921bc7cebb5",
        "id": "7Ty-kaG3KW_-",
        "colab": {
          "base_uri": "https://localhost:8080/"
        },
        "outputId": "f9ba399c-2853-43e5-e42a-7fc27bca970f"
      },
      "source": [
        "df7.shape #show size"
      ],
      "execution_count": null,
      "outputs": [
        {
          "output_type": "execute_result",
          "data": {
            "text/plain": [
              "(14504, 2)"
            ]
          },
          "metadata": {},
          "execution_count": 55
        }
      ]
    },
    {
      "cell_type": "markdown",
      "metadata": {
        "_cell_guid": "1d5b32d0-9303-bda7-30f7-558b0b40aef9",
        "id": "upxLc47oKXAA"
      },
      "source": [
        "Now we have all years log of genres . Let's filter them and find out HOW many genres were released after 2005"
      ]
    },
    {
      "cell_type": "code",
      "metadata": {
        "_cell_guid": "f92db7bf-6882-8417-959c-ddbf0191fdc9",
        "id": "v4HBoet9KXAB"
      },
      "source": [
        "df8 = df7[df7['title_year']>2005] #make new dataframe from df7 with attribute from df7 'title_year' which IS LARGER than 2005"
      ],
      "execution_count": null,
      "outputs": []
    },
    {
      "cell_type": "code",
      "metadata": {
        "_cell_guid": "eed54f95-33d8-03b7-e821-35d644fd471e",
        "id": "w-9FdWH6KXAF",
        "colab": {
          "base_uri": "https://localhost:8080/"
        },
        "outputId": "dc014983-8549-4cfb-9d2f-b08f96151138"
      },
      "source": [
        "df8.shape #size of new dataframe'df8' . Now we know "
      ],
      "execution_count": null,
      "outputs": [
        {
          "output_type": "execute_result",
          "data": {
            "text/plain": [
              "(6848, 2)"
            ]
          },
          "metadata": {},
          "execution_count": 58
        }
      ]
    },
    {
      "cell_type": "markdown",
      "metadata": {
        "_cell_guid": "ff7ec973-a38f-eecc-525b-17d6ff1bcd96",
        "id": "Gmj-S8RdKXAH"
      },
      "source": [
        "How many Thrillers? How Many Thrillers each year from 2005?"
      ]
    },
    {
      "cell_type": "code",
      "metadata": {
        "_cell_guid": "38355ead-1b97-0d2e-c76e-a11cc34c414a",
        "id": "-U2JlYA9KXAI"
      },
      "source": [
        "df9 = df8[df8['genres'] == 'Thriller'] # make new dataframe from dataframe 'df8' with attribute 'genres' from df8 which equel 'Triller'"
      ],
      "execution_count": null,
      "outputs": []
    },
    {
      "cell_type": "code",
      "metadata": {
        "_cell_guid": "132243e2-23cf-cfaa-9b85-c28912a7c26f",
        "id": "9HpCV2HRKXAL",
        "colab": {
          "base_uri": "https://localhost:8080/"
        },
        "outputId": "4e4430f8-26df-4568-fb70-395ec777e2e3"
      },
      "source": [
        "df9.shape #dataframe size .Now we know amount of Trillers .  "
      ],
      "execution_count": null,
      "outputs": [
        {
          "output_type": "execute_result",
          "data": {
            "text/plain": [
              "(687, 2)"
            ]
          },
          "metadata": {},
          "execution_count": 63
        }
      ]
    },
    {
      "cell_type": "code",
      "metadata": {
        "_cell_guid": "66a43a12-fa1b-916d-0537-431a3b7822f3",
        "id": "eCYpOEs1KXAP"
      },
      "source": [
        "df10 = df9.groupby(['title_year']).count() #make new dataframe from datafram 'df10' . Group df by title_year and count numbers of Thrillers ."
      ],
      "execution_count": null,
      "outputs": []
    },
    {
      "cell_type": "code",
      "metadata": {
        "_cell_guid": "c9ac8a27-9de1-78f8-7688-2d7a4599b770",
        "id": "hrstHGMKKXAS",
        "colab": {
          "base_uri": "https://localhost:8080/",
          "height": 418
        },
        "outputId": "7a5c7f29-7c23-4812-970f-234b9e7ee6e9"
      },
      "source": [
        "df10 #Now we know how much Thrillers were done in definite year"
      ],
      "execution_count": null,
      "outputs": [
        {
          "output_type": "execute_result",
          "data": {
            "text/html": [
              "<div>\n",
              "<style scoped>\n",
              "    .dataframe tbody tr th:only-of-type {\n",
              "        vertical-align: middle;\n",
              "    }\n",
              "\n",
              "    .dataframe tbody tr th {\n",
              "        vertical-align: top;\n",
              "    }\n",
              "\n",
              "    .dataframe thead th {\n",
              "        text-align: right;\n",
              "    }\n",
              "</style>\n",
              "<table border=\"1\" class=\"dataframe\">\n",
              "  <thead>\n",
              "    <tr style=\"text-align: right;\">\n",
              "      <th></th>\n",
              "      <th>genres</th>\n",
              "    </tr>\n",
              "    <tr>\n",
              "      <th>title_year</th>\n",
              "      <th></th>\n",
              "    </tr>\n",
              "  </thead>\n",
              "  <tbody>\n",
              "    <tr>\n",
              "      <th>2006.0</th>\n",
              "      <td>62</td>\n",
              "    </tr>\n",
              "    <tr>\n",
              "      <th>2007.0</th>\n",
              "      <td>55</td>\n",
              "    </tr>\n",
              "    <tr>\n",
              "      <th>2008.0</th>\n",
              "      <td>56</td>\n",
              "    </tr>\n",
              "    <tr>\n",
              "      <th>2009.0</th>\n",
              "      <td>69</td>\n",
              "    </tr>\n",
              "    <tr>\n",
              "      <th>2010.0</th>\n",
              "      <td>60</td>\n",
              "    </tr>\n",
              "    <tr>\n",
              "      <th>2011.0</th>\n",
              "      <td>67</td>\n",
              "    </tr>\n",
              "    <tr>\n",
              "      <th>2012.0</th>\n",
              "      <td>65</td>\n",
              "    </tr>\n",
              "    <tr>\n",
              "      <th>2013.0</th>\n",
              "      <td>68</td>\n",
              "    </tr>\n",
              "    <tr>\n",
              "      <th>2014.0</th>\n",
              "      <td>80</td>\n",
              "    </tr>\n",
              "    <tr>\n",
              "      <th>2015.0</th>\n",
              "      <td>77</td>\n",
              "    </tr>\n",
              "    <tr>\n",
              "      <th>2016.0</th>\n",
              "      <td>28</td>\n",
              "    </tr>\n",
              "  </tbody>\n",
              "</table>\n",
              "</div>"
            ],
            "text/plain": [
              "            genres\n",
              "title_year        \n",
              "2006.0          62\n",
              "2007.0          55\n",
              "2008.0          56\n",
              "2009.0          69\n",
              "2010.0          60\n",
              "2011.0          67\n",
              "2012.0          65\n",
              "2013.0          68\n",
              "2014.0          80\n",
              "2015.0          77\n",
              "2016.0          28"
            ]
          },
          "metadata": {},
          "execution_count": 68
        }
      ]
    },
    {
      "cell_type": "code",
      "metadata": {
        "_cell_guid": "ab29fdaf-b55f-292c-b1a7-5e4ec0970fb1",
        "id": "9MvB_Og-KXAU",
        "colab": {
          "base_uri": "https://localhost:8080/",
          "height": 499
        },
        "outputId": "1968897d-315a-4c46-e98b-a5b6ffd570bd"
      },
      "source": [
        "df10[['genres']].plot.barh(stacked=True, title = 'Thrillers Released (By Year)', figsize=(8, 8)); #Thrillers released by year"
      ],
      "execution_count": null,
      "outputs": [
        {
          "output_type": "display_data",
          "data": {
            "image/png": "[encoded data removed]",
            "text/plain": [
              "<Figure size 576x576 with 1 Axes>"
            ]
          },
          "metadata": {
            "needs_background": "light"
          }
        }
      ]
    },
    {
      "cell_type": "markdown",
      "metadata": {
        "_cell_guid": "bb5e44b6-e976-aa63-0c4b-ec476c621564",
        "id": "aEmfb3pvKXAW"
      },
      "source": [
        "How many Mystery movies? How many Mystery movies from 2005?"
      ]
    },
    {
      "cell_type": "code",
      "metadata": {
        "_cell_guid": "5a973d9b-6257-d296-6ab0-45ffa6a5b4c0",
        "id": "q4kBl-GYKXAX"
      },
      "source": [
        "df11 = df8[df8['genres'] == 'Mystery'] #make new dataframe df11 from dataframe 'df8' with attribute 'genres' which equel 'Mystery'"
      ],
      "execution_count": null,
      "outputs": []
    },
    {
      "cell_type": "code",
      "metadata": {
        "_cell_guid": "d75d20dd-5114-2ce2-ac99-d65a3aa2adb3",
        "id": "3uXIDyMAKXAZ",
        "colab": {
          "base_uri": "https://localhost:8080/"
        },
        "outputId": "0825f36c-ca3f-43ee-f936-04eddefcdeb2"
      },
      "source": [
        "df11.shape #size . Now we know amount of Mystery movies from df11"
      ],
      "execution_count": null,
      "outputs": [
        {
          "output_type": "execute_result",
          "data": {
            "text/plain": [
              "(235, 2)"
            ]
          },
          "metadata": {},
          "execution_count": 72
        }
      ]
    },
    {
      "cell_type": "code",
      "metadata": {
        "_cell_guid": "ea83779c-6e84-2e41-de05-abefe6f4cf51",
        "id": "OsQpFLQYKXAc"
      },
      "source": [
        "df12 = df11.groupby(['title_year']).count() # group by title year ' How much Mystery movies released in definite year"
      ],
      "execution_count": null,
      "outputs": []
    },
    {
      "cell_type": "code",
      "metadata": {
        "_cell_guid": "bcb3d204-8b32-10dd-b4a4-bd34f236b89c",
        "id": "uxl_UcndKXAg",
        "colab": {
          "base_uri": "https://localhost:8080/",
          "height": 418
        },
        "outputId": "580f6a8c-0e04-444e-ddb3-32b2d6d8da26"
      },
      "source": [
        "df12 #now we know"
      ],
      "execution_count": null,
      "outputs": [
        {
          "output_type": "execute_result",
          "data": {
            "text/html": [
              "<div>\n",
              "<style scoped>\n",
              "    .dataframe tbody tr th:only-of-type {\n",
              "        vertical-align: middle;\n",
              "    }\n",
              "\n",
              "    .dataframe tbody tr th {\n",
              "        vertical-align: top;\n",
              "    }\n",
              "\n",
              "    .dataframe thead th {\n",
              "        text-align: right;\n",
              "    }\n",
              "</style>\n",
              "<table border=\"1\" class=\"dataframe\">\n",
              "  <thead>\n",
              "    <tr style=\"text-align: right;\">\n",
              "      <th></th>\n",
              "      <th>genres</th>\n",
              "    </tr>\n",
              "    <tr>\n",
              "      <th>title_year</th>\n",
              "      <th></th>\n",
              "    </tr>\n",
              "  </thead>\n",
              "  <tbody>\n",
              "    <tr>\n",
              "      <th>2006.0</th>\n",
              "      <td>23</td>\n",
              "    </tr>\n",
              "    <tr>\n",
              "      <th>2007.0</th>\n",
              "      <td>21</td>\n",
              "    </tr>\n",
              "    <tr>\n",
              "      <th>2008.0</th>\n",
              "      <td>20</td>\n",
              "    </tr>\n",
              "    <tr>\n",
              "      <th>2009.0</th>\n",
              "      <td>33</td>\n",
              "    </tr>\n",
              "    <tr>\n",
              "      <th>2010.0</th>\n",
              "      <td>18</td>\n",
              "    </tr>\n",
              "    <tr>\n",
              "      <th>2011.0</th>\n",
              "      <td>24</td>\n",
              "    </tr>\n",
              "    <tr>\n",
              "      <th>2012.0</th>\n",
              "      <td>17</td>\n",
              "    </tr>\n",
              "    <tr>\n",
              "      <th>2013.0</th>\n",
              "      <td>13</td>\n",
              "    </tr>\n",
              "    <tr>\n",
              "      <th>2014.0</th>\n",
              "      <td>28</td>\n",
              "    </tr>\n",
              "    <tr>\n",
              "      <th>2015.0</th>\n",
              "      <td>27</td>\n",
              "    </tr>\n",
              "    <tr>\n",
              "      <th>2016.0</th>\n",
              "      <td>11</td>\n",
              "    </tr>\n",
              "  </tbody>\n",
              "</table>\n",
              "</div>"
            ],
            "text/plain": [
              "            genres\n",
              "title_year        \n",
              "2006.0          23\n",
              "2007.0          21\n",
              "2008.0          20\n",
              "2009.0          33\n",
              "2010.0          18\n",
              "2011.0          24\n",
              "2012.0          17\n",
              "2013.0          13\n",
              "2014.0          28\n",
              "2015.0          27\n",
              "2016.0          11"
            ]
          },
          "metadata": {},
          "execution_count": 74
        }
      ]
    },
    {
      "cell_type": "code",
      "metadata": {
        "_cell_guid": "969104b6-56aa-3dfa-fb73-dc6ae2e03b1a",
        "id": "s5VN_WIJKXAj",
        "colab": {
          "base_uri": "https://localhost:8080/",
          "height": 499
        },
        "outputId": "5d832b2e-752a-4277-9c0b-bac9ce3d3d3c"
      },
      "source": [
        "df10[['genres']].plot.barh(stacked=True, title = 'Mysteries Released (By Year)', figsize=(8, 8)); #plot"
      ],
      "execution_count": null,
      "outputs": [
        {
          "output_type": "display_data",
          "data": {
            "image/png": "[encoded data removed]",
            "text/plain": [
              "<Figure size 576x576 with 1 Axes>"
            ]
          },
          "metadata": {
            "needs_background": "light"
          }
        }
      ]
    },
    {
      "cell_type": "markdown",
      "metadata": {
        "_cell_guid": "cf319a39-c86f-fd47-ea6e-fd22b1eb08b8",
        "id": "TkLFioGlKXAm"
      },
      "source": [
        "Now we know that 2014 was 'Mystery YEAR'. Mystery genre have a great growth from 2006 to 2015. In 2016 mystery genre wasn't popular"
      ]
    }
  ]
}